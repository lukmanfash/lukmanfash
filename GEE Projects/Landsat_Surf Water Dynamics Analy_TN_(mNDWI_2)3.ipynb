{
 "cells": [
  {
   "cell_type": "markdown",
   "id": "5adff225",
   "metadata": {},
   "source": [
    "## mNDWI_2: \n",
    "Data: Landsat\n",
    "\n",
    "\n",
    "MNDWI2 = (Green – SWIR2)/(Green + SWIR2)"
   ]
  },
  {
   "cell_type": "code",
   "execution_count": 1,
   "id": "c4b7329b",
   "metadata": {},
   "outputs": [],
   "source": [
    "import ee\n",
    "import geemap"
   ]
  },
  {
   "cell_type": "code",
   "execution_count": 2,
   "id": "dfe80ea8",
   "metadata": {},
   "outputs": [],
   "source": [
    "Map = geemap.Map()"
   ]
  },
  {
   "cell_type": "code",
   "execution_count": 3,
   "id": "7980627e",
   "metadata": {},
   "outputs": [],
   "source": [
    "roi = ee.FeatureCollection('TIGER/2018/States').filter(\n",
    "    ee.Filter.eq('NAME', 'Tennessee')\n",
    ")\n",
    "Map.addLayer(roi, {}, \"TN\")\n",
    "Map.centerObject(roi, 7)"
   ]
  },
  {
   "cell_type": "code",
   "execution_count": 4,
   "id": "08479d53",
   "metadata": {},
   "outputs": [],
   "source": [
    "images = geemap.landsat_timeseries(\n",
    "    roi=roi, start_year=2010, end_year=2020, start_date='01-01', end_date='12-31'\n",
    ")"
   ]
  },
  {
   "cell_type": "code",
   "execution_count": 5,
   "id": "1b9b0426",
   "metadata": {},
   "outputs": [],
   "source": [
    "first = images.first()\n",
    "\n",
    "vis_params = {'bands': ['NIR', 'Red', 'Green'], 'min': 0, 'max': 3000}\n",
    "\n",
    "Map.addLayer(first, vis_params, 'First image')"
   ]
  },
  {
   "cell_type": "code",
   "execution_count": 6,
   "id": "599f0201",
   "metadata": {},
   "outputs": [],
   "source": [
    "ndwi_images = images.map(\n",
    "    lambda img: img.normalizedDifference(['Green', 'SWIR2']).rename('ndwi')\n",
    ")\n",
    "\n",
    "ndwi_palette = [\n",
    "    '#ece7f2',\n",
    "    '#d0d1e6',\n",
    "    '#a6bddb',\n",
    "    '#74a9cf',\n",
    "    '#3690c0',\n",
    "    '#0570b0',\n",
    "    '#045a8d',\n",
    "    '#023858',\n",
    "]\n",
    "\n",
    "first_ndwi = ndwi_images.first()\n",
    "\n",
    "Map.addLayer(first_ndwi, {'palette': ndwi_palette}, 'First NDWI')"
   ]
  },
  {
   "cell_type": "code",
   "execution_count": 7,
   "id": "5690bb29",
   "metadata": {},
   "outputs": [],
   "source": [
    "water_images = ndwi_images.map(lambda img: img.gt(0).selfMask())\n",
    "\n",
    "first_water = water_images.first()\n",
    "\n",
    "Map.addLayer(first_water, {'palette': ['blue']}, 'First Water')"
   ]
  },
  {
   "cell_type": "code",
   "execution_count": 8,
   "id": "415f06d4",
   "metadata": {},
   "outputs": [],
   "source": [
    "def cal_area(img):\n",
    "    pixel_area = img.multiply(ee.Image.pixelArea()).divide(1e6)\n",
    "    img_area = pixel_area.reduceRegion(\n",
    "        **{\n",
    "            'geometry': roi.geometry(),\n",
    "            'reducer': ee.Reducer.sum(),\n",
    "            'scale': 1000,\n",
    "            'maxPixels': 1e12,\n",
    "        }\n",
    "    )\n",
    "    return img.set({'water_area': img_area})"
   ]
  },
  {
   "cell_type": "code",
   "execution_count": 9,
   "id": "99232671",
   "metadata": {},
   "outputs": [],
   "source": [
    "water_areas = water_images.map(cal_area)"
   ]
  },
  {
   "cell_type": "code",
   "execution_count": 10,
   "id": "c74e02fb",
   "metadata": {},
   "outputs": [
    {
     "data": {
      "text/plain": [
       "[{'ndwi': 1505.4851238026977},\n",
       " {'ndwi': 1652.335257114957},\n",
       " {'ndwi': 1319.2197052656898},\n",
       " {'ndwi': 1482.0691460063738},\n",
       " {'ndwi': 1369.4513685791712},\n",
       " {'ndwi': 1351.0899842102976},\n",
       " {'ndwi': 1211.6792573490225},\n",
       " {'ndwi': 1246.1288602245115},\n",
       " {'ndwi': 1636.9557392384825},\n",
       " {'ndwi': 1513.9416105764742},\n",
       " {'ndwi': 1693.5187259931392}]"
      ]
     },
     "execution_count": 10,
     "metadata": {},
     "output_type": "execute_result"
    }
   ],
   "source": [
    "water_stats = water_areas.aggregate_array('water_area').getInfo()\n",
    "water_stats"
   ]
  },
  {
   "cell_type": "code",
   "execution_count": 11,
   "id": "7164d282",
   "metadata": {},
   "outputs": [
    {
     "data": {
      "image/png": "[encoded data removed]",
      "text/plain": [
       "<Figure size 640x480 with 1 Axes>"
      ]
     },
     "metadata": {},
     "output_type": "display_data"
    }
   ],
   "source": [
    "import matplotlib.pyplot as plt\n",
    "\n",
    "x = list(range(2010, 2021))\n",
    "y = [item.get('ndwi') for item in water_stats]\n",
    "\n",
    "plt.bar(x, y, width=0.9, align='center', alpha=0.5)\n",
    "# plt.xticks(y_pos, objects)\n",
    "plt.ylabel('Area (km2)')\n",
    "plt.title('Surface water dynamics in Tennessee 2010 - 2020')\n",
    "\n",
    "plt.show()"
   ]
  },
  {
   "cell_type": "code",
   "execution_count": 12,
   "id": "bea4ebbc",
   "metadata": {},
   "outputs": [
    {
     "data": {
      "application/vnd.jupyter.widget-view+json": {
       "model_id": "e7325dc788b641498864bf6f91e1fc70",
       "version_major": 2,
       "version_minor": 0
      },
      "text/plain": [
       "Map(center=[35.8579904338385, -86.35074162079951], controls=(WidgetControl(options=['position', 'transparent_b…"
      ]
     },
     "metadata": {},
     "output_type": "display_data"
    }
   ],
   "source": [
    "Map.addLayerControl()\n",
    "Map"
   ]
  },
  {
   "cell_type": "code",
   "execution_count": null,
   "id": "f0926f89",
   "metadata": {},
   "outputs": [],
   "source": []
  }
 ],
 "metadata": {
  "kernelspec": {
   "display_name": "Python 3 (ipykernel)",
   "language": "python",
   "name": "python3"
  },
  "language_info": {
   "codemirror_mode": {
    "name": "ipython",
    "version": 3
   },
   "file_extension": ".py",
   "mimetype": "text/x-python",
   "name": "python",
   "nbconvert_exporter": "python",
   "pygments_lexer": "ipython3",
   "version": "3.10.4"
  }
 },
 "nbformat": 4,
 "nbformat_minor": 5
}
