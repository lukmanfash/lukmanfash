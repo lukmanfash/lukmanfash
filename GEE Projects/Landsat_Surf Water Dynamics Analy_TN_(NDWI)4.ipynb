{
 "cells": [
  {
   "cell_type": "markdown",
   "id": "d6b0931a",
   "metadata": {},
   "source": [
    "## NDWI = (Green − NIR)/(Green + NIR)\n",
    "\n",
    "Data: Landsat"
   ]
  },
  {
   "cell_type": "code",
   "execution_count": 1,
   "id": "07a5621c",
   "metadata": {},
   "outputs": [],
   "source": [
    "import ee\n",
    "import geemap"
   ]
  },
  {
   "cell_type": "code",
   "execution_count": 2,
   "id": "4ab282f6",
   "metadata": {},
   "outputs": [],
   "source": [
    "Map = geemap.Map()"
   ]
  },
  {
   "cell_type": "code",
   "execution_count": 3,
   "id": "cc1d1ec5",
   "metadata": {},
   "outputs": [],
   "source": [
    "roi = ee.FeatureCollection('TIGER/2018/States').filter(\n",
    "    ee.Filter.eq('NAME', 'Tennessee')\n",
    ")\n",
    "Map.addLayer(roi, {}, \"TN\")\n",
    "Map.centerObject(roi, 7)"
   ]
  },
  {
   "cell_type": "code",
   "execution_count": 4,
   "id": "e937a77d",
   "metadata": {},
   "outputs": [],
   "source": [
    "images = geemap.landsat_timeseries(\n",
    "    roi=roi, start_year=2010, end_year=2020, start_date='01-01', end_date='12-31'\n",
    ")"
   ]
  },
  {
   "cell_type": "code",
   "execution_count": 5,
   "id": "7bdb1271",
   "metadata": {},
   "outputs": [],
   "source": [
    "first = images.first()\n",
    "\n",
    "vis_params = {'bands': ['NIR', 'Red', 'Green'], 'min': 0, 'max': 3000}\n",
    "\n",
    "Map.addLayer(first, vis_params, 'First image')"
   ]
  },
  {
   "cell_type": "code",
   "execution_count": 6,
   "id": "634041ce",
   "metadata": {},
   "outputs": [],
   "source": [
    "ndwi_images = images.map(\n",
    "    lambda img: img.normalizedDifference(['Green', 'NIR']).rename('ndwi')\n",
    ")\n",
    "\n",
    "ndwi_palette = [\n",
    "    '#ece7f2',\n",
    "    '#d0d1e6',\n",
    "    '#a6bddb',\n",
    "    '#74a9cf',\n",
    "    '#3690c0',\n",
    "    '#0570b0',\n",
    "    '#045a8d',\n",
    "    '#023858',\n",
    "]\n",
    "\n",
    "first_ndwi = ndwi_images.first()\n",
    "\n",
    "Map.addLayer(first_ndwi, {'palette': ndwi_palette}, 'First NDWI')"
   ]
  },
  {
   "cell_type": "code",
   "execution_count": 7,
   "id": "027f10c0",
   "metadata": {},
   "outputs": [],
   "source": [
    "water_images = ndwi_images.map(lambda img: img.gt(0).selfMask())\n",
    "\n",
    "first_water = water_images.first()\n",
    "\n",
    "Map.addLayer(first_water, {'palette': ['blue']}, 'First Water')"
   ]
  },
  {
   "cell_type": "code",
   "execution_count": 8,
   "id": "e6e030e2",
   "metadata": {},
   "outputs": [],
   "source": [
    "def cal_area(img):\n",
    "    pixel_area = img.multiply(ee.Image.pixelArea()).divide(1e6)\n",
    "    img_area = pixel_area.reduceRegion(\n",
    "        **{\n",
    "            'geometry': roi.geometry(),\n",
    "            'reducer': ee.Reducer.sum(),\n",
    "            'scale': 1000,\n",
    "            'maxPixels': 1e12,\n",
    "        }\n",
    "    )\n",
    "    return img.set({'water_area': img_area})"
   ]
  },
  {
   "cell_type": "code",
   "execution_count": 9,
   "id": "0c5059a5",
   "metadata": {},
   "outputs": [],
   "source": [
    "water_areas = water_images.map(cal_area)"
   ]
  },
  {
   "cell_type": "code",
   "execution_count": 10,
   "id": "7aad1a86",
   "metadata": {},
   "outputs": [
    {
     "data": {
      "text/plain": [
       "[{'ndwi': 190.27880698529424},\n",
       " {'ndwi': 172.13400571200984},\n",
       " {'ndwi': 189.66535486250012},\n",
       " {'ndwi': 253.72756076372542},\n",
       " {'ndwi': 274.12814106151956},\n",
       " {'ndwi': 225.45507405686277},\n",
       " {'ndwi': 259.3425265877451},\n",
       " {'ndwi': 240.90428171764697},\n",
       " {'ndwi': 253.25578647352938},\n",
       " {'ndwi': 285.1482845705882},\n",
       " {'ndwi': 269.88373494436274}]"
      ]
     },
     "execution_count": 10,
     "metadata": {},
     "output_type": "execute_result"
    }
   ],
   "source": [
    "water_stats = water_areas.aggregate_array('water_area').getInfo()\n",
    "water_stats"
   ]
  },
  {
   "cell_type": "code",
   "execution_count": 11,
   "id": "28588cfd",
   "metadata": {},
   "outputs": [
    {
     "data": {
      "image/png": "[encoded data removed]",
      "text/plain": [
       "<Figure size 640x480 with 1 Axes>"
      ]
     },
     "metadata": {},
     "output_type": "display_data"
    }
   ],
   "source": [
    "import matplotlib.pyplot as plt\n",
    "\n",
    "x = list(range(2010, 2021))\n",
    "y = [item.get('ndwi') for item in water_stats]\n",
    "\n",
    "plt.bar(x, y, width=0.9, align='center', alpha=0.5)\n",
    "# plt.xticks(y_pos, objects)\n",
    "plt.ylabel('Area (km2)')\n",
    "plt.title('Surface water dynamics in Tennessee 2010 - 2020')\n",
    "\n",
    "plt.show()"
   ]
  },
  {
   "cell_type": "code",
   "execution_count": 12,
   "id": "f4fd10a0",
   "metadata": {},
   "outputs": [
    {
     "data": {
      "application/vnd.jupyter.widget-view+json": {
       "model_id": "db7b3570a2494bb6b1028c5e5a33bc00",
       "version_major": 2,
       "version_minor": 0
      },
      "text/plain": [
       "Map(center=[35.8579904338385, -86.35074162079951], controls=(WidgetControl(options=['position', 'transparent_b…"
      ]
     },
     "metadata": {},
     "output_type": "display_data"
    }
   ],
   "source": [
    "Map.addLayerControl()\n",
    "Map"
   ]
  },
  {
   "cell_type": "code",
   "execution_count": null,
   "id": "ba714a54",
   "metadata": {},
   "outputs": [],
   "source": []
  }
 ],
 "metadata": {
  "kernelspec": {
   "display_name": "Python 3 (ipykernel)",
   "language": "python",
   "name": "python3"
  },
  "language_info": {
   "codemirror_mode": {
    "name": "ipython",
    "version": 3
   },
   "file_extension": ".py",
   "mimetype": "text/x-python",
   "name": "python",
   "nbconvert_exporter": "python",
   "pygments_lexer": "ipython3",
   "version": "3.10.4"
  }
 },
 "nbformat": 4,
 "nbformat_minor": 5
}
