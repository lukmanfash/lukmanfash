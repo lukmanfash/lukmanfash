{
  "cells": [
    {
      "cell_type": "markdown",
      "metadata": {
        "id": "view-in-github",
        "colab_type": "text"
      },
      "source": [
        "<a href=\"https://colab.research.google.com/github/lukmanfash/lukmanfash/blob/main/Project_data_exp_geemapGEE.ipynb\" target=\"_parent\"><img src=\"https://colab.research.google.com/assets/colab-badge.svg\" alt=\"Open In Colab\"/></a>"
      ]
    },
    {
      "cell_type": "code",
      "execution_count": null,
      "id": "1a0250b9",
      "metadata": {
        "id": "1a0250b9"
      },
      "outputs": [],
      "source": [
        "import ee\n",
        "import geemap\n",
        "geemap.ee_initialize()"
      ]
    },
    {
      "cell_type": "code",
      "execution_count": null,
      "id": "3a63a761",
      "metadata": {
        "id": "3a63a761"
      },
      "outputs": [],
      "source": [
        "import pandas as pd\n",
        "import numpy as np\n",
        "import matplotlib.pyplot as plt\n",
        "from unicodedata import normalize"
      ]
    },
    {
      "cell_type": "code",
      "execution_count": null,
      "id": "8e61f87c",
      "metadata": {
        "scrolled": true,
        "id": "8e61f87c"
      },
      "outputs": [],
      "source": [
        "Map = geemap.Map()\n",
        "States = ee.FeatureCollection('TIGER/2018/States')\n",
        "PA = States.filter(ee.Filter.eq('NAME', 'Pennsylvania'))\n",
        "Map.addLayer(PA, {}, 'PennSt')\n",
        "Map.centerObject(PA)\n",
        "Map"
      ]
    },
    {
      "cell_type": "code",
      "execution_count": null,
      "id": "19fe69f6",
      "metadata": {
        "id": "19fe69f6"
      },
      "outputs": [],
      "source": [
        "pa_area = Map.user_roi"
      ]
    },
    {
      "cell_type": "code",
      "execution_count": null,
      "id": "9bdc5b1d",
      "metadata": {
        "id": "9bdc5b1d"
      },
      "outputs": [],
      "source": [
        "# dataset = ee.Image('USGS/SRTMGL1_003').clipToCollection(PA)\n",
        "# elevation = dataset.select('elevation')\n",
        "# slope = ee.Terrain.slope(elevation)\n",
        "# Map.centerObject(PA)\n",
        "# Map.addLayer(slope, {'min': 0, 'max': 60}, 'slope')\n",
        "# Map"
      ]
    },
    {
      "cell_type": "code",
      "execution_count": null,
      "id": "0a0a1d2c",
      "metadata": {
        "scrolled": true,
        "id": "0a0a1d2c"
      },
      "outputs": [],
      "source": [
        "dataset = ee.Image('USGS/SRTMGL1_003').clipToCollection(PA)\n",
        "elevation = dataset.select('elevation')\n",
        "slope = ee.Terrain.slope(elevation)\n",
        "Map.centerObject(PA)\n",
        "Map.addLayer(slope, {'min': 0, 'max': 60}, 'slope')\n",
        "Map"
      ]
    },
    {
      "cell_type": "code",
      "execution_count": null,
      "id": "d51f0b68",
      "metadata": {
        "id": "d51f0b68"
      },
      "outputs": [],
      "source": [
        "!pip install geedim"
      ]
    },
    {
      "cell_type": "code",
      "execution_count": null,
      "id": "6f1f35a4",
      "metadata": {
        "id": "6f1f35a4"
      },
      "outputs": [],
      "source": [
        "geemap.download_ee_image(slope, filename=\"PennSt.tif\", scale=30, region = pa_area)"
      ]
    },
    {
      "cell_type": "code",
      "execution_count": null,
      "id": "d1dab355",
      "metadata": {
        "id": "d1dab355"
      },
      "outputs": [],
      "source": [
        "geemap.download_ee_image(elevation, filename=\"PennState.tif\", scale=30, region = pa_area)"
      ]
    },
    {
      "cell_type": "code",
      "execution_count": null,
      "id": "0607b774",
      "metadata": {
        "id": "0607b774"
      },
      "outputs": [],
      "source": [
        "table_MN = pd.read_html('https://waterdata.usgs.gov/pa/nwis/current?type=gw')\n",
        "table_MN"
      ]
    },
    {
      "cell_type": "code",
      "execution_count": null,
      "id": "9460100e",
      "metadata": {
        "id": "9460100e"
      },
      "outputs": [],
      "source": []
    },
    {
      "cell_type": "code",
      "execution_count": null,
      "id": "bbb30c41",
      "metadata": {
        "id": "bbb30c41"
      },
      "outputs": [],
      "source": [
        "html = 'https://waterdata.usgs.gov/pa/nwis/current?type=gw'\n",
        "csv = 'my_file.csv'\n",
        "\n",
        "# 1. Read all HTML tables from a given URL\n",
        "tables = pd.read_html(html)\n",
        "\n",
        "# 2. Write first table, for example, to the CSV file\n",
        "tables[1].to_csv(csv)"
      ]
    },
    {
      "cell_type": "code",
      "execution_count": null,
      "id": "2e128fce",
      "metadata": {
        "id": "2e128fce"
      },
      "outputs": [],
      "source": [
        "tables "
      ]
    },
    {
      "cell_type": "code",
      "execution_count": null,
      "id": "163cd9a9",
      "metadata": {
        "id": "163cd9a9"
      },
      "outputs": [],
      "source": [
        "html2 = 'https://pa.water.usgs.gov/apps/recharge/annual.html'\n",
        "csv2 = 'my_file.csv'\n",
        "\n",
        "# 1. Read all HTML tables from a given URL\n",
        "tables2 = pd.read_html(html2)\n",
        "\n",
        "# 2. Write first table, for example, to the CSV file\n",
        "tables2[0].to_csv(csv2)"
      ]
    },
    {
      "cell_type": "code",
      "execution_count": null,
      "id": "4ebcf289",
      "metadata": {
        "id": "4ebcf289"
      },
      "outputs": [],
      "source": []
    },
    {
      "cell_type": "code",
      "execution_count": null,
      "id": "bcd54ada",
      "metadata": {
        "id": "bcd54ada"
      },
      "outputs": [],
      "source": [
        "# Dowload PA HUC-6 WBD\n",
        "\n",
        "fc = ee.FeatureCollection(\"USGS/WBD/2017/HUC06\")"
      ]
    },
    {
      "cell_type": "code",
      "execution_count": null,
      "id": "567013cb",
      "metadata": {
        "scrolled": false,
        "id": "567013cb"
      },
      "outputs": [],
      "source": [
        "dataset2 = ee.FeatureCollection(\"USGS/WBD/2017/HUC06\").clipToCollection(PA)\n",
        "Map.centerObject(PA)\n",
        "Map.addLayer(dataset2, {}, 'WBD')\n",
        "Map"
      ]
    },
    {
      "cell_type": "code",
      "execution_count": null,
      "id": "a3a4772b",
      "metadata": {
        "id": "a3a4772b"
      },
      "outputs": [],
      "source": [
        "dataset2 = ee.FeatureCollection(\"USGS/WBD/2017/HUC06\")"
      ]
    },
    {
      "cell_type": "code",
      "execution_count": null,
      "id": "52e57921",
      "metadata": {
        "scrolled": false,
        "id": "52e57921"
      },
      "outputs": [],
      "source": [
        "dataset2 = ee.FeatureCollection(\"USGS/WBD/2017/HUC06\")\n",
        "PA_WBD = dataset2.filter(ee.Filter.eq('states', 'PA'))\n",
        "Map.addLayer(PA_WBD, {}, 'PennSt')\n",
        "Map.centerObject(PA)\n",
        "Map"
      ]
    },
    {
      "cell_type": "code",
      "execution_count": null,
      "id": "569bda78",
      "metadata": {
        "id": "569bda78"
      },
      "outputs": [],
      "source": [
        "dataset = ee.FeatureCollection('USGS/WBD/2017/HUC06')\n",
        "\n",
        "visualization = {\n",
        "  'color': '808080',\n",
        "  'strokeWidth': 1\n",
        "}\n",
        "\n",
        "dataset = dataset.draw(visualization)\n",
        "\n",
        "Map.setCenter(-105.861, 39.529, 7)\n",
        "Map.addLayer(dataset, None, 'Basins')\n",
        "Map"
      ]
    },
    {
      "cell_type": "code",
      "execution_count": null,
      "id": "642aac14",
      "metadata": {
        "id": "642aac14"
      },
      "outputs": [],
      "source": [
        "dataset = ee.FeatureCollection('USGS/WBD/2017/HUC06').\n",
        "\n",
        "visualization = {\n",
        "  'color': '808080',\n",
        "  'strokeWidth': 1\n",
        "}\n",
        "# WBD = dataset.setName('Basins')\n",
        "# dataset = dataset.draw(visualization)\n",
        "\n",
        "Map.setCenter(-105.861, 39.529, 7)\n",
        "Map.addLayer(WBD, visualization, 'Basins')\n",
        "Map"
      ]
    },
    {
      "cell_type": "code",
      "execution_count": null,
      "id": "8b3a5cfb",
      "metadata": {
        "id": "8b3a5cfb"
      },
      "outputs": [],
      "source": []
    },
    {
      "cell_type": "code",
      "execution_count": null,
      "id": "1e7c5532",
      "metadata": {
        "id": "1e7c5532"
      },
      "outputs": [],
      "source": [
        "fvLayer = ui.Map.FeatureViewLayer('USGS/WBD/2017/HUC06_FeatureView')\n",
        "\n",
        "visParams = {\n",
        "  'color': '808080',\n",
        "  'lineWidth': 1\n",
        "}\n",
        "\n",
        "fvLayer.setVisParams(visParams)\n",
        "fvLayer.setName('Basins')\n",
        "\n",
        "Map.setCenter(-105.861, 39.529, 7)\n",
        "Map.add(fvLayer)\n",
        "Map"
      ]
    },
    {
      "cell_type": "code",
      "execution_count": null,
      "id": "424a42c3",
      "metadata": {
        "id": "424a42c3"
      },
      "outputs": [],
      "source": [
        "df = geemap.ee_to_df(dataset2.limit(50))\n",
        "df"
      ]
    },
    {
      "cell_type": "code",
      "execution_count": null,
      "id": "249782ee",
      "metadata": {
        "id": "249782ee"
      },
      "outputs": [],
      "source": [
        "f = geemap.ee_to_df(dataset2.filter(ee.Filter.eq('states', 'PA')))\n",
        "f"
      ]
    },
    {
      "cell_type": "code",
      "execution_count": null,
      "id": "719e9601",
      "metadata": {
        "id": "719e9601"
      },
      "outputs": [],
      "source": []
    },
    {
      "cell_type": "code",
      "execution_count": null,
      "id": "2ecaff26",
      "metadata": {
        "id": "2ecaff26"
      },
      "outputs": [],
      "source": [
        "dataset = ee.Image(\"OpenLandMap/SOL/SOL_TEXTURE-CLASS_USDA-TT_M/v02\")\n",
        "\n",
        "visualization = {\n",
        "  'bands': ['b0'],\n",
        "  'min': 1.0,\n",
        "  'max': 12.0,\n",
        "  'palette': [\n",
        "    \"d5c36b\",\"b96947\",\"9d3706\",\"ae868f\",\"f86714\",\"46d143\",\n",
        "    \"368f20\",\"3e5a14\",\"ffd557\",\"fff72e\",\"ff5a9d\",\"ff005b\",\n",
        "  ]\n",
        "}\n",
        "\n",
        "Map.centerObject(dataset)\n",
        "\n",
        "Map.addLayer(dataset, visualization, \"Soil texture class (USDA system)\")\n",
        "Map.add_legend(\n",
        "    title=\"SOil Texture\", builtin_legend='USDA/NASS/CDL', height='465px'\n",
        ")\n",
        "Map"
      ]
    },
    {
      "cell_type": "code",
      "execution_count": null,
      "id": "06bfe71e",
      "metadata": {
        "id": "06bfe71e"
      },
      "outputs": [],
      "source": [
        "dataset_qwe = ee.Image('projects/sat-io/open-datasets/HiHydroSoilv2_0/Hydrologic_Soil_Group_250m')\n",
        "Map.addLayer(dataset_qwe, {}, 'projects/sat-io/open-datasets/HiHydroSoilv2_0/Hydrologic_Soil_Group_250m')"
      ]
    },
    {
      "cell_type": "code",
      "execution_count": null,
      "id": "3ca2c85c",
      "metadata": {
        "id": "3ca2c85c"
      },
      "outputs": [],
      "source": [
        "dataset_lio = ee.Image('projects/earthengine-legacy/assets/projects/sat-io/open-datasets/CSRL_soil_properties/land_use/hydrologic_group')\n",
        "Map.addLayer(dataset_lio, {}, 'projects/earthengine-legacy/assets/projects/sat-io/open-datasets/CSRL_soil_properties/land_use/hydrologic_group')"
      ]
    },
    {
      "cell_type": "code",
      "execution_count": null,
      "id": "a2525b80",
      "metadata": {
        "id": "a2525b80"
      },
      "outputs": [],
      "source": []
    },
    {
      "cell_type": "code",
      "execution_count": null,
      "id": "3004b21b",
      "metadata": {
        "id": "3004b21b"
      },
      "outputs": [],
      "source": [
        "dataset_ekn = ee.Image('projects/earthengine-legacy/assets/projects/sat-io/open-datasets/CSRL_soil_properties/land_use/survey_type')\n",
        "Map.addLayer(dataset_ekn, {}, 'projects/earthengine-legacy/assets/projects/sat-io/open-datasets/CSRL_soil_properties/land_use/survey_type')"
      ]
    }
  ],
  "metadata": {
    "kernelspec": {
      "display_name": "Python 3 (ipykernel)",
      "language": "python",
      "name": "python3"
    },
    "language_info": {
      "codemirror_mode": {
        "name": "ipython",
        "version": 3
      },
      "file_extension": ".py",
      "mimetype": "text/x-python",
      "name": "python",
      "nbconvert_exporter": "python",
      "pygments_lexer": "ipython3",
      "version": "3.10.4"
    },
    "colab": {
      "provenance": [],
      "include_colab_link": true
    }
  },
  "nbformat": 4,
  "nbformat_minor": 5
}