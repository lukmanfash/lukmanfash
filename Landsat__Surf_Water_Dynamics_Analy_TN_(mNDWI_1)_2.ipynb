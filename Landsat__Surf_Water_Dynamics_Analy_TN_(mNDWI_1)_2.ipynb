{
  "cells": [
    {
      "cell_type": "markdown",
      "metadata": {
        "id": "view-in-github",
        "colab_type": "text"
      },
      "source": [
        "<a href=\"https://colab.research.google.com/github/lukmanfash/lukmanfash/blob/main/Landsat__Surf_Water_Dynamics_Analy_TN_(mNDWI_1)_2.ipynb\" target=\"_parent\"><img src=\"https://colab.research.google.com/assets/colab-badge.svg\" alt=\"Open In Colab\"/></a>"
      ]
    },
    {
      "cell_type": "markdown",
      "id": "270bcf6d",
      "metadata": {
        "id": "270bcf6d"
      },
      "source": [
        "## mNDWI_1: \n",
        "Data: Landsat\n",
        "\n",
        "MNDWI1 = (Green − SWIR1)/(Green + SWIR1)"
      ]
    },
    {
      "cell_type": "code",
      "execution_count": null,
      "id": "76803c1d",
      "metadata": {
        "id": "76803c1d"
      },
      "outputs": [],
      "source": [
        "import ee\n",
        "import geemap"
      ]
    },
    {
      "cell_type": "code",
      "execution_count": null,
      "id": "002b3b3b",
      "metadata": {
        "id": "002b3b3b"
      },
      "outputs": [],
      "source": [
        "Map = geemap.Map()"
      ]
    },
    {
      "cell_type": "code",
      "execution_count": null,
      "id": "04d1b920",
      "metadata": {
        "id": "04d1b920"
      },
      "outputs": [],
      "source": [
        "roi = ee.FeatureCollection('TIGER/2018/States').filter(\n",
        "    ee.Filter.eq('NAME', 'Tennessee')\n",
        ")\n",
        "Map.addLayer(roi, {}, \"TN\")\n",
        "Map.centerObject(roi, 7)"
      ]
    },
    {
      "cell_type": "code",
      "execution_count": null,
      "id": "e782a0c3",
      "metadata": {
        "id": "e782a0c3"
      },
      "outputs": [],
      "source": [
        "images = geemap.landsat_timeseries(\n",
        "    roi=roi, start_year=2010, end_year=2020, start_date='01-01', end_date='12-31'\n",
        ")"
      ]
    },
    {
      "cell_type": "code",
      "execution_count": null,
      "id": "03ff1167",
      "metadata": {
        "id": "03ff1167"
      },
      "outputs": [],
      "source": [
        "first = images.first()\n",
        "\n",
        "vis_params = {'bands': ['NIR', 'Red', 'Green'], 'min': 0, 'max': 3000}\n",
        "\n",
        "Map.addLayer(first, vis_params, 'First image')"
      ]
    },
    {
      "cell_type": "code",
      "execution_count": null,
      "id": "70878c3f",
      "metadata": {
        "id": "70878c3f"
      },
      "outputs": [],
      "source": [
        "ndwi_images = images.map(\n",
        "    lambda img: img.normalizedDifference(['Green', 'SWIR1']).rename('ndwi')\n",
        ")\n",
        "\n",
        "ndwi_palette = [\n",
        "    '#ece7f2',\n",
        "    '#d0d1e6',\n",
        "    '#a6bddb',\n",
        "    '#74a9cf',\n",
        "    '#3690c0',\n",
        "    '#0570b0',\n",
        "    '#045a8d',\n",
        "    '#023858',\n",
        "]\n",
        "\n",
        "first_ndwi = ndwi_images.first()\n",
        "\n",
        "Map.addLayer(first_ndwi, {'palette': ndwi_palette}, 'First NDWI')"
      ]
    },
    {
      "cell_type": "code",
      "execution_count": null,
      "id": "561bf458",
      "metadata": {
        "id": "561bf458"
      },
      "outputs": [],
      "source": [
        "water_images = ndwi_images.map(lambda img: img.gt(0).selfMask())\n",
        "\n",
        "first_water = water_images.first()\n",
        "\n",
        "Map.addLayer(first_water, {'palette': ['blue']}, 'First Water')"
      ]
    },
    {
      "cell_type": "code",
      "execution_count": null,
      "id": "192c528e",
      "metadata": {
        "id": "192c528e"
      },
      "outputs": [],
      "source": [
        "def cal_area(img):\n",
        "    pixel_area = img.multiply(ee.Image.pixelArea()).divide(1e6)\n",
        "    img_area = pixel_area.reduceRegion(\n",
        "        **{\n",
        "            'geometry': roi.geometry(),\n",
        "            'reducer': ee.Reducer.sum(),\n",
        "            'scale': 1000,\n",
        "            'maxPixels': 1e12,\n",
        "        }\n",
        "    )\n",
        "    return img.set({'water_area': img_area})"
      ]
    },
    {
      "cell_type": "code",
      "execution_count": null,
      "id": "dac9b4d9",
      "metadata": {
        "id": "dac9b4d9"
      },
      "outputs": [],
      "source": [
        "water_areas = water_images.map(cal_area)"
      ]
    },
    {
      "cell_type": "code",
      "execution_count": null,
      "id": "b9669b0e",
      "metadata": {
        "id": "b9669b0e",
        "outputId": "e1421f2f-8d11-4650-a60b-74ed556df953"
      },
      "outputs": [
        {
          "data": {
            "text/plain": [
              "[{'ndwi': 549.5036698901957},\n",
              " {'ndwi': 543.9970368850489},\n",
              " {'ndwi': 416.7542359394612},\n",
              " {'ndwi': 530.2424994296571},\n",
              " {'ndwi': 548.6764446129903},\n",
              " {'ndwi': 493.8360732681375},\n",
              " {'ndwi': 478.4144406132354},\n",
              " {'ndwi': 460.56107135661813},\n",
              " {'ndwi': 561.4288491311275},\n",
              " {'ndwi': 595.8834791791671},\n",
              " {'ndwi': 566.9931164911771}]"
            ]
          },
          "execution_count": 10,
          "metadata": {},
          "output_type": "execute_result"
        }
      ],
      "source": [
        "water_stats = water_areas.aggregate_array('water_area').getInfo()\n",
        "water_stats"
      ]
    },
    {
      "cell_type": "code",
      "execution_count": null,
      "id": "c06f1188",
      "metadata": {
        "id": "c06f1188",
        "outputId": "1b3c118e-27c8-406e-8811-64ae6f3d3201"
      },
      "outputs": [
        {
          "data": {
            "image/png": "[encoded data removed]",
            "text/plain": [
              "<Figure size 640x480 with 1 Axes>"
            ]
          },
          "metadata": {},
          "output_type": "display_data"
        }
      ],
      "source": [
        "import matplotlib.pyplot as plt\n",
        "\n",
        "x = list(range(2010, 2021))\n",
        "y = [item.get('ndwi') for item in water_stats]\n",
        "\n",
        "plt.bar(x, y, width=0.9, align='center', alpha=0.5)\n",
        "# plt.xticks(y_pos, objects)\n",
        "plt.ylabel('Area (km2)')\n",
        "plt.title('Surface water dynamics in Tennessee 2010 - 2020')\n",
        "\n",
        "plt.show()"
      ]
    },
    {
      "cell_type": "code",
      "execution_count": null,
      "id": "35306602",
      "metadata": {
        "id": "35306602",
        "outputId": "ed950e2f-be64-4945-bb0b-8011afed9f42",
        "colab": {
          "referenced_widgets": [
            "bca252d93478440ea9fbae38b8947c31"
          ]
        }
      },
      "outputs": [
        {
          "data": {
            "application/vnd.jupyter.widget-view+json": {
              "model_id": "bca252d93478440ea9fbae38b8947c31",
              "version_major": 2,
              "version_minor": 0
            },
            "text/plain": [
              "Map(center=[35.8579904338385, -86.35074162079951], controls=(WidgetControl(options=['position', 'transparent_b…"
            ]
          },
          "metadata": {},
          "output_type": "display_data"
        }
      ],
      "source": [
        "Map.addLayerControl()\n",
        "Map"
      ]
    }
  ],
  "metadata": {
    "kernelspec": {
      "display_name": "Python 3 (ipykernel)",
      "language": "python",
      "name": "python3"
    },
    "language_info": {
      "codemirror_mode": {
        "name": "ipython",
        "version": 3
      },
      "file_extension": ".py",
      "mimetype": "text/x-python",
      "name": "python",
      "nbconvert_exporter": "python",
      "pygments_lexer": "ipython3",
      "version": "3.10.4"
    },
    "colab": {
      "provenance": [],
      "include_colab_link": true
    }
  },
  "nbformat": 4,
  "nbformat_minor": 5
}