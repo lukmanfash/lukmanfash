{
 "cells": [
  {
   "cell_type": "markdown",
   "id": "d9ce5620",
   "metadata": {},
   "source": [
    "## Tennessee Surface Water Dynamics Analysis (2010-2020) in Earth Engine\n",
    "\n",
    "#### Objectives: \n",
    "To display water occurence.\n",
    "\n",
    "To extract surface water extent.\n",
    "\n",
    "To calculate surface water areas.\n",
    "\n",
    "To show temporal trend.\n",
    "\n",
    "\n",
    "#### Data: \n",
    "JRC Global Surface Water Mapping : ee.Image(JRC/GSW1_4/GlobalSurfaceWater)\n",
    "\n",
    "NAIP: National Agriculture Imagery : ee.ImageCollection(\"USDA/NAIP/DOQQ\")"
   ]
  },
  {
   "cell_type": "code",
   "execution_count": 1,
   "id": "b28863a3",
   "metadata": {},
   "outputs": [],
   "source": [
    "# To Install/import geemap package uncomment the folllowing:\n",
    "\n",
    "# import subprocess\n",
    "\n",
    "# try:\n",
    "#     import geemap\n",
    "# except ImportError:\n",
    "#     print('geemap package not installed. Installing ...')\n",
    "#     subprocess.check_call([\"python\", '-m', 'pip', 'install', 'geemap'])"
   ]
  },
  {
   "cell_type": "code",
   "execution_count": 2,
   "id": "f49c9ab2",
   "metadata": {
    "scrolled": true
   },
   "outputs": [],
   "source": [
    "# Import and initialize Earth Engine\n",
    "\n",
    "import geemap\n",
    "import ee\n",
    "ee.Initialize()"
   ]
  },
  {
   "cell_type": "code",
   "execution_count": 3,
   "id": "78fd6a84",
   "metadata": {},
   "outputs": [],
   "source": [
    "# Create interactive map and define region of interest (ROI)\n",
    "\n",
    "Map = geemap.Map()\n",
    "roi = ee.FeatureCollection('TIGER/2018/States').filter(\n",
    "    ee.Filter.eq('NAME', 'Tennessee')\n",
    ")\n",
    "# Map.addLayer(roi, {}, \"TN\")\n",
    "# Map.centerObject(roi, 8)"
   ]
  },
  {
   "cell_type": "code",
   "execution_count": 4,
   "id": "b9baa527",
   "metadata": {},
   "outputs": [
    {
     "data": {
      "text/html": [
       "<div><style>:root {\n",
       "  --font-color-primary: var(--jp-content-font-color0, rgba(0, 0, 0, 1));\n",
       "  --font-color-secondary: var(--jp-content-font-color2, rgba(0, 0, 0, 0.6));\n",
       "  --font-color-accent: rgba(123, 31, 162, 1);\n",
       "  --border-color: var(--jp-border-color2, #e0e0e0);\n",
       "  --background-color: var(--jp-layout-color0, white);\n",
       "  --background-color-row-even: var(--jp-layout-color1, white);\n",
       "  --background-color-row-odd: var(--jp-layout-color2, #eeeeee);\n",
       "}\n",
       "\n",
       "html[theme=\"dark\"],\n",
       "body[data-theme=\"dark\"],\n",
       "body.vscode-dark {\n",
       "  --font-color-primary: rgba(255, 255, 255, 1);\n",
       "  --font-color-secondary: rgba(255, 255, 255, 0.6);\n",
       "  --font-color-accent: rgb(173, 132, 190);\n",
       "  --border-color: #2e2e2e;\n",
       "  --background-color: #111111;\n",
       "  --background-color-row-even: #111111;\n",
       "  --background-color-row-odd: #313131;\n",
       "}\n",
       "\n",
       ".ee {\n",
       "  padding: 1em;\n",
       "  line-height: 1.5em;\n",
       "  min-width: 300px;\n",
       "  max-width: 1200px;\n",
       "  overflow-y: scroll;\n",
       "  max-height: 600px;\n",
       "  border: 1px solid var(--border-color);\n",
       "  font-family: monospace;\n",
       "}\n",
       "\n",
       ".ee li {\n",
       "  list-style-type: none;\n",
       "}\n",
       "\n",
       ".ee ul {\n",
       "  padding-left: 1.5em !important;\n",
       "  margin: 0;\n",
       "}\n",
       "\n",
       ".ee > ul {\n",
       "  padding-left: 0 !important;\n",
       "}\n",
       "\n",
       ".ee-open,\n",
       ".ee-shut {\n",
       "  color: var(--font-color-secondary);\n",
       "  cursor: pointer;\n",
       "  margin: 0;\n",
       "}\n",
       "\n",
       ".ee-open:hover,\n",
       ".ee-shut:hover {\n",
       "  color: var(--font-color-primary);\n",
       "}\n",
       "\n",
       ".ee-k {\n",
       "  color: var(--font-color-accent);\n",
       "  margin-right: 6px;\n",
       "}\n",
       "\n",
       ".ee-v {\n",
       "  color: var(--font-color-primary);\n",
       "}\n",
       "\n",
       ".ee-toggle {\n",
       "  display: none;\n",
       "}\n",
       "\n",
       ".ee-shut + ul {\n",
       "  display: none;\n",
       "}\n",
       "\n",
       ".ee-open + ul {\n",
       "  display: block;\n",
       "}\n",
       "\n",
       ".ee-shut::before {\n",
       "  display: inline-block;\n",
       "  content: \"▼\";\n",
       "  margin-right: 6px;\n",
       "  transform: rotate(-90deg);\n",
       "  transition: transform 0.2s;\n",
       "}\n",
       "\n",
       ".ee-open::before {\n",
       "  transform: rotate(0deg);\n",
       "  display: inline-block;\n",
       "  content: \"▼\";\n",
       "  margin-right: 6px;\n",
       "  transition: transform 0.2s;\n",
       "}\n",
       "</style><div class='ee'><ul><li><label class='ee-shut'>List (7 elements)<input type='checkbox' class='ee-toggle'></label><ul><li><span class='ee-k'>0:</span><span class='ee-v'>occurrence</span></li><li><span class='ee-k'>1:</span><span class='ee-v'>change_abs</span></li><li><span class='ee-k'>2:</span><span class='ee-v'>change_norm</span></li><li><span class='ee-k'>3:</span><span class='ee-v'>seasonality</span></li><li><span class='ee-k'>4:</span><span class='ee-v'>recurrence</span></li><li><span class='ee-k'>5:</span><span class='ee-v'>transition</span></li><li><span class='ee-k'>6:</span><span class='ee-v'>max_extent</span></li></ul></li></ul></div><script>function toggleHeader() {\n",
       "    const parent = this.parentElement;\n",
       "    parent.className = parent.className === \"ee-open\" ? \"ee-shut\" : \"ee-open\";\n",
       "}\n",
       "\n",
       "for (let c of document.getElementsByClassName(\"ee-toggle\")) {\n",
       "    c.onclick = toggleHeader;\n",
       "}</script></div>"
      ],
      "text/plain": [
       "<ee.ee_list.List at 0x27cb68137f0>"
      ]
     },
     "execution_count": 4,
     "metadata": {},
     "output_type": "execute_result"
    }
   ],
   "source": [
    "dataset = ee.Image('JRC/GSW1_4/GlobalSurfaceWater')\n",
    "dataset.bandNames()"
   ]
  },
  {
   "cell_type": "code",
   "execution_count": 5,
   "id": "7d454dc0",
   "metadata": {
    "scrolled": true
   },
   "outputs": [],
   "source": [
    "Map.add_basemap('HYBRID')"
   ]
  },
  {
   "cell_type": "code",
   "execution_count": 6,
   "id": "4c66d050",
   "metadata": {},
   "outputs": [
    {
     "data": {
      "application/vnd.jupyter.widget-view+json": {
       "model_id": "276759f2c8554ebd934a27e93097befe",
       "version_major": 2,
       "version_minor": 0
      },
      "text/plain": [
       "Map(center=[35.8579904338385, -86.35074162079951], controls=(WidgetControl(options=['position', 'transparent_b…"
      ]
     },
     "metadata": {},
     "output_type": "display_data"
    }
   ],
   "source": [
    "#To display water occurence\n",
    "# Select occurence band from image, \n",
    "#set visualization paramters, display image and center map to region of interest and add colorbar.\n",
    "\n",
    "image = dataset.select(['occurrence'])\n",
    "vis_params = {'min': 0.0, 'max': 100.0, 'palette': ['ffffff', 'ffbbbb', '0000ff']}\n",
    "Map.addLayer(image, vis_params, 'Occurrence')\n",
    "Map.addLayer(roi, {}, 'ROI', True, 0.5)\n",
    "Map.centerObject(roi, 7)\n",
    "Map.add_colorbar(vis_params, label='Water occurrence (%)', layer_name='Occurrence')\n",
    "Map"
   ]
  },
  {
   "cell_type": "code",
   "execution_count": null,
   "id": "b02dbe49",
   "metadata": {},
   "outputs": [],
   "source": []
  },
  {
   "cell_type": "code",
   "execution_count": 7,
   "id": "a33b8e24",
   "metadata": {},
   "outputs": [],
   "source": [
    "# Create NAIP timeseries\n",
    "\n",
    "images = geemap.naip_timeseries(roi, start_year=2010, end_year=2020, RGBN=True)"
   ]
  },
  {
   "cell_type": "code",
   "execution_count": 8,
   "id": "daccd407",
   "metadata": {},
   "outputs": [],
   "source": [
    "first = images.first()\n",
    "\n",
    "vis_params = {'bands': ['N', 'R', 'G'], 'min': 0, 'max': 250.0}\n",
    "\n",
    "Map.addLayer(first, vis_params, 'First image')"
   ]
  },
  {
   "cell_type": "code",
   "execution_count": 9,
   "id": "17600a74",
   "metadata": {},
   "outputs": [
    {
     "data": {
      "text/html": [
       "<div><style>:root {\n",
       "  --font-color-primary: var(--jp-content-font-color0, rgba(0, 0, 0, 1));\n",
       "  --font-color-secondary: var(--jp-content-font-color2, rgba(0, 0, 0, 0.6));\n",
       "  --font-color-accent: rgba(123, 31, 162, 1);\n",
       "  --border-color: var(--jp-border-color2, #e0e0e0);\n",
       "  --background-color: var(--jp-layout-color0, white);\n",
       "  --background-color-row-even: var(--jp-layout-color1, white);\n",
       "  --background-color-row-odd: var(--jp-layout-color2, #eeeeee);\n",
       "}\n",
       "\n",
       "html[theme=\"dark\"],\n",
       "body[data-theme=\"dark\"],\n",
       "body.vscode-dark {\n",
       "  --font-color-primary: rgba(255, 255, 255, 1);\n",
       "  --font-color-secondary: rgba(255, 255, 255, 0.6);\n",
       "  --font-color-accent: rgb(173, 132, 190);\n",
       "  --border-color: #2e2e2e;\n",
       "  --background-color: #111111;\n",
       "  --background-color-row-even: #111111;\n",
       "  --background-color-row-odd: #313131;\n",
       "}\n",
       "\n",
       ".ee {\n",
       "  padding: 1em;\n",
       "  line-height: 1.5em;\n",
       "  min-width: 300px;\n",
       "  max-width: 1200px;\n",
       "  overflow-y: scroll;\n",
       "  max-height: 600px;\n",
       "  border: 1px solid var(--border-color);\n",
       "  font-family: monospace;\n",
       "}\n",
       "\n",
       ".ee li {\n",
       "  list-style-type: none;\n",
       "}\n",
       "\n",
       ".ee ul {\n",
       "  padding-left: 1.5em !important;\n",
       "  margin: 0;\n",
       "}\n",
       "\n",
       ".ee > ul {\n",
       "  padding-left: 0 !important;\n",
       "}\n",
       "\n",
       ".ee-open,\n",
       ".ee-shut {\n",
       "  color: var(--font-color-secondary);\n",
       "  cursor: pointer;\n",
       "  margin: 0;\n",
       "}\n",
       "\n",
       ".ee-open:hover,\n",
       ".ee-shut:hover {\n",
       "  color: var(--font-color-primary);\n",
       "}\n",
       "\n",
       ".ee-k {\n",
       "  color: var(--font-color-accent);\n",
       "  margin-right: 6px;\n",
       "}\n",
       "\n",
       ".ee-v {\n",
       "  color: var(--font-color-primary);\n",
       "}\n",
       "\n",
       ".ee-toggle {\n",
       "  display: none;\n",
       "}\n",
       "\n",
       ".ee-shut + ul {\n",
       "  display: none;\n",
       "}\n",
       "\n",
       ".ee-open + ul {\n",
       "  display: block;\n",
       "}\n",
       "\n",
       ".ee-shut::before {\n",
       "  display: inline-block;\n",
       "  content: \"▼\";\n",
       "  margin-right: 6px;\n",
       "  transform: rotate(-90deg);\n",
       "  transition: transform 0.2s;\n",
       "}\n",
       "\n",
       ".ee-open::before {\n",
       "  transform: rotate(0deg);\n",
       "  display: inline-block;\n",
       "  content: \"▼\";\n",
       "  margin-right: 6px;\n",
       "  transition: transform 0.2s;\n",
       "}\n",
       "</style><div class='ee'><ul><li><label class='ee-shut'>['R', 'G', 'B', 'N']<input type='checkbox' class='ee-toggle'></label><ul><li><span class='ee-k'>0:</span><span class='ee-v'>R</span></li><li><span class='ee-k'>1:</span><span class='ee-v'>G</span></li><li><span class='ee-k'>2:</span><span class='ee-v'>B</span></li><li><span class='ee-k'>3:</span><span class='ee-v'>N</span></li></ul></li></ul></div><script>function toggleHeader() {\n",
       "    const parent = this.parentElement;\n",
       "    parent.className = parent.className === \"ee-open\" ? \"ee-shut\" : \"ee-open\";\n",
       "}\n",
       "\n",
       "for (let c of document.getElementsByClassName(\"ee-toggle\")) {\n",
       "    c.onclick = toggleHeader;\n",
       "}</script></div>"
      ],
      "text/plain": [
       "<ee.ee_list.List at 0x27cb97179d0>"
      ]
     },
     "execution_count": 9,
     "metadata": {},
     "output_type": "execute_result"
    }
   ],
   "source": [
    "first.bandNames()"
   ]
  },
  {
   "cell_type": "code",
   "execution_count": 10,
   "id": "17946415",
   "metadata": {},
   "outputs": [],
   "source": [
    "# Calculate Normalized Difference Water Index (NDWI)\n",
    "# NDWI = (Green − NIR)/(Green + NIR)\n",
    "\n",
    "\n",
    "ndwi_images = images.map(\n",
    "    lambda img: img.normalizedDifference(['G', 'N']).rename('ndwi')\n",
    ")\n",
    "\n",
    "ndwi_palette = [\n",
    "    '#ece7f2',\n",
    "    '#d0d1e6',\n",
    "    '#a6bddb',\n",
    "    '#74a9cf',\n",
    "    '#3690c0',\n",
    "    '#0570b0',\n",
    "    '#045a8d',\n",
    "    '#023858',\n",
    "]\n",
    "\n",
    "first_ndwi = ndwi_images.first()\n",
    "\n",
    "Map.addLayer(first_ndwi, {'palette': ndwi_palette}, 'First NDWI')"
   ]
  },
  {
   "cell_type": "code",
   "execution_count": null,
   "id": "6b15d814",
   "metadata": {},
   "outputs": [],
   "source": []
  },
  {
   "cell_type": "code",
   "execution_count": 11,
   "id": "23437c54",
   "metadata": {},
   "outputs": [],
   "source": [
    "# Extract surface water extent\n",
    "\n",
    "water_images = ndwi_images.map(lambda img: img.gt(0).selfMask())\n",
    "\n",
    "first_water = water_images.first()\n",
    "\n",
    "Map.addLayer(first_water, {'palette': ['blue']}, 'First Water')"
   ]
  },
  {
   "cell_type": "code",
   "execution_count": null,
   "id": "a252960a",
   "metadata": {},
   "outputs": [],
   "source": []
  },
  {
   "cell_type": "code",
   "execution_count": 12,
   "id": "3194d1b4",
   "metadata": {},
   "outputs": [],
   "source": [
    "# Calculate surface water areas\n",
    "\n",
    "def cal_area(img):\n",
    "    pixel_area = img.multiply(ee.Image.pixelArea()).divide(1e6)\n",
    "    img_area = pixel_area.reduceRegion(\n",
    "        **{\n",
    "            'geometry': roi.geometry(),\n",
    "            'reducer': ee.Reducer.sum(),\n",
    "            'scale': 1000,\n",
    "            'maxPixels': 1e12,\n",
    "        }\n",
    "    )\n",
    "    return img.set({'water_area': img_area})"
   ]
  },
  {
   "cell_type": "code",
   "execution_count": 13,
   "id": "1084058b",
   "metadata": {},
   "outputs": [],
   "source": [
    "water_areas = water_images.map(cal_area)"
   ]
  },
  {
   "cell_type": "code",
   "execution_count": 14,
   "id": "2bc6c6ba",
   "metadata": {},
   "outputs": [
    {
     "data": {
      "text/plain": [
       "[{'ndwi': 2917.2196074627395},\n",
       " {'ndwi': 25.68676366740197},\n",
       " {'ndwi': 17469.931352386062},\n",
       " {'ndwi': 571.0674359112749},\n",
       " {'ndwi': 28642.31925181851},\n",
       " {'ndwi': 408.8281269561268},\n",
       " {'ndwi': 8971.185139908186},\n",
       " {'ndwi': 383.1028855995093},\n",
       " {'ndwi': 15144.590253869423},\n",
       " {'ndwi': 545.9140410071063},\n",
       " {'ndwi': 683.9380473553939}]"
      ]
     },
     "execution_count": 14,
     "metadata": {},
     "output_type": "execute_result"
    }
   ],
   "source": [
    "water_stats = water_areas.aggregate_array('water_area').getInfo()\n",
    "water_stats"
   ]
  },
  {
   "cell_type": "code",
   "execution_count": 15,
   "id": "c74f6d73",
   "metadata": {},
   "outputs": [
    {
     "data": {
      "image/png": "[encoded data removed]",
      "text/plain": [
       "<Figure size 640x480 with 1 Axes>"
      ]
     },
     "metadata": {},
     "output_type": "display_data"
    }
   ],
   "source": [
    "#Plot temporal trend\n",
    "\n",
    "import matplotlib.pyplot as plt\n",
    "\n",
    "x = list(range(2010, 2021))\n",
    "y = [item.get('ndwi') for item in water_stats]\n",
    "\n",
    "plt.bar(x, y, width=0.9, align='center', alpha=0.5)\n",
    "# plt.xticks(y_pos, objects)\n",
    "plt.ylabel('Area (km2)')\n",
    "plt.title('Surface water dynamics in Tennessee 2010-2020')\n",
    "\n",
    "plt.show()"
   ]
  },
  {
   "cell_type": "code",
   "execution_count": 16,
   "id": "334a49bb",
   "metadata": {},
   "outputs": [
    {
     "data": {
      "application/vnd.jupyter.widget-view+json": {
       "model_id": "276759f2c8554ebd934a27e93097befe",
       "version_major": 2,
       "version_minor": 0
      },
      "text/plain": [
       "Map(center=[35.8579904338385, -86.35074162079951], controls=(WidgetControl(options=['position', 'transparent_b…"
      ]
     },
     "metadata": {},
     "output_type": "display_data"
    }
   ],
   "source": [
    "Map.addLayerControl()\n",
    "Map"
   ]
  }
 ],
 "metadata": {
  "kernelspec": {
   "display_name": "Python 3 (ipykernel)",
   "language": "python",
   "name": "python3"
  },
  "language_info": {
   "codemirror_mode": {
    "name": "ipython",
    "version": 3
   },
   "file_extension": ".py",
   "mimetype": "text/x-python",
   "name": "python",
   "nbconvert_exporter": "python",
   "pygments_lexer": "ipython3",
   "version": "3.10.4"
  }
 },
 "nbformat": 4,
 "nbformat_minor": 5
}
