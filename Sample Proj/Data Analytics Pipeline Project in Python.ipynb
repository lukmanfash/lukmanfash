{
 "cells": [
  {
   "cell_type": "markdown",
   "metadata": {
    "tags": []
   },
   "source": [
    "## Data Analytics Pipeline Project\n",
    "\n",
    "1. Data Categorization: Categorizing data into numeric and categorical data using NumPy and Pandas libraries\n",
    "2. Data Cleaning Using Python: Writing a Python code to clean the dataset using NumPy and Pandas libraries\n",
    "3. Data Descriptive Statistics using Python: Performing some basic descriptive statistics on the dataset Using Python NumPy and Pandas libraries\n",
    "4. Data Visualization Using Python: Creating graphical representation of the data using Matplotlib and Seaborn libraries\n",
    "5. Data Insights: Providing some preliminary insights about the dataset using the descriptive statistics and data visualization\n",
    "\n",
    "\n",
    "### About the Data\n",
    "The data (.csv), originally sourced from Oklahoma Corporation Commission, was obtained from Kaggle.com and it contained records of all active saltwater injection wells in the state of Oklahoma. The original data contained 18 columns (API#, Operator, Operator ID, Well Type, Well Name, Well Number, Order Numbers, Approval Date, County, Sec [Section], Twp [Township], Rng [Range], QQQQ [a concatenated field of the four normal section divisions], LAT [Latitude], LONG [Longitude], PSI [average daily well head pressure], BBLS [total annual injected or disposed volume of fluids in Barrels], ZONE) and 11,125 rows (records)."
   ]
  },
  {
   "cell_type": "code",
   "execution_count": 2,
   "metadata": {},
   "outputs": [],
   "source": [
    "import numpy as np"
   ]
  },
  {
   "cell_type": "code",
   "execution_count": 3,
   "metadata": {},
   "outputs": [],
   "source": [
    "import pandas as pd"
   ]
  },
  {
   "cell_type": "code",
   "execution_count": 4,
   "metadata": {},
   "outputs": [],
   "source": [
    "import matplotlib.pyplot as plt"
   ]
  },
  {
   "cell_type": "markdown",
   "metadata": {},
   "source": [
    "## PART 0: Setting up the Environment"
   ]
  },
  {
   "cell_type": "code",
   "execution_count": 5,
   "metadata": {
    "jupyter": {
     "source_hidden": true
    },
    "tags": []
   },
   "outputs": [
    {
     "data": {
      "text/html": [
       "<div>\n",
       "<style scoped>\n",
       "    .dataframe tbody tr th:only-of-type {\n",
       "        vertical-align: middle;\n",
       "    }\n",
       "\n",
       "    .dataframe tbody tr th {\n",
       "        vertical-align: top;\n",
       "    }\n",
       "\n",
       "    .dataframe thead th {\n",
       "        text-align: right;\n",
       "    }\n",
       "</style>\n",
       "<table border=\"1\" class=\"dataframe\">\n",
       "  <thead>\n",
       "    <tr style=\"text-align: right;\">\n",
       "      <th></th>\n",
       "      <th>Operator</th>\n",
       "      <th>Operator ID</th>\n",
       "      <th>WellType</th>\n",
       "      <th>WellName</th>\n",
       "      <th>WellNumber</th>\n",
       "      <th>OrderNumbers</th>\n",
       "      <th>Approval Date</th>\n",
       "      <th>County</th>\n",
       "      <th>Sec</th>\n",
       "      <th>Twp</th>\n",
       "      <th>Rng</th>\n",
       "      <th>QQQQ</th>\n",
       "      <th>LAT</th>\n",
       "      <th>LONG</th>\n",
       "      <th>PSI</th>\n",
       "      <th>BBLS</th>\n",
       "      <th>ZONE</th>\n",
       "      <th>Unnamed: 18</th>\n",
       "      <th>Unnamed: 19</th>\n",
       "      <th>Unnamed: 20</th>\n",
       "    </tr>\n",
       "    <tr>\n",
       "      <th>API#</th>\n",
       "      <th></th>\n",
       "      <th></th>\n",
       "      <th></th>\n",
       "      <th></th>\n",
       "      <th></th>\n",
       "      <th></th>\n",
       "      <th></th>\n",
       "      <th></th>\n",
       "      <th></th>\n",
       "      <th></th>\n",
       "      <th></th>\n",
       "      <th></th>\n",
       "      <th></th>\n",
       "      <th></th>\n",
       "      <th></th>\n",
       "      <th></th>\n",
       "      <th></th>\n",
       "      <th></th>\n",
       "      <th></th>\n",
       "      <th></th>\n",
       "    </tr>\n",
       "  </thead>\n",
       "  <tbody>\n",
       "    <tr>\n",
       "      <th>3.500300e+09</th>\n",
       "      <td>PHOENIX PETROCORP INC</td>\n",
       "      <td>19499.0</td>\n",
       "      <td>2R</td>\n",
       "      <td>SE EUREKA UNIT-TUCKER #1</td>\n",
       "      <td>21</td>\n",
       "      <td>1.338560e+05</td>\n",
       "      <td>9/6/1977</td>\n",
       "      <td>ALFALFA</td>\n",
       "      <td>13</td>\n",
       "      <td>28N</td>\n",
       "      <td>10W</td>\n",
       "      <td>C-SE SE</td>\n",
       "      <td>36.900324</td>\n",
       "      <td>-98.218260</td>\n",
       "      <td>2,500</td>\n",
       "      <td>300</td>\n",
       "      <td>CHEROKEE</td>\n",
       "      <td>NaN</td>\n",
       "      <td>NaN</td>\n",
       "      <td>NaN</td>\n",
       "    </tr>\n",
       "    <tr>\n",
       "      <th>3.500300e+09</th>\n",
       "      <td>CHAMPLIN EXPLORATION INC</td>\n",
       "      <td>4030.0</td>\n",
       "      <td>2R</td>\n",
       "      <td>CHRISTENSEN</td>\n",
       "      <td>1</td>\n",
       "      <td>4.702580e+05</td>\n",
       "      <td>11/27/2002</td>\n",
       "      <td>ALFALFA</td>\n",
       "      <td>21</td>\n",
       "      <td>28N</td>\n",
       "      <td>09W</td>\n",
       "      <td>C-NW NW</td>\n",
       "      <td>36.896636</td>\n",
       "      <td>-98.177720</td>\n",
       "      <td>2,400</td>\n",
       "      <td>1,000</td>\n",
       "      <td>RED FORK</td>\n",
       "      <td>NaN</td>\n",
       "      <td>NaN</td>\n",
       "      <td>NaN</td>\n",
       "    </tr>\n",
       "    <tr>\n",
       "      <th>3.500321e+09</th>\n",
       "      <td>LINN OPERATING INC</td>\n",
       "      <td>22182.0</td>\n",
       "      <td>2R</td>\n",
       "      <td>NE CHEROKEE UNIT</td>\n",
       "      <td>85</td>\n",
       "      <td>3.294260e+05</td>\n",
       "      <td>8/19/1988</td>\n",
       "      <td>ALFALFA</td>\n",
       "      <td>24</td>\n",
       "      <td>27N</td>\n",
       "      <td>11W</td>\n",
       "      <td>SE NE</td>\n",
       "      <td>36.806113</td>\n",
       "      <td>-98.325840</td>\n",
       "      <td>1,050</td>\n",
       "      <td>1,000</td>\n",
       "      <td>RED FORK</td>\n",
       "      <td>NaN</td>\n",
       "      <td>NaN</td>\n",
       "      <td>NaN</td>\n",
       "    </tr>\n",
       "    <tr>\n",
       "      <th>3.500321e+09</th>\n",
       "      <td>SANDRIDGE EXPLORATION &amp; PRODUCTION LLC</td>\n",
       "      <td>22281.0</td>\n",
       "      <td>2R</td>\n",
       "      <td>VELMA</td>\n",
       "      <td>2-19</td>\n",
       "      <td>2.816520e+05</td>\n",
       "      <td>7/11/1985</td>\n",
       "      <td>ALFALFA</td>\n",
       "      <td>19</td>\n",
       "      <td>28N</td>\n",
       "      <td>10W</td>\n",
       "      <td>SW NE NE SW</td>\n",
       "      <td>36.888589</td>\n",
       "      <td>-98.318530</td>\n",
       "      <td>3,152</td>\n",
       "      <td>1,000</td>\n",
       "      <td>RED FORK</td>\n",
       "      <td>NaN</td>\n",
       "      <td>NaN</td>\n",
       "      <td>NaN</td>\n",
       "    </tr>\n",
       "    <tr>\n",
       "      <th>3.500321e+09</th>\n",
       "      <td>CHAMPLIN EXPLORATION INC</td>\n",
       "      <td>4030.0</td>\n",
       "      <td>2R</td>\n",
       "      <td>GRAY</td>\n",
       "      <td>1A</td>\n",
       "      <td>4.702570e+05</td>\n",
       "      <td>11/27/2002</td>\n",
       "      <td>ALFALFA</td>\n",
       "      <td>20</td>\n",
       "      <td>28N</td>\n",
       "      <td>09W</td>\n",
       "      <td>SE SW NW</td>\n",
       "      <td>36.892128</td>\n",
       "      <td>-98.194620</td>\n",
       "      <td>1,000</td>\n",
       "      <td>2,400</td>\n",
       "      <td>RED FORK</td>\n",
       "      <td>NaN</td>\n",
       "      <td>NaN</td>\n",
       "      <td>NaN</td>\n",
       "    </tr>\n",
       "    <tr>\n",
       "      <th>...</th>\n",
       "      <td>...</td>\n",
       "      <td>...</td>\n",
       "      <td>...</td>\n",
       "      <td>...</td>\n",
       "      <td>...</td>\n",
       "      <td>...</td>\n",
       "      <td>...</td>\n",
       "      <td>...</td>\n",
       "      <td>...</td>\n",
       "      <td>...</td>\n",
       "      <td>...</td>\n",
       "      <td>...</td>\n",
       "      <td>...</td>\n",
       "      <td>...</td>\n",
       "      <td>...</td>\n",
       "      <td>...</td>\n",
       "      <td>...</td>\n",
       "      <td>...</td>\n",
       "      <td>...</td>\n",
       "      <td>...</td>\n",
       "    </tr>\n",
       "    <tr>\n",
       "      <th>3.515324e+09</th>\n",
       "      <td>SANDRIDGE EXPLORATION &amp; PRODUCTION LLC</td>\n",
       "      <td>22281.0</td>\n",
       "      <td>2D</td>\n",
       "      <td>JIMMIE SWD</td>\n",
       "      <td>1-28</td>\n",
       "      <td>1.303440e+09</td>\n",
       "      <td>12/7/2012</td>\n",
       "      <td>WOODWARD</td>\n",
       "      <td>28</td>\n",
       "      <td>23N</td>\n",
       "      <td>18W</td>\n",
       "      <td>E2 W2 SW SW</td>\n",
       "      <td>36.436857</td>\n",
       "      <td>-99.137391</td>\n",
       "      <td>2,940</td>\n",
       "      <td>60,000</td>\n",
       "      <td>MUSSELLEM, OKLAHOMA</td>\n",
       "      <td>NaN</td>\n",
       "      <td>NaN</td>\n",
       "      <td>NaN</td>\n",
       "    </tr>\n",
       "    <tr>\n",
       "      <th>3.515324e+09</th>\n",
       "      <td>OVERFLOW ENERGY, LLC</td>\n",
       "      <td>22383.0</td>\n",
       "      <td>CDW</td>\n",
       "      <td>MUTUAL SWD</td>\n",
       "      <td>1</td>\n",
       "      <td>1.608510e+09</td>\n",
       "      <td>10/21/2016</td>\n",
       "      <td>WOODWARD</td>\n",
       "      <td>09</td>\n",
       "      <td>20N</td>\n",
       "      <td>18W</td>\n",
       "      <td>N2 NE NE</td>\n",
       "      <td>0.000000</td>\n",
       "      <td>0.000000</td>\n",
       "      <td>1,625</td>\n",
       "      <td>25,000</td>\n",
       "      <td>DOUGLAS, WOLFCAMP</td>\n",
       "      <td>NaN</td>\n",
       "      <td>NaN</td>\n",
       "      <td>NaN</td>\n",
       "    </tr>\n",
       "    <tr>\n",
       "      <th>3.515324e+09</th>\n",
       "      <td>RED MOUNTAIN OPERATING, LLC</td>\n",
       "      <td>23694.0</td>\n",
       "      <td>2D</td>\n",
       "      <td>HEDGES</td>\n",
       "      <td>1 SWD</td>\n",
       "      <td>1.703870e+09</td>\n",
       "      <td>12/28/2016</td>\n",
       "      <td>WOODWARD</td>\n",
       "      <td>14</td>\n",
       "      <td>21N</td>\n",
       "      <td>17W</td>\n",
       "      <td>SW SE SE</td>\n",
       "      <td>0.000000</td>\n",
       "      <td>0.000000</td>\n",
       "      <td>1,550</td>\n",
       "      <td>15,000</td>\n",
       "      <td>VIRGILIAN, WOLFCAMP,</td>\n",
       "      <td>NaN</td>\n",
       "      <td>NaN</td>\n",
       "      <td>NaN</td>\n",
       "    </tr>\n",
       "    <tr>\n",
       "      <th>3.515324e+09</th>\n",
       "      <td>RED MOUNTAIN OPERATING, LLC</td>\n",
       "      <td>23695.0</td>\n",
       "      <td>2D</td>\n",
       "      <td>GARVIE</td>\n",
       "      <td>1 SWD</td>\n",
       "      <td>1.703600e+09</td>\n",
       "      <td>12/28/2016</td>\n",
       "      <td>WOODWARD</td>\n",
       "      <td>33</td>\n",
       "      <td>21N</td>\n",
       "      <td>17W</td>\n",
       "      <td>NW NE NE</td>\n",
       "      <td>0.000000</td>\n",
       "      <td>0.000000</td>\n",
       "      <td>1,550</td>\n",
       "      <td>15,000</td>\n",
       "      <td>ADMIRE, CHASE, COUNCIL GROVE, DOUGLAS, PONTOTO...</td>\n",
       "      <td>NaN</td>\n",
       "      <td>NaN</td>\n",
       "      <td>NaN</td>\n",
       "    </tr>\n",
       "    <tr>\n",
       "      <th>NaN</th>\n",
       "      <td>NaN</td>\n",
       "      <td>NaN</td>\n",
       "      <td>NaN</td>\n",
       "      <td>NaN</td>\n",
       "      <td>NaN</td>\n",
       "      <td>NaN</td>\n",
       "      <td>NaN</td>\n",
       "      <td>NaN</td>\n",
       "      <td>NaN</td>\n",
       "      <td>NaN</td>\n",
       "      <td>NaN</td>\n",
       "      <td>NaN</td>\n",
       "      <td>NaN</td>\n",
       "      <td>NaN</td>\n",
       "      <td>NaN</td>\n",
       "      <td>NaN</td>\n",
       "      <td>NaN</td>\n",
       "      <td>NaN</td>\n",
       "      <td>NaN</td>\n",
       "      <td>NaN</td>\n",
       "    </tr>\n",
       "  </tbody>\n",
       "</table>\n",
       "<p>11126 rows × 20 columns</p>\n",
       "</div>"
      ],
      "text/plain": [
       "                                            Operator  Operator ID WellType  \\\n",
       "API#                                                                         \n",
       "3.500300e+09                   PHOENIX PETROCORP INC      19499.0       2R   \n",
       "3.500300e+09                CHAMPLIN EXPLORATION INC       4030.0       2R   \n",
       "3.500321e+09                      LINN OPERATING INC      22182.0       2R   \n",
       "3.500321e+09  SANDRIDGE EXPLORATION & PRODUCTION LLC      22281.0       2R   \n",
       "3.500321e+09                CHAMPLIN EXPLORATION INC       4030.0       2R   \n",
       "...                                              ...          ...      ...   \n",
       "3.515324e+09  SANDRIDGE EXPLORATION & PRODUCTION LLC      22281.0       2D   \n",
       "3.515324e+09                    OVERFLOW ENERGY, LLC      22383.0      CDW   \n",
       "3.515324e+09             RED MOUNTAIN OPERATING, LLC      23694.0       2D   \n",
       "3.515324e+09             RED MOUNTAIN OPERATING, LLC      23695.0       2D   \n",
       "NaN                                              NaN          NaN      NaN   \n",
       "\n",
       "                              WellName WellNumber  OrderNumbers Approval Date  \\\n",
       "API#                                                                            \n",
       "3.500300e+09  SE EUREKA UNIT-TUCKER #1         21  1.338560e+05      9/6/1977   \n",
       "3.500300e+09               CHRISTENSEN          1  4.702580e+05    11/27/2002   \n",
       "3.500321e+09          NE CHEROKEE UNIT         85  3.294260e+05     8/19/1988   \n",
       "3.500321e+09                     VELMA       2-19  2.816520e+05     7/11/1985   \n",
       "3.500321e+09                      GRAY         1A  4.702570e+05    11/27/2002   \n",
       "...                                ...        ...           ...           ...   \n",
       "3.515324e+09                JIMMIE SWD       1-28  1.303440e+09     12/7/2012   \n",
       "3.515324e+09               MUTUAL SWD           1  1.608510e+09    10/21/2016   \n",
       "3.515324e+09                   HEDGES       1 SWD  1.703870e+09    12/28/2016   \n",
       "3.515324e+09                   GARVIE       1 SWD  1.703600e+09    12/28/2016   \n",
       "NaN                                NaN        NaN           NaN           NaN   \n",
       "\n",
       "                County  Sec  Twp  Rng         QQQQ        LAT       LONG  \\\n",
       "API#                                                                       \n",
       "3.500300e+09   ALFALFA   13  28N  10W      C-SE SE  36.900324 -98.218260   \n",
       "3.500300e+09   ALFALFA   21  28N  09W      C-NW NW  36.896636 -98.177720   \n",
       "3.500321e+09   ALFALFA   24  27N  11W        SE NE  36.806113 -98.325840   \n",
       "3.500321e+09   ALFALFA   19  28N  10W  SW NE NE SW  36.888589 -98.318530   \n",
       "3.500321e+09   ALFALFA   20  28N  09W     SE SW NW  36.892128 -98.194620   \n",
       "...                ...  ...  ...  ...          ...        ...        ...   \n",
       "3.515324e+09  WOODWARD   28  23N  18W  E2 W2 SW SW  36.436857 -99.137391   \n",
       "3.515324e+09  WOODWARD   09  20N  18W     N2 NE NE   0.000000   0.000000   \n",
       "3.515324e+09  WOODWARD   14  21N  17W     SW SE SE   0.000000   0.000000   \n",
       "3.515324e+09  WOODWARD   33  21N  17W     NW NE NE   0.000000   0.000000   \n",
       "NaN                NaN  NaN  NaN  NaN          NaN        NaN        NaN   \n",
       "\n",
       "                PSI    BBLS  \\\n",
       "API#                          \n",
       "3.500300e+09  2,500     300   \n",
       "3.500300e+09  2,400   1,000   \n",
       "3.500321e+09  1,050   1,000   \n",
       "3.500321e+09  3,152   1,000   \n",
       "3.500321e+09  1,000   2,400   \n",
       "...             ...     ...   \n",
       "3.515324e+09  2,940  60,000   \n",
       "3.515324e+09  1,625  25,000   \n",
       "3.515324e+09  1,550  15,000   \n",
       "3.515324e+09  1,550  15,000   \n",
       "NaN             NaN     NaN   \n",
       "\n",
       "                                                           ZONE  Unnamed: 18  \\\n",
       "API#                                                                           \n",
       "3.500300e+09                                           CHEROKEE          NaN   \n",
       "3.500300e+09                                           RED FORK          NaN   \n",
       "3.500321e+09                                           RED FORK          NaN   \n",
       "3.500321e+09                                           RED FORK          NaN   \n",
       "3.500321e+09                                           RED FORK          NaN   \n",
       "...                                                         ...          ...   \n",
       "3.515324e+09                                MUSSELLEM, OKLAHOMA          NaN   \n",
       "3.515324e+09                                 DOUGLAS, WOLFCAMP           NaN   \n",
       "3.515324e+09                               VIRGILIAN, WOLFCAMP,          NaN   \n",
       "3.515324e+09  ADMIRE, CHASE, COUNCIL GROVE, DOUGLAS, PONTOTO...          NaN   \n",
       "NaN                                                         NaN          NaN   \n",
       "\n",
       "              Unnamed: 19  Unnamed: 20  \n",
       "API#                                    \n",
       "3.500300e+09          NaN          NaN  \n",
       "3.500300e+09          NaN          NaN  \n",
       "3.500321e+09          NaN          NaN  \n",
       "3.500321e+09          NaN          NaN  \n",
       "3.500321e+09          NaN          NaN  \n",
       "...                   ...          ...  \n",
       "3.515324e+09          NaN          NaN  \n",
       "3.515324e+09          NaN          NaN  \n",
       "3.515324e+09          NaN          NaN  \n",
       "3.515324e+09          NaN          NaN  \n",
       "NaN                   NaN          NaN  \n",
       "\n",
       "[11126 rows x 20 columns]"
      ]
     },
     "execution_count": 5,
     "metadata": {},
     "output_type": "execute_result"
    }
   ],
   "source": [
    "# Procedure 3 Read your dataset into a Pandas Dataframe \n",
    "# Index = API# (An API well number or API number is a \"unique, permanent, numeric identifier\" assigned to each well drilled for oil and gas in the United States)\n",
    "\n",
    "InjectionWells_df = pd.read_csv(\"InjectionWells.csv\", index_col=\"API#\")\n",
    "InjectionWells_df"
   ]
  },
  {
   "cell_type": "code",
   "execution_count": null,
   "metadata": {},
   "outputs": [],
   "source": []
  },
  {
   "cell_type": "code",
   "execution_count": 6,
   "metadata": {},
   "outputs": [],
   "source": [
    "InjectionWells_df.drop('Unnamed: 18', axis=1, inplace=True)"
   ]
  },
  {
   "cell_type": "code",
   "execution_count": 7,
   "metadata": {},
   "outputs": [],
   "source": [
    "InjectionWells_df.drop('Unnamed: 19', axis=1, inplace=True)"
   ]
  },
  {
   "cell_type": "code",
   "execution_count": 8,
   "metadata": {},
   "outputs": [],
   "source": [
    "InjectionWells_df.drop('Unnamed: 20', axis=1, inplace=True)"
   ]
  },
  {
   "cell_type": "code",
   "execution_count": null,
   "metadata": {},
   "outputs": [],
   "source": []
  },
  {
   "cell_type": "code",
   "execution_count": 9,
   "metadata": {},
   "outputs": [
    {
     "data": {
      "text/html": [
       "<div>\n",
       "<style scoped>\n",
       "    .dataframe tbody tr th:only-of-type {\n",
       "        vertical-align: middle;\n",
       "    }\n",
       "\n",
       "    .dataframe tbody tr th {\n",
       "        vertical-align: top;\n",
       "    }\n",
       "\n",
       "    .dataframe thead th {\n",
       "        text-align: right;\n",
       "    }\n",
       "</style>\n",
       "<table border=\"1\" class=\"dataframe\">\n",
       "  <thead>\n",
       "    <tr style=\"text-align: right;\">\n",
       "      <th></th>\n",
       "      <th>Operator</th>\n",
       "      <th>Operator ID</th>\n",
       "      <th>WellType</th>\n",
       "      <th>WellName</th>\n",
       "      <th>WellNumber</th>\n",
       "      <th>OrderNumbers</th>\n",
       "      <th>Approval Date</th>\n",
       "      <th>County</th>\n",
       "      <th>Sec</th>\n",
       "      <th>Twp</th>\n",
       "      <th>Rng</th>\n",
       "      <th>QQQQ</th>\n",
       "      <th>LAT</th>\n",
       "      <th>LONG</th>\n",
       "      <th>PSI</th>\n",
       "      <th>BBLS</th>\n",
       "      <th>ZONE</th>\n",
       "    </tr>\n",
       "    <tr>\n",
       "      <th>API#</th>\n",
       "      <th></th>\n",
       "      <th></th>\n",
       "      <th></th>\n",
       "      <th></th>\n",
       "      <th></th>\n",
       "      <th></th>\n",
       "      <th></th>\n",
       "      <th></th>\n",
       "      <th></th>\n",
       "      <th></th>\n",
       "      <th></th>\n",
       "      <th></th>\n",
       "      <th></th>\n",
       "      <th></th>\n",
       "      <th></th>\n",
       "      <th></th>\n",
       "      <th></th>\n",
       "    </tr>\n",
       "  </thead>\n",
       "  <tbody>\n",
       "    <tr>\n",
       "      <th>3.500300e+09</th>\n",
       "      <td>PHOENIX PETROCORP INC</td>\n",
       "      <td>19499.0</td>\n",
       "      <td>2R</td>\n",
       "      <td>SE EUREKA UNIT-TUCKER #1</td>\n",
       "      <td>21</td>\n",
       "      <td>1.338560e+05</td>\n",
       "      <td>9/6/1977</td>\n",
       "      <td>ALFALFA</td>\n",
       "      <td>13</td>\n",
       "      <td>28N</td>\n",
       "      <td>10W</td>\n",
       "      <td>C-SE SE</td>\n",
       "      <td>36.900324</td>\n",
       "      <td>-98.218260</td>\n",
       "      <td>2,500</td>\n",
       "      <td>300</td>\n",
       "      <td>CHEROKEE</td>\n",
       "    </tr>\n",
       "    <tr>\n",
       "      <th>3.500300e+09</th>\n",
       "      <td>CHAMPLIN EXPLORATION INC</td>\n",
       "      <td>4030.0</td>\n",
       "      <td>2R</td>\n",
       "      <td>CHRISTENSEN</td>\n",
       "      <td>1</td>\n",
       "      <td>4.702580e+05</td>\n",
       "      <td>11/27/2002</td>\n",
       "      <td>ALFALFA</td>\n",
       "      <td>21</td>\n",
       "      <td>28N</td>\n",
       "      <td>09W</td>\n",
       "      <td>C-NW NW</td>\n",
       "      <td>36.896636</td>\n",
       "      <td>-98.177720</td>\n",
       "      <td>2,400</td>\n",
       "      <td>1,000</td>\n",
       "      <td>RED FORK</td>\n",
       "    </tr>\n",
       "    <tr>\n",
       "      <th>3.500321e+09</th>\n",
       "      <td>LINN OPERATING INC</td>\n",
       "      <td>22182.0</td>\n",
       "      <td>2R</td>\n",
       "      <td>NE CHEROKEE UNIT</td>\n",
       "      <td>85</td>\n",
       "      <td>3.294260e+05</td>\n",
       "      <td>8/19/1988</td>\n",
       "      <td>ALFALFA</td>\n",
       "      <td>24</td>\n",
       "      <td>27N</td>\n",
       "      <td>11W</td>\n",
       "      <td>SE NE</td>\n",
       "      <td>36.806113</td>\n",
       "      <td>-98.325840</td>\n",
       "      <td>1,050</td>\n",
       "      <td>1,000</td>\n",
       "      <td>RED FORK</td>\n",
       "    </tr>\n",
       "    <tr>\n",
       "      <th>3.500321e+09</th>\n",
       "      <td>SANDRIDGE EXPLORATION &amp; PRODUCTION LLC</td>\n",
       "      <td>22281.0</td>\n",
       "      <td>2R</td>\n",
       "      <td>VELMA</td>\n",
       "      <td>2-19</td>\n",
       "      <td>2.816520e+05</td>\n",
       "      <td>7/11/1985</td>\n",
       "      <td>ALFALFA</td>\n",
       "      <td>19</td>\n",
       "      <td>28N</td>\n",
       "      <td>10W</td>\n",
       "      <td>SW NE NE SW</td>\n",
       "      <td>36.888589</td>\n",
       "      <td>-98.318530</td>\n",
       "      <td>3,152</td>\n",
       "      <td>1,000</td>\n",
       "      <td>RED FORK</td>\n",
       "    </tr>\n",
       "    <tr>\n",
       "      <th>3.500321e+09</th>\n",
       "      <td>CHAMPLIN EXPLORATION INC</td>\n",
       "      <td>4030.0</td>\n",
       "      <td>2R</td>\n",
       "      <td>GRAY</td>\n",
       "      <td>1A</td>\n",
       "      <td>4.702570e+05</td>\n",
       "      <td>11/27/2002</td>\n",
       "      <td>ALFALFA</td>\n",
       "      <td>20</td>\n",
       "      <td>28N</td>\n",
       "      <td>09W</td>\n",
       "      <td>SE SW NW</td>\n",
       "      <td>36.892128</td>\n",
       "      <td>-98.194620</td>\n",
       "      <td>1,000</td>\n",
       "      <td>2,400</td>\n",
       "      <td>RED FORK</td>\n",
       "    </tr>\n",
       "    <tr>\n",
       "      <th>...</th>\n",
       "      <td>...</td>\n",
       "      <td>...</td>\n",
       "      <td>...</td>\n",
       "      <td>...</td>\n",
       "      <td>...</td>\n",
       "      <td>...</td>\n",
       "      <td>...</td>\n",
       "      <td>...</td>\n",
       "      <td>...</td>\n",
       "      <td>...</td>\n",
       "      <td>...</td>\n",
       "      <td>...</td>\n",
       "      <td>...</td>\n",
       "      <td>...</td>\n",
       "      <td>...</td>\n",
       "      <td>...</td>\n",
       "      <td>...</td>\n",
       "    </tr>\n",
       "    <tr>\n",
       "      <th>3.515324e+09</th>\n",
       "      <td>SANDRIDGE EXPLORATION &amp; PRODUCTION LLC</td>\n",
       "      <td>22281.0</td>\n",
       "      <td>2D</td>\n",
       "      <td>JIMMIE SWD</td>\n",
       "      <td>1-28</td>\n",
       "      <td>1.303440e+09</td>\n",
       "      <td>12/7/2012</td>\n",
       "      <td>WOODWARD</td>\n",
       "      <td>28</td>\n",
       "      <td>23N</td>\n",
       "      <td>18W</td>\n",
       "      <td>E2 W2 SW SW</td>\n",
       "      <td>36.436857</td>\n",
       "      <td>-99.137391</td>\n",
       "      <td>2,940</td>\n",
       "      <td>60,000</td>\n",
       "      <td>MUSSELLEM, OKLAHOMA</td>\n",
       "    </tr>\n",
       "    <tr>\n",
       "      <th>3.515324e+09</th>\n",
       "      <td>OVERFLOW ENERGY, LLC</td>\n",
       "      <td>22383.0</td>\n",
       "      <td>CDW</td>\n",
       "      <td>MUTUAL SWD</td>\n",
       "      <td>1</td>\n",
       "      <td>1.608510e+09</td>\n",
       "      <td>10/21/2016</td>\n",
       "      <td>WOODWARD</td>\n",
       "      <td>09</td>\n",
       "      <td>20N</td>\n",
       "      <td>18W</td>\n",
       "      <td>N2 NE NE</td>\n",
       "      <td>0.000000</td>\n",
       "      <td>0.000000</td>\n",
       "      <td>1,625</td>\n",
       "      <td>25,000</td>\n",
       "      <td>DOUGLAS, WOLFCAMP</td>\n",
       "    </tr>\n",
       "    <tr>\n",
       "      <th>3.515324e+09</th>\n",
       "      <td>RED MOUNTAIN OPERATING, LLC</td>\n",
       "      <td>23694.0</td>\n",
       "      <td>2D</td>\n",
       "      <td>HEDGES</td>\n",
       "      <td>1 SWD</td>\n",
       "      <td>1.703870e+09</td>\n",
       "      <td>12/28/2016</td>\n",
       "      <td>WOODWARD</td>\n",
       "      <td>14</td>\n",
       "      <td>21N</td>\n",
       "      <td>17W</td>\n",
       "      <td>SW SE SE</td>\n",
       "      <td>0.000000</td>\n",
       "      <td>0.000000</td>\n",
       "      <td>1,550</td>\n",
       "      <td>15,000</td>\n",
       "      <td>VIRGILIAN, WOLFCAMP,</td>\n",
       "    </tr>\n",
       "    <tr>\n",
       "      <th>3.515324e+09</th>\n",
       "      <td>RED MOUNTAIN OPERATING, LLC</td>\n",
       "      <td>23695.0</td>\n",
       "      <td>2D</td>\n",
       "      <td>GARVIE</td>\n",
       "      <td>1 SWD</td>\n",
       "      <td>1.703600e+09</td>\n",
       "      <td>12/28/2016</td>\n",
       "      <td>WOODWARD</td>\n",
       "      <td>33</td>\n",
       "      <td>21N</td>\n",
       "      <td>17W</td>\n",
       "      <td>NW NE NE</td>\n",
       "      <td>0.000000</td>\n",
       "      <td>0.000000</td>\n",
       "      <td>1,550</td>\n",
       "      <td>15,000</td>\n",
       "      <td>ADMIRE, CHASE, COUNCIL GROVE, DOUGLAS, PONTOTO...</td>\n",
       "    </tr>\n",
       "    <tr>\n",
       "      <th>NaN</th>\n",
       "      <td>NaN</td>\n",
       "      <td>NaN</td>\n",
       "      <td>NaN</td>\n",
       "      <td>NaN</td>\n",
       "      <td>NaN</td>\n",
       "      <td>NaN</td>\n",
       "      <td>NaN</td>\n",
       "      <td>NaN</td>\n",
       "      <td>NaN</td>\n",
       "      <td>NaN</td>\n",
       "      <td>NaN</td>\n",
       "      <td>NaN</td>\n",
       "      <td>NaN</td>\n",
       "      <td>NaN</td>\n",
       "      <td>NaN</td>\n",
       "      <td>NaN</td>\n",
       "      <td>NaN</td>\n",
       "    </tr>\n",
       "  </tbody>\n",
       "</table>\n",
       "<p>11126 rows × 17 columns</p>\n",
       "</div>"
      ],
      "text/plain": [
       "                                            Operator  Operator ID WellType  \\\n",
       "API#                                                                         \n",
       "3.500300e+09                   PHOENIX PETROCORP INC      19499.0       2R   \n",
       "3.500300e+09                CHAMPLIN EXPLORATION INC       4030.0       2R   \n",
       "3.500321e+09                      LINN OPERATING INC      22182.0       2R   \n",
       "3.500321e+09  SANDRIDGE EXPLORATION & PRODUCTION LLC      22281.0       2R   \n",
       "3.500321e+09                CHAMPLIN EXPLORATION INC       4030.0       2R   \n",
       "...                                              ...          ...      ...   \n",
       "3.515324e+09  SANDRIDGE EXPLORATION & PRODUCTION LLC      22281.0       2D   \n",
       "3.515324e+09                    OVERFLOW ENERGY, LLC      22383.0      CDW   \n",
       "3.515324e+09             RED MOUNTAIN OPERATING, LLC      23694.0       2D   \n",
       "3.515324e+09             RED MOUNTAIN OPERATING, LLC      23695.0       2D   \n",
       "NaN                                              NaN          NaN      NaN   \n",
       "\n",
       "                              WellName WellNumber  OrderNumbers Approval Date  \\\n",
       "API#                                                                            \n",
       "3.500300e+09  SE EUREKA UNIT-TUCKER #1         21  1.338560e+05      9/6/1977   \n",
       "3.500300e+09               CHRISTENSEN          1  4.702580e+05    11/27/2002   \n",
       "3.500321e+09          NE CHEROKEE UNIT         85  3.294260e+05     8/19/1988   \n",
       "3.500321e+09                     VELMA       2-19  2.816520e+05     7/11/1985   \n",
       "3.500321e+09                      GRAY         1A  4.702570e+05    11/27/2002   \n",
       "...                                ...        ...           ...           ...   \n",
       "3.515324e+09                JIMMIE SWD       1-28  1.303440e+09     12/7/2012   \n",
       "3.515324e+09               MUTUAL SWD           1  1.608510e+09    10/21/2016   \n",
       "3.515324e+09                   HEDGES       1 SWD  1.703870e+09    12/28/2016   \n",
       "3.515324e+09                   GARVIE       1 SWD  1.703600e+09    12/28/2016   \n",
       "NaN                                NaN        NaN           NaN           NaN   \n",
       "\n",
       "                County  Sec  Twp  Rng         QQQQ        LAT       LONG  \\\n",
       "API#                                                                       \n",
       "3.500300e+09   ALFALFA   13  28N  10W      C-SE SE  36.900324 -98.218260   \n",
       "3.500300e+09   ALFALFA   21  28N  09W      C-NW NW  36.896636 -98.177720   \n",
       "3.500321e+09   ALFALFA   24  27N  11W        SE NE  36.806113 -98.325840   \n",
       "3.500321e+09   ALFALFA   19  28N  10W  SW NE NE SW  36.888589 -98.318530   \n",
       "3.500321e+09   ALFALFA   20  28N  09W     SE SW NW  36.892128 -98.194620   \n",
       "...                ...  ...  ...  ...          ...        ...        ...   \n",
       "3.515324e+09  WOODWARD   28  23N  18W  E2 W2 SW SW  36.436857 -99.137391   \n",
       "3.515324e+09  WOODWARD   09  20N  18W     N2 NE NE   0.000000   0.000000   \n",
       "3.515324e+09  WOODWARD   14  21N  17W     SW SE SE   0.000000   0.000000   \n",
       "3.515324e+09  WOODWARD   33  21N  17W     NW NE NE   0.000000   0.000000   \n",
       "NaN                NaN  NaN  NaN  NaN          NaN        NaN        NaN   \n",
       "\n",
       "                PSI    BBLS                                               ZONE  \n",
       "API#                                                                            \n",
       "3.500300e+09  2,500     300                                           CHEROKEE  \n",
       "3.500300e+09  2,400   1,000                                           RED FORK  \n",
       "3.500321e+09  1,050   1,000                                           RED FORK  \n",
       "3.500321e+09  3,152   1,000                                           RED FORK  \n",
       "3.500321e+09  1,000   2,400                                           RED FORK  \n",
       "...             ...     ...                                                ...  \n",
       "3.515324e+09  2,940  60,000                                MUSSELLEM, OKLAHOMA  \n",
       "3.515324e+09  1,625  25,000                                 DOUGLAS, WOLFCAMP   \n",
       "3.515324e+09  1,550  15,000                               VIRGILIAN, WOLFCAMP,  \n",
       "3.515324e+09  1,550  15,000  ADMIRE, CHASE, COUNCIL GROVE, DOUGLAS, PONTOTO...  \n",
       "NaN             NaN     NaN                                                NaN  \n",
       "\n",
       "[11126 rows x 17 columns]"
      ]
     },
     "execution_count": 9,
     "metadata": {},
     "output_type": "execute_result"
    }
   ],
   "source": [
    "\n",
    "InjectionWells_df"
   ]
  },
  {
   "cell_type": "code",
   "execution_count": null,
   "metadata": {},
   "outputs": [],
   "source": []
  },
  {
   "cell_type": "code",
   "execution_count": 11,
   "metadata": {},
   "outputs": [
    {
     "data": {
      "text/plain": [
       "(11126, 17)"
      ]
     },
     "execution_count": 11,
     "metadata": {},
     "output_type": "execute_result"
    }
   ],
   "source": [
    "#Procedure 4a&c: The number of columns&The number of rows \n",
    "\n",
    "InjectionWells_df.shape"
   ]
  },
  {
   "cell_type": "code",
   "execution_count": 12,
   "metadata": {},
   "outputs": [
    {
     "data": {
      "text/plain": [
       "Index(['Operator', 'Operator ID', 'WellType', 'WellName', 'WellNumber',\n",
       "       'OrderNumbers', 'Approval Date', 'County', 'Sec', 'Twp', 'Rng', 'QQQQ',\n",
       "       'LAT', 'LONG', 'PSI', 'BBLS', 'ZONE'],\n",
       "      dtype='object')"
      ]
     },
     "execution_count": 12,
     "metadata": {},
     "output_type": "execute_result"
    }
   ],
   "source": [
    "#Procedure 4b: The columns' names \n",
    "\n",
    "InjectionWells_df.columns"
   ]
  },
  {
   "cell_type": "markdown",
   "metadata": {},
   "source": []
  },
  {
   "cell_type": "markdown",
   "metadata": {},
   "source": []
  },
  {
   "cell_type": "markdown",
   "metadata": {},
   "source": [
    "## PART 1: DATA CATEGORIZATION AND CLEANING"
   ]
  },
  {
   "cell_type": "code",
   "execution_count": 13,
   "metadata": {},
   "outputs": [
    {
     "data": {
      "text/plain": [
       "False"
      ]
     },
     "execution_count": 13,
     "metadata": {},
     "output_type": "execute_result"
    }
   ],
   "source": [
    "# Procedure 1a. Drop any duplicated data (rows) from the dataset:\n",
    "# There are no duplicated data to drop given the result of the below operation:-\n",
    "\n",
    "InjectionWells_df.duplicated().any()"
   ]
  },
  {
   "cell_type": "code",
   "execution_count": null,
   "metadata": {},
   "outputs": [],
   "source": []
  },
  {
   "cell_type": "code",
   "execution_count": 14,
   "metadata": {},
   "outputs": [],
   "source": [
    "#Procedure 1b. Write a script to get numeric columns and non-numeric columns\n",
    "# getting numeric columns\n",
    "\n",
    "def get_dtype_columns(df, type_):\n",
    "    if type_ == 'numeric':\n",
    "        return df.select_dtypes(include=[np.number]).columns.values\n",
    "    else:\n",
    "        return df.select_dtypes(exclude=[np.number]).columns.values"
   ]
  },
  {
   "cell_type": "code",
   "execution_count": 15,
   "metadata": {},
   "outputs": [
    {
     "data": {
      "text/plain": [
       "array(['Operator ID', 'OrderNumbers', 'LAT', 'LONG'], dtype=object)"
      ]
     },
     "execution_count": 15,
     "metadata": {},
     "output_type": "execute_result"
    }
   ],
   "source": [
    "numeric_cols = get_dtype_columns(InjectionWells_df, 'numeric')\n",
    "numeric_cols"
   ]
  },
  {
   "cell_type": "code",
   "execution_count": 16,
   "metadata": {},
   "outputs": [],
   "source": [
    "# getting non-numeric columns\n",
    "\n",
    "\n",
    "def get_dtype_columns(df, type_):\n",
    "    if type_ == 'non-numeric':\n",
    "        return df.select_dtypes(exclude=[np.number]).columns.values\n",
    "    else:\n",
    "        return df.select_dtypes(include=[np.number]).columns.values"
   ]
  },
  {
   "cell_type": "code",
   "execution_count": 17,
   "metadata": {},
   "outputs": [
    {
     "data": {
      "text/plain": [
       "array(['Operator', 'WellType', 'WellName', 'WellNumber', 'Approval Date',\n",
       "       'County', 'Sec', 'Twp', 'Rng', 'QQQQ', 'PSI', 'BBLS', 'ZONE'],\n",
       "      dtype=object)"
      ]
     },
     "execution_count": 17,
     "metadata": {},
     "output_type": "execute_result"
    }
   ],
   "source": [
    "non_numeric_cols = get_dtype_columns(InjectionWells_df, 'non-numeric')\n",
    "non_numeric_cols"
   ]
  },
  {
   "cell_type": "markdown",
   "metadata": {},
   "source": [
    "#### Given what i know about the dataset, 'PSI' and 'BBLS' shouldn't be non-numeric so I would want to cast to integer but first, I would like to check for inconsistent data within these two features:"
   ]
  },
  {
   "cell_type": "code",
   "execution_count": 18,
   "metadata": {},
   "outputs": [
    {
     "data": {
      "text/plain": [
       "array(['2,500', '2,400', '1,050', '3,152', '1,000', '750', '1,280', '0',\n",
       "       '1,500', '3,500', '500', '1,250', '2,000', '3,000', '2,800',\n",
       "       '2,264', '2,320', '2,375', '2,285', '2,300', '400', '2,250',\n",
       "       '2,450', '5,915', '250', '700', '1,450', '1,200', '1,400', '300',\n",
       "       '50', '914', '1,350', nan, '1,600', '902', '100', '1,700', '325',\n",
       "       '110', '850', '800', '200', '1,900', '1,800', '2,150', '1,912',\n",
       "       '1,640', '1,688', '2,100', '1,785', '2,475', '1,650', '1,550',\n",
       "       '1,300', '900', '435', '2,200', '1,675', '4,900', '4,500', '4,978',\n",
       "       '3,600', '1,140', '5,500', '5,000', '4,000', '801', '980', '1,100',\n",
       "       '982', '1,850', '650', '840', '1,026', '950', '1,076', '1,008',\n",
       "       '600', '1,014', '1,816', '1,740', '1,750', '825', '2,342', '2,570',\n",
       "       '420', '1,115', '1,087', '1,235', '1,290', '1,305', '1,210',\n",
       "       '1,862', '3,150', '2,245', '150', '886', '722', '1,145', '1,340',\n",
       "       '796', '1,080', '1,109', '1,195', '1,085', '443', '75', '2,750',\n",
       "       '2,280', '2,947', '2,517', '550', '1,075', '1,135', '2,504',\n",
       "       '1,775', '350', '450', '545', '1,150', '2,850', '2,700', '1,375',\n",
       "       '540', '2,765', '630', '1,720', '1,730', '515', '160', '1,060',\n",
       "       '1,840', '806', '670', '2,273', '622', '430', '790', '610', '380',\n",
       "       '496', '280', '2,950', '717', '477', '502', '506', '225', '560',\n",
       "       '431', '720', '2,900', '820', '2,514', '690', '2,909', '555',\n",
       "       '491', '890', '3,019', '2,180', '182', '768', '534', '1,176',\n",
       "       '724', '795', '579', '792', '1,238', '990', '1,644', '625', '461',\n",
       "       '816', '1,031', '1,330', '199', '427', '184', '1,380', '983', '86',\n",
       "       '960', '80', '525', '410', '485', '434', '580', '2,295', '2,305',\n",
       "       '2,293', '2,294', '2,313', '4,080', '415', '170', '30', '445',\n",
       "       '470', '959', '640', '1,890', '546', '1,430', '1,420', '1,426',\n",
       "       '1,425', '15', '870', '1,175', '1,445', '1,410', '1,405', '125',\n",
       "       '1,265', '1,655', '740', '25', '940', '359', '784', '730', '1,407',\n",
       "       '1,433', '1,435', '1,412', '1,825', '1,925', '480', '2,085',\n",
       "       '3,800', '2,025', '1,635', '1,931', '1,975', '1,860', '1,625',\n",
       "       '4,600', '2,050', '2,020', '2,030', '2,710', '3,200', '3,450',\n",
       "       '3,300', '2,970', '3,295', '2,600', '3,555', '2,880', '3,230',\n",
       "       '3,330', '3,275', '3,046', '3,721', '725', '765', '675', '680',\n",
       "       '972', '597', '760', '770', '855', '2,275', '1,560', '1,470',\n",
       "       '927', '2,585', '3,100', '1,172', '1,950', '946', '1,130', '1,230',\n",
       "       '1,236', '1,667', '4,700', '3,710', '3,737', '915', '2,520',\n",
       "       '2,010', '2,175', '1,986', '1,970', '4,735', '4,782', '4,653',\n",
       "       '4,670', '366', '339', '224B/475G', '226B/479G', '219B/464G',\n",
       "       '222B/470G', '235B/498G', '197B/416G', '225B/476G', '225B/475G',\n",
       "       '223B/472G', '204B/432G', '223B/471G', '228B/483G', '229B/484G',\n",
       "       '229B/486G', '236B/499G', '230B/487G', '202B/428G', '226B/478G',\n",
       "       '227B/481G', '218B/461G', '227B/480G', '3,089', '3,037', '2,662',\n",
       "       '3,083', '2,490', '2,882', '2,972', '2,994', '3,220', '338',\n",
       "       '1,343', '315', '590', '1,337', '395', '330', '135', '365', '425',\n",
       "       '3,582', '2,890', '2,380', '1,240', '275', '90', '70', '60', '775',\n",
       "       '1,040', '602', '979', '165', '210', '40', '475', '2,550', '2,579',\n",
       "       '2,560', '1,870', '2,465', '2,130', '2,060', '1,960', '2,350',\n",
       "       '4,100', '7,440', '6,000', '1,690', '1,660', '780', '375', '1,205',\n",
       "       '1,233', '1,355', '3,190', '3,269', '3,435', '3,213', '3,260',\n",
       "       '1,055', '575', '549', '457', '1,723', '1,930', '1,320', '1,732',\n",
       "       '2,980', '3,381', '185', '941', '1,156', '1,490', '660', '229',\n",
       "       '299', '2,651', '2,620', '2,670', '2,815', '2,847', '2,645',\n",
       "       '2,869', '2,899', '2,720', '2,630', '270', '220', '212', '360',\n",
       "       '345', '416', '175', '130', '290', '187', '246', '320', '620',\n",
       "       '595', '615', '323', '413', '1,480', '1,853', '1,990', '1,090',\n",
       "       '877', '815', '1,789', '1,515', '1,467', '1,637', '1,957', '1,630',\n",
       "       '1,880', '1,760', '1,545', '605', '2,953', '2,536', '2,506',\n",
       "       '2,379', '2,565', '2,729', '2,482', '2,697', '3,035', '4,050',\n",
       "       '705', '2,905', '1,998', '1,818', '1,886', '1,830', '1,845',\n",
       "       '2,032', '1,887', '1,904', '1,857', '1,835', '1,858', '1,812',\n",
       "       'V-2000, CH 1700', '1,702', '1,940', '2,006', '1,753', '1,875',\n",
       "       '1,955', '1,735', '1,837', '1,815', '1,867', '1,881', '1,842',\n",
       "       '1,676', '1,695', '1,770', '1,765', '1,838', '1,715', '1,745',\n",
       "       '1,710', '1,787', '1,725', '1,680', '1,809', '1,824', '2,732',\n",
       "       '3,677', '1,733', '1,855', '3,041', '1,932', '1,628', '1,878',\n",
       "       '1,829', '1,915', '190', '666', '530', '1,945', '1,705', '1,847',\n",
       "       '1,943', '1,763', '1,821', '2,082', '1,888', '1,910', '1,808',\n",
       "       '1,865', '1,962', '1,926', '1,933', '1,903', '1,025', '1,885',\n",
       "       '1,510', '140', '157', '297', '158', '207', '562', '1,190',\n",
       "       '1,260', '35', '66', '98', '706', '2,575', '2,681', '2,675',\n",
       "       '2,730', '1,382', '3,090', '1,220', '202', '232', '1,191', '1,071',\n",
       "       '1,217', '1,232', '1,225', '180', '2,653', '2,640', '2,770',\n",
       "       '2,825', '2,325', '2,340', '2,625', '2,749', '1,275', '310', '263',\n",
       "       '223', '245', '145', '3,400', '265', '143', '235', '215', '164',\n",
       "       '120', '570', '238', '440', '490', '928', '203', '340', '827',\n",
       "       '772', '1,062', '354', '1,321', '462', '333', '466', '385',\n",
       "       '1,214', '1,198', '474', '432', '885', '1,414', '370', '390',\n",
       "       '460', '452', '429', '451', '424', '422', '412', '193', '441',\n",
       "       '465', '499', '387', '374', '361', '322', '356', '341', '467',\n",
       "       '455', '332', '379', '404', '407', '468', '458', '1,774', '1,613',\n",
       "       '1,806', '2,076', '2,220', '1,703', '1,632', '2,040', '1,782',\n",
       "       '405', '419', '408', '505', '589', '495', '486', '472', '493',\n",
       "       '484', '489', '494', '296', '497', '438', '442', '2,290', '1,777',\n",
       "       '739', '2,184', '523', '643', '482', '535', '19,900', '2,316',\n",
       "       '2,258', '2,253', '1,792', '2,940'], dtype=object)"
      ]
     },
     "execution_count": 18,
     "metadata": {},
     "output_type": "execute_result"
    }
   ],
   "source": [
    "InjectionWells_df.PSI.unique()"
   ]
  },
  {
   "cell_type": "code",
   "execution_count": 19,
   "metadata": {},
   "outputs": [
    {
     "data": {
      "text/plain": [
       "array(['300', '1,000', '2,400', '2,000', '1,800', '750', '1,200', '4,500',\n",
       "       '1,500', '20,000', '2,500', '3,000', '100', '50,000', '19,900',\n",
       "       '60,000', '19,500', '100,000', '80,000', '15,000', '10,000',\n",
       "       '65,000', '45,000', '25,000', '40,000', '14,000', '800', '500',\n",
       "       '35', '19,990', '600', '6,000', '14,400', '690', '200', '8,400',\n",
       "       '1,300', '2,200', '3,200', '12,000', '5,000', '80', nan, '1,400',\n",
       "       '2,100', '50', '7,000', '30', '40', '4,000', '900', '4,999',\n",
       "       '8,000', '4,900', '400', '35,000', '650', '0', '7,200', '2,080',\n",
       "       '60', '30,000', '7,500', '19,000', '13,000', '4,600', '2,700',\n",
       "       '3,600', '1,700', '20', '270', '75', '150', '350', '2,600',\n",
       "       '1,625', '925', '550', '250', '3,500', '1,150', '2,550', '1,900',\n",
       "       '1,350', '850', '1,100', '130', '325', '327', '675', '995', '680',\n",
       "       '1,600', '700', '2,800', '26,800', '420', '950', '1,270', '375',\n",
       "       '1,170', '1,380', '1,650', '5,200', '2,850', '1,445', '1,560',\n",
       "       '1,550', '2,250', '999', '1,080', '980', '5,800', '784', '70',\n",
       "       '4,700', '120', '22,000', '38', '610', '3,670', '1,750', '1,075',\n",
       "       '2,900', '4,800', '4,200', '450', '972', '1,250', '2,750', '876',\n",
       "       '591', '360', '604', '144', '184', '480', '3,800', '320', '990',\n",
       "       '2,160', '620', '2,602', '1,905', '24,000', '18,750', '399', '14',\n",
       "       '540', '90', '470', '223', '25', '4,990', '5', '1,556', '2,260',\n",
       "       '656', '4,400', '1,440', '110', '1,450', '840', '575', '10', '54',\n",
       "       '170', '125', '18', '720', '29', '275', '240', '220', '140',\n",
       "       '16,000', '1,166', '12,500', '3,250', '99,000', '175', '4,950',\n",
       "       '15', '17,000', '5,300', '5,500', '180', '875', '23,000', '19,750',\n",
       "       '50,400', '19,200', '36,000', '99,999', '18,000', '16,800', '4',\n",
       "       '19,999', '15,500', '8,500', '75,080', '2,300', '85', '832',\n",
       "       '1,570', '7,600', '2,020', '1,515', '280', '1,050', '75,000',\n",
       "       '9,000', '6,500', '2,147', '3,400', '190', '3,700', '3,840',\n",
       "       '23,288', '17,500', '160', '45', '165', '11,000', 'V-1600, CH 300',\n",
       "       '3,300', '230', '890', '1,903', '1,904', '1,430', '3,731', '3,456',\n",
       "       '1,360', '1,340', '14,500', '65', '1,405', '257', '9,500', '4,750',\n",
       "       '576', '975', '1,275', '315', '1,790', '2', '585', '525', '6',\n",
       "       '225', '7,400', '73', '1,850', '2,860', '1,188', '625', '3,100',\n",
       "       '70,000'], dtype=object)"
      ]
     },
     "execution_count": 19,
     "metadata": {},
     "output_type": "execute_result"
    }
   ],
   "source": [
    "InjectionWells_df.BBLS.unique()"
   ]
  },
  {
   "cell_type": "markdown",
   "metadata": {},
   "source": [
    "#### BBLS has the following inconsistent data: 'V-1600, CH 300'\n",
    "\n",
    "#### PSI has the following inconsistent data: \n",
    "        'V-2000, CH 1700', 224B/475G', '226B/479G', '219B/464G',\n",
    "       '222B/470G', '235B/498G', '197B/416G', '225B/476G', '225B/475G',\n",
    "       '223B/472G', '204B/432G', '223B/471G', '228B/483G', '229B/484G',\n",
    "       '229B/486G', '236B/499G', '230B/487G', '202B/428G', '226B/478G',\n",
    "       '227B/481G', '218B/461G', '227B/480G'"
   ]
  },
  {
   "cell_type": "code",
   "execution_count": null,
   "metadata": {},
   "outputs": [],
   "source": []
  },
  {
   "cell_type": "markdown",
   "metadata": {},
   "source": [
    "###### To achieve the casting mission, my initial codes \"InjectionWells_df['PSI'] = pd.to_numeric(InjectionWells_df['PSI'])\" or \"InjectionWells_df['PSI'] = InjectionWells_df['PSI'].astype(int)\" gave some errors like \"ValueError: Unable to parse string \"2,500\" at position 0\"\n",
    "###### same for this: \"InjectionWells_df['BBLS'] = pd.to_numeric(InjectionWells_df['BBLS'])\", also gave the error \"ValueError: Unable to parse string \"1,000\" at position 1\"\n",
    "\n",
    "\n",
    "#### So I searched online and got a suitable code (as in cells [28 & 29] from: https://datatofish.com/string-to-integer-dataframe/"
   ]
  },
  {
   "cell_type": "code",
   "execution_count": 20,
   "metadata": {},
   "outputs": [],
   "source": [
    "InjectionWells_df['BBLS'] = pd.to_numeric(InjectionWells_df['BBLS'],errors='coerce')\n",
    "InjectionWells_df = InjectionWells_df.replace(np.nan, 0, regex=True)\n",
    "InjectionWells_df['BBLS'] = InjectionWells_df['BBLS'].astype(int)"
   ]
  },
  {
   "cell_type": "code",
   "execution_count": 21,
   "metadata": {},
   "outputs": [],
   "source": [
    "InjectionWells_df['PSI'] = pd.to_numeric(InjectionWells_df['PSI'],errors='coerce')\n",
    "InjectionWells_df = InjectionWells_df.replace(np.nan, 0, regex=True)\n",
    "InjectionWells_df['PSI'] = InjectionWells_df['PSI'].astype(int)"
   ]
  },
  {
   "cell_type": "code",
   "execution_count": 22,
   "metadata": {},
   "outputs": [
    {
     "data": {
      "text/plain": [
       "Operator          object\n",
       "Operator ID      float64\n",
       "WellType          object\n",
       "WellName          object\n",
       "WellNumber        object\n",
       "OrderNumbers     float64\n",
       "Approval Date     object\n",
       "County            object\n",
       "Sec               object\n",
       "Twp               object\n",
       "Rng               object\n",
       "QQQQ              object\n",
       "LAT              float64\n",
       "LONG             float64\n",
       "PSI                int32\n",
       "BBLS               int32\n",
       "ZONE              object\n",
       "dtype: object"
      ]
     },
     "execution_count": 22,
     "metadata": {},
     "output_type": "execute_result"
    }
   ],
   "source": [
    "# To confirm that both features (PSI and BBLS) are now intergers: \n",
    "\n",
    "InjectionWells_df.dtypes"
   ]
  },
  {
   "cell_type": "code",
   "execution_count": 23,
   "metadata": {},
   "outputs": [],
   "source": [
    "#Procedure 1b again after casting 2 features of the dataset. Write a script to get numeric columns and non-numeric columns\n",
    "# getting numeric columns\n",
    "\n",
    "def get_dtype_columns(df, type_):\n",
    "    if type_ == 'numeric':\n",
    "        return df.select_dtypes(include=[np.number]).columns.values\n",
    "    else:\n",
    "        return df.select_dtypes(exclude=[np.number]).columns.values"
   ]
  },
  {
   "cell_type": "code",
   "execution_count": 24,
   "metadata": {},
   "outputs": [
    {
     "data": {
      "text/plain": [
       "array(['Operator ID', 'OrderNumbers', 'LAT', 'LONG', 'PSI', 'BBLS'],\n",
       "      dtype=object)"
      ]
     },
     "execution_count": 24,
     "metadata": {},
     "output_type": "execute_result"
    }
   ],
   "source": [
    "numeric_cols = get_dtype_columns(InjectionWells_df, 'numeric')\n",
    "numeric_cols"
   ]
  },
  {
   "cell_type": "code",
   "execution_count": 25,
   "metadata": {},
   "outputs": [],
   "source": [
    "#Procedure 1b again after casting 2 features of the dataset. Write a script to get numeric columns and non-numeric columns\n",
    "# getting non-numeric columns\n",
    "\n",
    "\n",
    "\n",
    "\n",
    "def get_dtype_columns(df, type_):\n",
    "    if type_ == 'non-numeric':\n",
    "        return df.select_dtypes(exclude=[np.number]).columns.values\n",
    "    else:\n",
    "        return df.select_dtypes(include=[np.number]).columns.values"
   ]
  },
  {
   "cell_type": "code",
   "execution_count": 26,
   "metadata": {},
   "outputs": [
    {
     "data": {
      "text/plain": [
       "array(['Operator', 'WellType', 'WellName', 'WellNumber', 'Approval Date',\n",
       "       'County', 'Sec', 'Twp', 'Rng', 'QQQQ', 'ZONE'], dtype=object)"
      ]
     },
     "execution_count": 26,
     "metadata": {},
     "output_type": "execute_result"
    }
   ],
   "source": [
    "non_numeric_cols = get_dtype_columns(InjectionWells_df, 'non-numeric')\n",
    "non_numeric_cols"
   ]
  },
  {
   "cell_type": "code",
   "execution_count": null,
   "metadata": {},
   "outputs": [],
   "source": []
  },
  {
   "cell_type": "code",
   "execution_count": 27,
   "metadata": {},
   "outputs": [
    {
     "name": "stdout",
     "output_type": "stream",
     "text": [
      "Operator - 0%\n",
      "Operator ID - 0%\n",
      "WellType - 0%\n",
      "WellName - 0%\n",
      "WellNumber - 0%\n",
      "OrderNumbers - 0%\n",
      "Approval Date - 0%\n",
      "County - 0%\n",
      "Sec - 0%\n",
      "Twp - 0%\n",
      "Rng - 0%\n",
      "QQQQ - 0%\n",
      "LAT - 0%\n",
      "LONG - 0%\n",
      "PSI - 0%\n",
      "BBLS - 0%\n",
      "ZONE - 0%\n"
     ]
    }
   ],
   "source": [
    "#Procedure 1c.  Write a script to find the percentage of the missing values for each column in your dataset\n",
    "\n",
    "\n",
    "for col in InjectionWells_df.columns:\n",
    "    percentage_of_missing = np.mean(InjectionWells_df[col].isnull())\n",
    "    print('{} - {}%'.format(col, round(percentage_of_missing*100)))"
   ]
  },
  {
   "cell_type": "code",
   "execution_count": null,
   "metadata": {},
   "outputs": [],
   "source": []
  },
  {
   "cell_type": "code",
   "execution_count": null,
   "metadata": {},
   "outputs": [],
   "source": [
    "#Procedure 1d. Impute any numeric feature that has missing values less than 2% by replacing the missing values with the median of the data of the same feature that is not missing\n",
    "\n",
    "\n",
    "#None of the numeric feature has has missing values less than 2%\n",
    "#Required code:\n",
    "\n",
    "imputed_df = InjectionWells_df\n",
    "imputed_df['PSI'] = imputed_df['PSI'].fillna(imputed_df['PSI'].median())\n",
    "imputed_df['BBLS'] = imputed_df['BBLS'].fillna(imputed_df['BBLS'].median())"
   ]
  },
  {
   "cell_type": "code",
   "execution_count": null,
   "metadata": {},
   "outputs": [],
   "source": []
  },
  {
   "cell_type": "code",
   "execution_count": null,
   "metadata": {},
   "outputs": [],
   "source": [
    "#Procedure 1e.Impute any numeric feature that has missing values 5% or more by replacing the missing values with the mode of the data of the same feature that is not missing\n",
    "\n",
    "#None of the numeric feature has has missing values 5% or more\n",
    "\n",
    "\n",
    "#Required code:\n",
    "\n",
    "\n",
    "imputed_df['PSI'] = imputed_df['PSI'].fillna(imputed_df['PSI'].mode())\n",
    "imputed_df['BBLS'] = imputed_df['BBLS'].fillna(imputed_df['BBLS'].mode())"
   ]
  },
  {
   "cell_type": "code",
   "execution_count": null,
   "metadata": {},
   "outputs": [],
   "source": []
  },
  {
   "cell_type": "code",
   "execution_count": null,
   "metadata": {},
   "outputs": [],
   "source": [
    "#Procedure 1f. For any non-numeric feature that has less than 5% missing values, replace all missing values with the word '_NA_'\n",
    "\n",
    "#None of the non-numeric feature has has missing values less than 5%\n",
    "\n",
    "\n",
    "#Required code:\n",
    "\n",
    "imputed_df['County'] = imputed_df['County'].fillna('NA')\n",
    "imputed_df['ZONE'] = imputed_df['ZONE'].fillna('NA')"
   ]
  },
  {
   "cell_type": "code",
   "execution_count": null,
   "metadata": {},
   "outputs": [],
   "source": []
  },
  {
   "cell_type": "code",
   "execution_count": null,
   "metadata": {},
   "outputs": [],
   "source": [
    "#Procedure 1g. For any non-numeric feature that has 5% or more missing values, replace all missing values with  the most frequent value for this feature.\n",
    "\n",
    "#None of the non-numeric feature has has missing values at 5% or more\n",
    "\n",
    "\n",
    "#Required code:\n",
    "\n",
    "imputed_df['County'] = imputed_df['County'].fillna.mode()\n",
    "imputed_df['ZONE'] = imputed_df['ZONE'].fillna.mode()"
   ]
  },
  {
   "cell_type": "code",
   "execution_count": null,
   "metadata": {},
   "outputs": [],
   "source": []
  },
  {
   "cell_type": "code",
   "execution_count": null,
   "metadata": {},
   "outputs": [],
   "source": [
    "#Procedure 1h Replace any remaining missing numeric value with 0 and any remaining missing non-numeric value with the word '_MISSING_'.\n",
    "\n",
    "#None of the numeric and non-numeric features has has missing values\n",
    "\n",
    "#Required code:\n",
    "\n",
    "\n",
    "imputed_df['OrderNumbers'] = imputed_df['OrderNumbers'].fillna(0)\n",
    "imputed_df['WellName'] = imputed_df['License'].fillna('_MISSING_')"
   ]
  },
  {
   "cell_type": "code",
   "execution_count": null,
   "metadata": {},
   "outputs": [],
   "source": []
  },
  {
   "cell_type": "code",
   "execution_count": 28,
   "metadata": {},
   "outputs": [
    {
     "data": {
      "text/html": [
       "<div>\n",
       "<style scoped>\n",
       "    .dataframe tbody tr th:only-of-type {\n",
       "        vertical-align: middle;\n",
       "    }\n",
       "\n",
       "    .dataframe tbody tr th {\n",
       "        vertical-align: top;\n",
       "    }\n",
       "\n",
       "    .dataframe thead th {\n",
       "        text-align: right;\n",
       "    }\n",
       "</style>\n",
       "<table border=\"1\" class=\"dataframe\">\n",
       "  <thead>\n",
       "    <tr style=\"text-align: right;\">\n",
       "      <th></th>\n",
       "      <th>Operator ID</th>\n",
       "      <th>OrderNumbers</th>\n",
       "      <th>LAT</th>\n",
       "      <th>LONG</th>\n",
       "      <th>PSI</th>\n",
       "      <th>BBLS</th>\n",
       "    </tr>\n",
       "  </thead>\n",
       "  <tbody>\n",
       "    <tr>\n",
       "      <th>count</th>\n",
       "      <td>11126.000000</td>\n",
       "      <td>1.112600e+04</td>\n",
       "      <td>11126.000000</td>\n",
       "      <td>11126.000000</td>\n",
       "      <td>11126.000000</td>\n",
       "      <td>11126.000000</td>\n",
       "    </tr>\n",
       "    <tr>\n",
       "      <th>mean</th>\n",
       "      <td>18211.207262</td>\n",
       "      <td>3.078896e+08</td>\n",
       "      <td>35.204714</td>\n",
       "      <td>-96.841274</td>\n",
       "      <td>202.174456</td>\n",
       "      <td>131.087543</td>\n",
       "    </tr>\n",
       "    <tr>\n",
       "      <th>std</th>\n",
       "      <td>8923.803002</td>\n",
       "      <td>5.886064e+08</td>\n",
       "      <td>2.710025</td>\n",
       "      <td>7.630951</td>\n",
       "      <td>267.364382</td>\n",
       "      <td>231.564921</td>\n",
       "    </tr>\n",
       "    <tr>\n",
       "      <th>min</th>\n",
       "      <td>0.000000</td>\n",
       "      <td>0.000000e+00</td>\n",
       "      <td>0.000000</td>\n",
       "      <td>-203.625566</td>\n",
       "      <td>0.000000</td>\n",
       "      <td>0.000000</td>\n",
       "    </tr>\n",
       "    <tr>\n",
       "      <th>25%</th>\n",
       "      <td>14156.000000</td>\n",
       "      <td>1.703950e+05</td>\n",
       "      <td>34.441094</td>\n",
       "      <td>-97.631492</td>\n",
       "      <td>0.000000</td>\n",
       "      <td>0.000000</td>\n",
       "    </tr>\n",
       "    <tr>\n",
       "      <th>50%</th>\n",
       "      <td>19467.000000</td>\n",
       "      <td>3.880380e+05</td>\n",
       "      <td>35.154225</td>\n",
       "      <td>-97.366076</td>\n",
       "      <td>0.000000</td>\n",
       "      <td>0.000000</td>\n",
       "    </tr>\n",
       "    <tr>\n",
       "      <th>75%</th>\n",
       "      <td>22220.000000</td>\n",
       "      <td>5.697550e+05</td>\n",
       "      <td>36.124315</td>\n",
       "      <td>-96.537958</td>\n",
       "      <td>407.750000</td>\n",
       "      <td>200.000000</td>\n",
       "    </tr>\n",
       "    <tr>\n",
       "      <th>max</th>\n",
       "      <td>510758.000000</td>\n",
       "      <td>1.701070e+10</td>\n",
       "      <td>73.986030</td>\n",
       "      <td>97.695750</td>\n",
       "      <td>990.000000</td>\n",
       "      <td>999.000000</td>\n",
       "    </tr>\n",
       "  </tbody>\n",
       "</table>\n",
       "</div>"
      ],
      "text/plain": [
       "         Operator ID  OrderNumbers           LAT          LONG           PSI  \\\n",
       "count   11126.000000  1.112600e+04  11126.000000  11126.000000  11126.000000   \n",
       "mean    18211.207262  3.078896e+08     35.204714    -96.841274    202.174456   \n",
       "std      8923.803002  5.886064e+08      2.710025      7.630951    267.364382   \n",
       "min         0.000000  0.000000e+00      0.000000   -203.625566      0.000000   \n",
       "25%     14156.000000  1.703950e+05     34.441094    -97.631492      0.000000   \n",
       "50%     19467.000000  3.880380e+05     35.154225    -97.366076      0.000000   \n",
       "75%     22220.000000  5.697550e+05     36.124315    -96.537958    407.750000   \n",
       "max    510758.000000  1.701070e+10     73.986030     97.695750    990.000000   \n",
       "\n",
       "               BBLS  \n",
       "count  11126.000000  \n",
       "mean     131.087543  \n",
       "std      231.564921  \n",
       "min        0.000000  \n",
       "25%        0.000000  \n",
       "50%        0.000000  \n",
       "75%      200.000000  \n",
       "max      999.000000  "
      ]
     },
     "execution_count": 28,
     "metadata": {},
     "output_type": "execute_result"
    }
   ],
   "source": [
    "#Procedure 1i: For each numeric feature in the dataset, drop observations of this feature that are greater than  (𝒎𝒆𝒂𝒏 + 𝟑 ∗ 𝒔𝒕𝒅) or less than (𝒎𝒆𝒂𝒏 – 𝟑 ∗ 𝒔𝒕𝒅). Where the mean is the mean of the data that is not missing and std is the standard deviation of the data that is not missing of each feature.\n",
    "\n",
    "InjectionWells_df.describe()"
   ]
  },
  {
   "cell_type": "markdown",
   "metadata": {},
   "source": [
    "##### Dealing with outliers: Procedure 1i\n",
    "#Even though there are six features in this dataframe that are numeric, only two (PSI and BBLS) are ratio-numeric and meaningful the other four are either nominal (Operator ID), ordinal (Order numbers) or interval (LAT and LONG: are the latitude and longitude measurement).\n",
    "\n",
    "#So, dealing with outliers process would only apply to PSI and BBLS: \n",
    "#PSI: Is unit of wellhead pressure\n",
    "#BBLS: Volume measurement in Barrels\n"
   ]
  },
  {
   "cell_type": "code",
   "execution_count": 29,
   "metadata": {},
   "outputs": [
    {
     "data": {
      "text/plain": [
       "825.782304900101"
      ]
     },
     "execution_count": 29,
     "metadata": {},
     "output_type": "execute_result"
    }
   ],
   "source": [
    "outlier_thresholdBBLS_plors = InjectionWells_df['BBLS'].mean() + InjectionWells_df['BBLS'].std() * 3\n",
    "outlier_thresholdBBLS_plors"
   ]
  },
  {
   "cell_type": "code",
   "execution_count": 30,
   "metadata": {},
   "outputs": [
    {
     "data": {
      "text/plain": [
       "-563.6072195145177"
      ]
     },
     "execution_count": 30,
     "metadata": {},
     "output_type": "execute_result"
    }
   ],
   "source": [
    "outlier_thresholdBBLS_mynus = InjectionWells_df['BBLS'].mean() - InjectionWells_df['BBLS'].std() * 3\n",
    "outlier_thresholdBBLS_mynus"
   ]
  },
  {
   "cell_type": "code",
   "execution_count": 31,
   "metadata": {},
   "outputs": [
    {
     "data": {
      "text/plain": [
       "1004.2676021784854"
      ]
     },
     "execution_count": 31,
     "metadata": {},
     "output_type": "execute_result"
    }
   ],
   "source": [
    "outlier_thresholdPSI_plors = InjectionWells_df['PSI'].mean() + InjectionWells_df['PSI'].std() * 3\n",
    "outlier_thresholdPSI_plors"
   ]
  },
  {
   "cell_type": "code",
   "execution_count": 32,
   "metadata": {},
   "outputs": [
    {
     "data": {
      "text/plain": [
       "-563.6072195145177"
      ]
     },
     "execution_count": 32,
     "metadata": {},
     "output_type": "execute_result"
    }
   ],
   "source": [
    "outlier_thresholdPSI_mynus = InjectionWells_df['PSI'].mean() - InjectionWells_df['PSI'].std() * 3\n",
    "outlier_thresholdBBLS_mynus"
   ]
  },
  {
   "cell_type": "code",
   "execution_count": null,
   "metadata": {},
   "outputs": [],
   "source": []
  },
  {
   "cell_type": "code",
   "execution_count": 33,
   "metadata": {},
   "outputs": [],
   "source": [
    "InjectionWells_df.drop(InjectionWells_df[(InjectionWells_df['BBLS'] > outlier_thresholdBBLS_plors) | (InjectionWells_df['BBLS'] < outlier_thresholdBBLS_mynus) ].index, inplace=True)"
   ]
  },
  {
   "cell_type": "code",
   "execution_count": 34,
   "metadata": {},
   "outputs": [],
   "source": [
    "InjectionWells_df.drop(InjectionWells_df[(InjectionWells_df['PSI'] > outlier_thresholdPSI_plors) | (InjectionWells_df['PSI'] < outlier_thresholdBBLS_mynus) ].index, inplace=True)"
   ]
  },
  {
   "cell_type": "code",
   "execution_count": 35,
   "metadata": {},
   "outputs": [
    {
     "data": {
      "text/plain": [
       "(10986, 17)"
      ]
     },
     "execution_count": 35,
     "metadata": {},
     "output_type": "execute_result"
    }
   ],
   "source": [
    "InjectionWells_df.shape"
   ]
  },
  {
   "cell_type": "code",
   "execution_count": null,
   "metadata": {},
   "outputs": [],
   "source": []
  },
  {
   "cell_type": "markdown",
   "metadata": {},
   "source": [
    "#### Dataframe shape change: from (11126, 17) to (10986, 17) after dealing with outliers"
   ]
  },
  {
   "cell_type": "markdown",
   "metadata": {},
   "source": []
  },
  {
   "cell_type": "markdown",
   "metadata": {},
   "source": []
  },
  {
   "cell_type": "markdown",
   "metadata": {},
   "source": [
    "## PART 2: DATA DESCRIPTIVE STATISTICS"
   ]
  },
  {
   "cell_type": "code",
   "execution_count": 36,
   "metadata": {},
   "outputs": [
    {
     "data": {
      "text/html": [
       "<div>\n",
       "<style scoped>\n",
       "    .dataframe tbody tr th:only-of-type {\n",
       "        vertical-align: middle;\n",
       "    }\n",
       "\n",
       "    .dataframe tbody tr th {\n",
       "        vertical-align: top;\n",
       "    }\n",
       "\n",
       "    .dataframe thead th {\n",
       "        text-align: right;\n",
       "    }\n",
       "</style>\n",
       "<table border=\"1\" class=\"dataframe\">\n",
       "  <thead>\n",
       "    <tr style=\"text-align: right;\">\n",
       "      <th></th>\n",
       "      <th>Operator ID</th>\n",
       "      <th>OrderNumbers</th>\n",
       "      <th>LAT</th>\n",
       "      <th>LONG</th>\n",
       "      <th>PSI</th>\n",
       "      <th>BBLS</th>\n",
       "    </tr>\n",
       "  </thead>\n",
       "  <tbody>\n",
       "    <tr>\n",
       "      <th>count</th>\n",
       "      <td>10986.000000</td>\n",
       "      <td>1.098600e+04</td>\n",
       "      <td>10986.000000</td>\n",
       "      <td>10986.000000</td>\n",
       "      <td>10986.000000</td>\n",
       "      <td>10986.000000</td>\n",
       "    </tr>\n",
       "    <tr>\n",
       "      <th>mean</th>\n",
       "      <td>18212.083743</td>\n",
       "      <td>3.047046e+08</td>\n",
       "      <td>35.212613</td>\n",
       "      <td>-96.842843</td>\n",
       "      <td>199.903696</td>\n",
       "      <td>120.839250</td>\n",
       "    </tr>\n",
       "    <tr>\n",
       "      <th>std</th>\n",
       "      <td>8964.138776</td>\n",
       "      <td>5.868487e+08</td>\n",
       "      <td>2.704515</td>\n",
       "      <td>7.622976</td>\n",
       "      <td>266.105868</td>\n",
       "      <td>214.307638</td>\n",
       "    </tr>\n",
       "    <tr>\n",
       "      <th>min</th>\n",
       "      <td>0.000000</td>\n",
       "      <td>0.000000e+00</td>\n",
       "      <td>0.000000</td>\n",
       "      <td>-203.625566</td>\n",
       "      <td>0.000000</td>\n",
       "      <td>0.000000</td>\n",
       "    </tr>\n",
       "    <tr>\n",
       "      <th>25%</th>\n",
       "      <td>14156.000000</td>\n",
       "      <td>1.703950e+05</td>\n",
       "      <td>34.446334</td>\n",
       "      <td>-97.630360</td>\n",
       "      <td>0.000000</td>\n",
       "      <td>0.000000</td>\n",
       "    </tr>\n",
       "    <tr>\n",
       "      <th>50%</th>\n",
       "      <td>19467.000000</td>\n",
       "      <td>3.866100e+05</td>\n",
       "      <td>35.169360</td>\n",
       "      <td>-97.358180</td>\n",
       "      <td>0.000000</td>\n",
       "      <td>0.000000</td>\n",
       "    </tr>\n",
       "    <tr>\n",
       "      <th>75%</th>\n",
       "      <td>22220.000000</td>\n",
       "      <td>5.685670e+05</td>\n",
       "      <td>36.134305</td>\n",
       "      <td>-96.535433</td>\n",
       "      <td>400.000000</td>\n",
       "      <td>200.000000</td>\n",
       "    </tr>\n",
       "    <tr>\n",
       "      <th>max</th>\n",
       "      <td>510758.000000</td>\n",
       "      <td>1.701070e+10</td>\n",
       "      <td>73.986030</td>\n",
       "      <td>97.695750</td>\n",
       "      <td>990.000000</td>\n",
       "      <td>800.000000</td>\n",
       "    </tr>\n",
       "  </tbody>\n",
       "</table>\n",
       "</div>"
      ],
      "text/plain": [
       "         Operator ID  OrderNumbers           LAT          LONG           PSI  \\\n",
       "count   10986.000000  1.098600e+04  10986.000000  10986.000000  10986.000000   \n",
       "mean    18212.083743  3.047046e+08     35.212613    -96.842843    199.903696   \n",
       "std      8964.138776  5.868487e+08      2.704515      7.622976    266.105868   \n",
       "min         0.000000  0.000000e+00      0.000000   -203.625566      0.000000   \n",
       "25%     14156.000000  1.703950e+05     34.446334    -97.630360      0.000000   \n",
       "50%     19467.000000  3.866100e+05     35.169360    -97.358180      0.000000   \n",
       "75%     22220.000000  5.685670e+05     36.134305    -96.535433    400.000000   \n",
       "max    510758.000000  1.701070e+10     73.986030     97.695750    990.000000   \n",
       "\n",
       "               BBLS  \n",
       "count  10986.000000  \n",
       "mean     120.839250  \n",
       "std      214.307638  \n",
       "min        0.000000  \n",
       "25%        0.000000  \n",
       "50%        0.000000  \n",
       "75%      200.000000  \n",
       "max      800.000000  "
      ]
     },
     "execution_count": 36,
     "metadata": {},
     "output_type": "execute_result"
    }
   ],
   "source": [
    "#Procedure 1:a,b,d \n",
    "# a= Mean: PSImean = 199.903696, BBLSmean = 120.839250\n",
    "# b= Median = 50%: PSImedian = 0, BBLSmedian = 0\n",
    "# d= Standard Deviation: PSIstd.dev = 266.105868, BBLSstd.dev. = 214.307638\n",
    "\n",
    "\n",
    "InjectionWells_df.describe()"
   ]
  },
  {
   "cell_type": "code",
   "execution_count": 37,
   "metadata": {},
   "outputs": [
    {
     "data": {
      "text/plain": [
       "0    0\n",
       "dtype: int32"
      ]
     },
     "execution_count": 37,
     "metadata": {},
     "output_type": "execute_result"
    }
   ],
   "source": [
    "#Procedure 1c:\n",
    "# c = Mode\n",
    "\n",
    "\n",
    "InjectionWells_df['PSI'].mode()"
   ]
  },
  {
   "cell_type": "code",
   "execution_count": 38,
   "metadata": {},
   "outputs": [
    {
     "data": {
      "text/plain": [
       "0    0\n",
       "dtype: int32"
      ]
     },
     "execution_count": 38,
     "metadata": {},
     "output_type": "execute_result"
    }
   ],
   "source": [
    "InjectionWells_df['BBLS'].mode()"
   ]
  },
  {
   "cell_type": "code",
   "execution_count": 39,
   "metadata": {},
   "outputs": [
    {
     "data": {
      "text/plain": [
       "990"
      ]
     },
     "execution_count": 39,
     "metadata": {},
     "output_type": "execute_result"
    }
   ],
   "source": [
    "#Procedure 1e:\n",
    "# e = Range\n",
    "\n",
    "PSImax = InjectionWells_df['PSI'].max()\n",
    "PSImin = InjectionWells_df['PSI'].min()\n",
    "PSIrange = PSImax - PSImin\n",
    "PSIrange"
   ]
  },
  {
   "cell_type": "code",
   "execution_count": 40,
   "metadata": {},
   "outputs": [
    {
     "data": {
      "text/plain": [
       "800"
      ]
     },
     "execution_count": 40,
     "metadata": {},
     "output_type": "execute_result"
    }
   ],
   "source": [
    "#Procedure 1e:\n",
    "# e = Range\n",
    "\n",
    "BBLSmax = InjectionWells_df['BBLS'].max()\n",
    "BBLSmin = InjectionWells_df['BBLS'].min()\n",
    "BBLSrange = BBLSmax - BBLSmin\n",
    "BBLSrange"
   ]
  },
  {
   "cell_type": "code",
   "execution_count": 41,
   "metadata": {},
   "outputs": [
    {
     "name": "stdout",
     "output_type": "stream",
     "text": [
      "Interquartile Range of PSI:  400.0\n"
     ]
    }
   ],
   "source": [
    "#Procedure 1f:\n",
    "# f = Interquartile Range\n",
    "\n",
    "# calculate 3rd quartile and first quartile\n",
    "\n",
    "q3,q1 = np.percentile(InjectionWells_df['PSI'], [75, 25])\n",
    "\n",
    "iqr = q3 - q1\n",
    "\n",
    "print(\"Interquartile Range of PSI: \" , iqr)"
   ]
  },
  {
   "cell_type": "code",
   "execution_count": 42,
   "metadata": {},
   "outputs": [
    {
     "name": "stdout",
     "output_type": "stream",
     "text": [
      "Interquartile Range of BBLS:  200.0\n"
     ]
    }
   ],
   "source": [
    "#Procedure 1f:\n",
    "# f = Interquartile Range\n",
    "\n",
    "# calculate 3rd quartile and first quartile\n",
    "\n",
    "q3,q1 = np.percentile(InjectionWells_df['BBLS'], [75, 25])\n",
    "\n",
    "iqr = q3 - q1\n",
    "\n",
    "print(\"Interquartile Range of BBLS: \" , iqr)"
   ]
  },
  {
   "cell_type": "code",
   "execution_count": null,
   "metadata": {},
   "outputs": [],
   "source": []
  },
  {
   "cell_type": "code",
   "execution_count": 43,
   "metadata": {
    "scrolled": true
   },
   "outputs": [
    {
     "name": "stdout",
     "output_type": "stream",
     "text": [
      "<bound method Series.mode of API#\n",
      "3.500300e+09                     PHOENIX PETROCORP INC\n",
      "3.500300e+09                  CHAMPLIN EXPLORATION INC\n",
      "3.500321e+09                        LINN OPERATING INC\n",
      "3.500321e+09    SANDRIDGE EXPLORATION & PRODUCTION LLC\n",
      "3.500321e+09                  CHAMPLIN EXPLORATION INC\n",
      "                                 ...                  \n",
      "3.515324e+09    SANDRIDGE EXPLORATION & PRODUCTION LLC\n",
      "3.515324e+09                      OVERFLOW ENERGY, LLC\n",
      "3.515324e+09               RED MOUNTAIN OPERATING, LLC\n",
      "3.515324e+09               RED MOUNTAIN OPERATING, LLC\n",
      "NaN                                                  0\n",
      "Name: Operator, Length: 10986, dtype: object>\n",
      "<bound method Series.mode of API#\n",
      "3.500300e+09     2R\n",
      "3.500300e+09     2R\n",
      "3.500321e+09     2R\n",
      "3.500321e+09     2R\n",
      "3.500321e+09     2R\n",
      "               ... \n",
      "3.515324e+09     2D\n",
      "3.515324e+09    CDW\n",
      "3.515324e+09     2D\n",
      "3.515324e+09     2D\n",
      "NaN               0\n",
      "Name: WellType, Length: 10986, dtype: object>\n",
      "<bound method Series.mode of API#\n",
      "3.500300e+09    SE EUREKA UNIT-TUCKER #1\n",
      "3.500300e+09                 CHRISTENSEN\n",
      "3.500321e+09            NE CHEROKEE UNIT\n",
      "3.500321e+09                       VELMA\n",
      "3.500321e+09                        GRAY\n",
      "                          ...           \n",
      "3.515324e+09                  JIMMIE SWD\n",
      "3.515324e+09                 MUTUAL SWD \n",
      "3.515324e+09                     HEDGES \n",
      "3.515324e+09                     GARVIE \n",
      "NaN                                    0\n",
      "Name: WellName, Length: 10986, dtype: object>\n",
      "<bound method Series.mode of API#\n",
      "3.500300e+09       21\n",
      "3.500300e+09        1\n",
      "3.500321e+09       85\n",
      "3.500321e+09     2-19\n",
      "3.500321e+09       1A\n",
      "                ...  \n",
      "3.515324e+09     1-28\n",
      "3.515324e+09        1\n",
      "3.515324e+09    1 SWD\n",
      "3.515324e+09    1 SWD\n",
      "NaN                 0\n",
      "Name: WellNumber, Length: 10986, dtype: object>\n",
      "<bound method Series.mode of API#\n",
      "3.500300e+09      9/6/1977\n",
      "3.500300e+09    11/27/2002\n",
      "3.500321e+09     8/19/1988\n",
      "3.500321e+09     7/11/1985\n",
      "3.500321e+09    11/27/2002\n",
      "                   ...    \n",
      "3.515324e+09     12/7/2012\n",
      "3.515324e+09    10/21/2016\n",
      "3.515324e+09    12/28/2016\n",
      "3.515324e+09    12/28/2016\n",
      "NaN                      0\n",
      "Name: Approval Date, Length: 10986, dtype: object>\n",
      "<bound method Series.mode of API#\n",
      "3.500300e+09     ALFALFA\n",
      "3.500300e+09     ALFALFA\n",
      "3.500321e+09     ALFALFA\n",
      "3.500321e+09     ALFALFA\n",
      "3.500321e+09     ALFALFA\n",
      "                  ...   \n",
      "3.515324e+09    WOODWARD\n",
      "3.515324e+09    WOODWARD\n",
      "3.515324e+09    WOODWARD\n",
      "3.515324e+09    WOODWARD\n",
      "NaN                    0\n",
      "Name: County, Length: 10986, dtype: object>\n",
      "<bound method Series.mode of API#\n",
      "3.500300e+09    28N\n",
      "3.500300e+09    28N\n",
      "3.500321e+09    27N\n",
      "3.500321e+09    28N\n",
      "3.500321e+09    28N\n",
      "               ... \n",
      "3.515324e+09    23N\n",
      "3.515324e+09    20N\n",
      "3.515324e+09    21N\n",
      "3.515324e+09    21N\n",
      "NaN               0\n",
      "Name: Twp, Length: 10986, dtype: object>\n",
      "<bound method Series.mode of API#\n",
      "3.500300e+09    10W\n",
      "3.500300e+09    09W\n",
      "3.500321e+09    11W\n",
      "3.500321e+09    10W\n",
      "3.500321e+09    09W\n",
      "               ... \n",
      "3.515324e+09    18W\n",
      "3.515324e+09    18W\n",
      "3.515324e+09    17W\n",
      "3.515324e+09    17W\n",
      "NaN               0\n",
      "Name: Rng, Length: 10986, dtype: object>\n",
      "<bound method Series.mode of API#\n",
      "3.500300e+09        C-SE SE\n",
      "3.500300e+09        C-NW NW\n",
      "3.500321e+09          SE NE\n",
      "3.500321e+09    SW NE NE SW\n",
      "3.500321e+09       SE SW NW\n",
      "                   ...     \n",
      "3.515324e+09    E2 W2 SW SW\n",
      "3.515324e+09       N2 NE NE\n",
      "3.515324e+09       SW SE SE\n",
      "3.515324e+09       NW NE NE\n",
      "NaN                       0\n",
      "Name: QQQQ, Length: 10986, dtype: object>\n",
      "<bound method Series.mode of API#\n",
      "3.500300e+09                                             CHEROKEE\n",
      "3.500300e+09                                             RED FORK\n",
      "3.500321e+09                                             RED FORK\n",
      "3.500321e+09                                             RED FORK\n",
      "3.500321e+09                                             RED FORK\n",
      "                                      ...                        \n",
      "3.515324e+09                                  MUSSELLEM, OKLAHOMA\n",
      "3.515324e+09                                   DOUGLAS, WOLFCAMP \n",
      "3.515324e+09                                 VIRGILIAN, WOLFCAMP,\n",
      "3.515324e+09    ADMIRE, CHASE, COUNCIL GROVE, DOUGLAS, PONTOTO...\n",
      "NaN                                                             0\n",
      "Name: ZONE, Length: 10986, dtype: object>\n"
     ]
    }
   ],
   "source": [
    "#Procedure 2: For each non-numeric column in your dataset, write the code to perform the following:\n",
    "# a:The most frequent value for a column \n",
    "# non-numeric Columns:  'Operator', 'WellType', 'WellName', 'WellNumber','Approval Date','County','Sec', 'Twp', 'Rng', 'QQQQ', 'ZONE'\n",
    "\n",
    "\n",
    "for column in InjectionWells_df[['Operator', 'WellType', 'WellName', 'WellNumber', 'Approval Date','County', 'Twp', 'Rng', 'QQQQ', 'ZONE']]:\n",
    "    print(InjectionWells_df[column].mode)"
   ]
  },
  {
   "cell_type": "code",
   "execution_count": null,
   "metadata": {},
   "outputs": [],
   "source": []
  },
  {
   "cell_type": "code",
   "execution_count": 44,
   "metadata": {},
   "outputs": [
    {
     "name": "stdout",
     "output_type": "stream",
     "text": [
      "['PHOENIX PETROCORP INC' 'CHAMPLIN EXPLORATION INC' 'LINN OPERATING INC'\n",
      " ... 'RED MOUNTAIN OPERATING, LLC' 'RED MOUNTAIN OPERATING, LLC' 0]\n",
      "['2R' '2R' '2R' ... '2D' '2D' 0]\n",
      "['SE EUREKA UNIT-TUCKER #1' 'CHRISTENSEN' 'NE CHEROKEE UNIT' ... 'HEDGES '\n",
      " 'GARVIE ' 0]\n",
      "['21' '1' '85' ... '1 SWD' '1 SWD' 0]\n",
      "['9/6/1977' '11/27/2002' '8/19/1988' ... '12/28/2016' '12/28/2016' 0]\n",
      "['ALFALFA' 'ALFALFA' 'ALFALFA' ... 'WOODWARD' 'WOODWARD' 0]\n",
      "['28N' '28N' '27N' ... '21N' '21N' 0]\n",
      "['10W' '09W' '11W' ... '17W' '17W' 0]\n",
      "['C-SE SE' 'C-NW NW' 'SE NE' ... 'SW SE SE' 'NW NE NE' 0]\n",
      "['CHEROKEE' 'RED FORK' 'RED FORK' ... 'VIRGILIAN, WOLFCAMP,'\n",
      " 'ADMIRE, CHASE, COUNCIL GROVE, DOUGLAS, PONTOTOC, SHAWNEE, WABAUNSEE' 0]\n"
     ]
    }
   ],
   "source": [
    "#Procedure 2: For each non-numeric column in your dataset, write the code to perform the following:\n",
    "# b:The unique values for a column \n",
    "# non-numeric Columns:  'Operator', 'WellType', 'WellName', 'WellNumber','Approval Date','County','Sec', 'Twp', 'Rng', 'QQQQ', 'ZONE'\n",
    "\n",
    "\n",
    "for column in InjectionWells_df[['Operator', 'WellType', 'WellName', 'WellNumber', 'Approval Date','County', 'Twp', 'Rng', 'QQQQ', 'ZONE']]:\n",
    "    print(InjectionWells_df[column].values)"
   ]
  },
  {
   "cell_type": "code",
   "execution_count": null,
   "metadata": {},
   "outputs": [],
   "source": []
  },
  {
   "cell_type": "code",
   "execution_count": 45,
   "metadata": {},
   "outputs": [
    {
     "data": {
      "text/plain": [
       "Operator\n",
       "0                           0.0\n",
       "007 OPERATING LLC           0.0\n",
       "101 ENERGY CORPORATION      0.0\n",
       "183 DISPOSAL LLC            0.0\n",
       "2 S OPERATING LLC           0.0\n",
       "                           ... \n",
       "ZEPHYR OPERATING CO LLC    50.0\n",
       "ZEPHYR SWD LLC              0.0\n",
       "ZEPHYR SWD, LLC             0.0\n",
       "ZIMTEX ENERGY LLC           0.0\n",
       "ZP DISPOSAL SYSTEMS LLC     0.0\n",
       "Name: BBLS, Length: 1468, dtype: float64"
      ]
     },
     "execution_count": 45,
     "metadata": {},
     "output_type": "execute_result"
    }
   ],
   "source": [
    "#Procedure 2:You should also consider grouping your data based on some fields and perform some meaningful statistical analysis on the different groups\n",
    "# Group by Operator \n",
    "\n",
    "Grouped_IJWells = InjectionWells_df.groupby('Operator')\n",
    "Grouped_IJWells['BBLS'].agg(np.mean)"
   ]
  },
  {
   "cell_type": "code",
   "execution_count": 46,
   "metadata": {},
   "outputs": [
    {
     "data": {
      "text/plain": [
       "WellName\n",
       "0                          150.0\n",
       " CALDWELL-LIONEL HARRIS      0.0\n",
       " EFFIE MEYERS                0.0\n",
       " GRIESEL                   300.0\n",
       " GUTHRIE                   250.0\n",
       "                           ...  \n",
       "ZIPSIE                       0.0\n",
       "ZOLDOSKE                   299.0\n",
       "ZOLLAR                       0.0\n",
       "ZOLLARS                      0.0\n",
       "ZOMA TANNER                550.0\n",
       "Name: PSI, Length: 6021, dtype: float64"
      ]
     },
     "execution_count": 46,
     "metadata": {},
     "output_type": "execute_result"
    }
   ],
   "source": [
    "Grouped_IJWells2 = InjectionWells_df.groupby('WellName')\n",
    "Grouped_IJWells2['PSI'].agg(np.mean)"
   ]
  },
  {
   "cell_type": "markdown",
   "metadata": {},
   "source": []
  },
  {
   "cell_type": "markdown",
   "metadata": {},
   "source": []
  },
  {
   "cell_type": "code",
   "execution_count": 5,
   "metadata": {},
   "outputs": [],
   "source": [
    "import matplotlib.pyplot as plt"
   ]
  },
  {
   "cell_type": "markdown",
   "metadata": {},
   "source": [
    "## PART 3: DATA VISUALIZATION "
   ]
  },
  {
   "cell_type": "code",
   "execution_count": 47,
   "metadata": {
    "scrolled": true
   },
   "outputs": [
    {
     "data": {
      "text/plain": [
       "<Figure size 432x288 with 0 Axes>"
      ]
     },
     "metadata": {},
     "output_type": "display_data"
    },
    {
     "data": {
      "image/png": "[encoded data removed]",
      "text/plain": [
       "<Figure size 432x288 with 1 Axes>"
      ]
     },
     "metadata": {
      "needs_background": "light"
     },
     "output_type": "display_data"
    }
   ],
   "source": [
    "# Procedure 1. Using Matplotlib and Seaborn libraries, visualize your dataset using meaningful graphs including, but not limited to, bar charts, histograms, line charts, scatter plots, pie charts.\n",
    "\n",
    "\n",
    "\n",
    "#plot A: Scatter Plot between PSI and BBLS\n",
    "\n",
    "plt.figure()\n",
    "InjectionWells_df.plot.scatter(x='PSI', y='BBLS', s=10)\n",
    "plt.title('Well Head Pressure (PSI) vs Injection Fluid Volume (BBLS) ScatterPlot')\n",
    "plt.show()"
   ]
  },
  {
   "cell_type": "code",
   "execution_count": null,
   "metadata": {},
   "outputs": [],
   "source": []
  },
  {
   "cell_type": "code",
   "execution_count": 133,
   "metadata": {},
   "outputs": [
    {
     "data": {
      "text/plain": [
       "<Figure size 540x252 with 0 Axes>"
      ]
     },
     "metadata": {},
     "output_type": "display_data"
    },
    {
     "data": {
      "image/png": "[encoded data removed]",
      "text/plain": [
       "<Figure size 540x252 with 1 Axes>"
      ]
     },
     "metadata": {
      "needs_background": "light"
     },
     "output_type": "display_data"
    }
   ],
   "source": [
    "#Scatterplot for the first 2000 datapoints to observe if there is a better trend than for the whole data 10000+ datapoints\n",
    "\n",
    "plt.figure()\n",
    "InjectionWells_df.iloc[0:2000].plot.scatter(x='PSI', y='BBLS', s=10)\n",
    "plt.title('Well Head Pressure (PSI) vs Injection Fluid Volume (BBLS) ScatterPlot')\n",
    "plt.show()"
   ]
  },
  {
   "cell_type": "code",
   "execution_count": null,
   "metadata": {},
   "outputs": [],
   "source": []
  },
  {
   "cell_type": "code",
   "execution_count": null,
   "metadata": {},
   "outputs": [],
   "source": []
  },
  {
   "cell_type": "code",
   "execution_count": 116,
   "metadata": {},
   "outputs": [
    {
     "data": {
      "text/plain": [
       "<Figure size 1296x576 with 0 Axes>"
      ]
     },
     "metadata": {},
     "output_type": "display_data"
    },
    {
     "data": {
      "image/png": "[encoded data removed]",
      "text/plain": [
       "<Figure size 540x252 with 1 Axes>"
      ]
     },
     "metadata": {
      "needs_background": "light"
     },
     "output_type": "display_data"
    }
   ],
   "source": [
    "font = {'family':'serif','color':'green','size':12}\n",
    "\n",
    "plt.figure(figsize = (18,8));\n",
    "bp = InjectionWells_df.iloc[0:10].boxplot(vert = False, column=['BBLS'], by=['Operator'])\n",
    "plt.title('A Boxplot of Well Injection Fluid Volume (BBLS) Grouped by Well Operator', fontdict = font)\n",
    "plt.xlabel('BBLS')\n",
    "plt.ylabel('Operator')\n",
    "plt.show()"
   ]
  },
  {
   "cell_type": "code",
   "execution_count": 118,
   "metadata": {},
   "outputs": [
    {
     "data": {
      "text/plain": [
       "<Figure size 540x252 with 0 Axes>"
      ]
     },
     "metadata": {},
     "output_type": "display_data"
    },
    {
     "data": {
      "image/png": "[encoded data removed]",
      "text/plain": [
       "<Figure size 540x252 with 1 Axes>"
      ]
     },
     "metadata": {
      "needs_background": "light"
     },
     "output_type": "display_data"
    }
   ],
   "source": [
    "font1 = {'family':'serif','color':'blue','size':12}\n",
    "\n",
    "plt.figure()\n",
    "bp = InjectionWells_df.iloc[0:10].boxplot(vert = False, column=['PSI'], by=['WellName'])\n",
    "plt.title('A Boxplot of Well Head Pressure (PSI) Grouped by Well Name', fontdict = font1)\n",
    "plt.xlabel('PSI')\n",
    "plt.ylabel('WellName')\n",
    "plt.show()"
   ]
  },
  {
   "cell_type": "code",
   "execution_count": null,
   "metadata": {},
   "outputs": [],
   "source": []
  },
  {
   "cell_type": "code",
   "execution_count": null,
   "metadata": {},
   "outputs": [],
   "source": []
  },
  {
   "cell_type": "code",
   "execution_count": 89,
   "metadata": {
    "scrolled": true
   },
   "outputs": [
    {
     "data": {
      "image/png": "[encoded data removed]",
      "text/plain": [
       "<Figure size 648x576 with 1 Axes>"
      ]
     },
     "metadata": {
      "needs_background": "light"
     },
     "output_type": "display_data"
    }
   ],
   "source": [
    "plt.rcParams[\"figure.figsize\"] = [7.50, 3.50]\n",
    "plt.rcParams[\"figure.autolayout\"] = True\n",
    "\n",
    "InjectionWells_df.iloc[0:35].plot(x='WellName', y=['PSI', 'BBLS'], kind='bar',figsize=(9,8))\n",
    "plt.title('Bar Graph of Well Head Pressure (PSI) and Well Injection Fluid Volume (BBLS)')\n",
    "plt.show()"
   ]
  },
  {
   "cell_type": "code",
   "execution_count": null,
   "metadata": {},
   "outputs": [],
   "source": []
  },
  {
   "cell_type": "code",
   "execution_count": 137,
   "metadata": {
    "scrolled": true
   },
   "outputs": [
    {
     "data": {
      "image/png": "[encoded data removed]",
      "text/plain": [
       "<Figure size 720x576 with 1 Axes>"
      ]
     },
     "metadata": {
      "needs_background": "light"
     },
     "output_type": "display_data"
    }
   ],
   "source": [
    "InjectionWells_df.iloc[0:35].plot(x='Operator', y=['PSI', 'BBLS'], kind='barh',stacked=True,figsize=(10,8))\n",
    "plt.title('Stacked Bar Graph of Well Head Pressure (PSI) and Well Injection Fluid Volume (BBLS)')\n",
    "plt.show()"
   ]
  },
  {
   "cell_type": "code",
   "execution_count": null,
   "metadata": {},
   "outputs": [],
   "source": []
  },
  {
   "cell_type": "markdown",
   "metadata": {},
   "source": []
  },
  {
   "cell_type": "markdown",
   "metadata": {},
   "source": [
    "#### Procedure 2. Mention some insights you have drawn from the visual graphs in part 1 \n",
    "\n",
    "\n",
    "##### Scatterplots:\n",
    "An appraisal of the scatter shows the absence of any well-defined relationship between pressure at the wellhead and the volume of injection fluid pumped into the well. A further slicing of the data (to the first 2000 points) was done to see if a reduced data volume could offer better relationship insights, but the (lack of )trend is similar to when the entire data points is used to generate the scatterplot. So, while other factors downhole might affect the wellhead pressure, it is less likely that volume of injection fluid will be one of such factors. \n",
    "\n",
    "\n",
    "##### Boxplots: \n",
    "The two box plots generated by a grouping operation reveal a symmetric distribution in the values of both wellhead pressure in PSI (when grouped by Well Name) and the volume of injected fluid in BBLS (when grouped by Well Operator). \n",
    "\n",
    "Wellhead pressure (PSI) and Well injection fluid volume (BBLS) maximum values are slightly above 700 and medians are about 380 and minimum values remain zero. \n",
    " \n",
    " \n",
    "##### Bar Graph:\n",
    "Thus shows the wellhead pressure at each well and the volume of injection fluid pumped into each of the 35 wells displayed.\n",
    "is the well with the largest injection fluid among the 35 wells displayed.\n",
    "North Carmen Red Fork Unit is the well with the highest head pressure and the largest quantity of fluid injection among the 35 wells displayed. \n",
    "\n",
    "Four wells (MILAN, KRAFT, LSB MCCRADY 4, and MEANS ’C) have approximately the same head pressure of about 500PSI\n",
    "Two wells (REITZ and SE EUREKA UNIT-TUCKER) have approximately the same quantity of fluid injection of about 300 BBLS\n",
    "\n",
    "\n",
    "##### Stacked Bar Graph:\n",
    "This shows the well head pressure and quantity of fluid injection at wells of some operators.\n",
    "Paradigm Petroleum Corporation operates the well with the highest head pressure (PSI), and the well with the largest injected fluid (BBLS). Based on the insights from the previous Bar Graph, Paradigm Petroleum Corporation are the likely operator of “North Carmen Red Fork Unit” well.\n",
    "\n",
    "Atchley Resources Inc., Sand Creek Operating LLC, Kiester Operating Company operate wells with head pressure of approximately 500PSI. With no volume of fluid injection record available except for Atchley Resources Inc, therefore, Atchley Resources Inc., is the operator of “MILAN” well, while Sand Creek Operating LLC, and Kiester Operating Company (2 wells) operates the other three wells.\n",
    "\n",
    "C & D Supply and Phoenix PetroCorp Inc operates the two wells i.e. REITZ and SE EUREKA UNIT-TUCKER with approximately the same quantity of fluid injection (300BBLS)\n"
   ]
  },
  {
   "cell_type": "markdown",
   "metadata": {},
   "source": []
  },
  {
   "cell_type": "markdown",
   "metadata": {},
   "source": []
  },
  {
   "cell_type": "markdown",
   "metadata": {},
   "source": [
    "## PART 4: DATA INSIGHTS \n",
    "\n",
    "\n",
    "##### a: Describe the steps you have performed in Part 1: Data Categorization and Cleaning. For example, what are the percentages of missing values for each column? What columns or rows you think  should be dropped from the dataset and why?\n",
    "\n",
    "NOTE: The original csv datafile has 11125 rows and 18 columns, and the dataframe initially had 11126 and 20 columns\n",
    "\n",
    "In part 1, I sought to know if there are any duplicated record in the Injection Wells data read from csv file with a view to dropping such record(s), but no duplicated records were found. I called for the features of the dataset which gave a total of 17 columns. Before this, the dataframe data, for unknown reasons had more than the number of columns present in the original csv datafile. The new features, all with 100% missing values, that surfaced in the dataframe (InjectionWells_df) were: 'Unnamed: 18', 'Unnamed: 19', 'Unnamed: 20'. These were dropped before getting to this part of the data cleaning proper, because I only wanted to deal with the data originally from the csv datafile. So after dropping the 3 incorrect features and making the API# the index of the dataframe, the dataframe now has 17 columns and 11126 row (with the last row in the dataframe having no index of its own and containing missing values, so will be noted to be ignored throughout this analysis, which will keep the rows of the dataframe as 11126 but to null effect).\n",
    "\n",
    "I also wrote a script to generate the numeric and non-numeric columns in the dataframe. This was done before generating the unique values for each feature, and a strange result was obtained when PSI and BBLS were categorized as non-numeric opposed to what I know about the data. The two features shouldn't be non-numeric so this called for casting to integer. To do this, I sought to know what the inconsistent values were within these two features to have been read as object dtype. I then wrote a script to know the unique values in each of the features. BBLS had 2 incorrect values while PSI had 22 incorrect values. I replaced all these with value of zero and then cast both features as integers (int32). I regenerated the lists of numeric and non-numeric columns to be sure the casting operation was successful, and it was, as PSI and BBLS are now numeric columns. \n",
    "\n",
    "Next, I generated the percentage of missing values for each feature (numeric & non-numeric), all returned 0% missing values. I also generated a descriptive statistics of all the numeric features to assess the presence of outlier(s) and deal with that if any. Even though there are six features in this dataframe that are numeric, only two (PSI and BBLS) are ratio-numeric and meaningful, the other four are either nominal (Operator ID), ordinal (Order numbers) or interval (LAT and LONG: are the latitude and longitude measurement). So, checking for and dealing with outliers was only restricted to PSI and BBLS.\n",
    "A drop-the-record threshold was for observations of the two features that are greater than (𝒎𝒆𝒂𝒏 + 𝟑 ∗ 𝒔𝒕𝒅) or less than (𝒎𝒆𝒂𝒏 – 𝟑 ∗ 𝒔𝒕𝒅). For the (𝒎𝒆𝒂𝒏 + 𝟑 ∗ 𝒔𝒕𝒅) part, the threshold for BBLS is 825.782304900101 and (𝒎𝒆𝒂𝒏 - 𝟑 ∗ 𝒔𝒕𝒅) is -563.6072195145177. Also for PSI, (𝒎𝒆𝒂𝒏 + 𝟑 ∗ 𝒔𝒕𝒅) threshold is 1004.2676021784854 and -563.6072195145177 for the (𝒎𝒆𝒂𝒏 - 𝟑 ∗ 𝒔𝒕𝒅) part.\n",
    "After applying this thresholds to drop observations and deal with outliers, the InjectionWells_df shape changed from (11126, 17) to (10986, 17) after dealing with outliers. This is the new df dimension to be used in Part 2 onwards.\n",
    "\n",
    "A column that I believe should also be dropped is the Well Number feature. The bulk of the observations are so disorganized and inaccurate (and the reason it was read as Object dtype) that it is better dropped and cleaned.\n",
    "\n",
    "\n",
    "\n",
    "\n",
    "\n",
    "\n",
    "\n",
    "##### b. Discuss the statistics and visualization steps. In your discussion, mention any other statistics or visualization that you would like to perform on your chosen dataset. \n",
    "\n",
    "\n",
    "#Statistics: I used the describe() method to generate all the descriptive statistics for both PSI and BBL features, except the mode, range and the interquartile range. The mode was obtained writing a code that utilized the mode() method. The interquartile range was obtained using a numpy.percentile() method, while the range was obtained through an arithmetic operation. \n",
    "Additional statistics was obtained for the modal and unique values of all the non-numeric data using the \"getitem ([]) to iterate over columns\" by specifying the columns of interest within the dataframe. \n",
    "\n",
    "Other statistical analysis that would be of interest to me is inferential statistical tests to be able draw some conclusions  about the operation of Oil and Gas companies (Operator) and the volume of fluid they have injected into their wells since data collection began from 12/18/1936 to 8/30/2017. Also, given the current data, it would be interesting to know how fluid injection by operator can vary into the future and also how injected fluid containment can vary by well. \n",
    "\n",
    "\n",
    "\n",
    "#Visualization: I used various relevant commands in matplotlib library to generate scatterplots between relevant variables, box plots, and bar graphs. Appropriate functions were used to assign labels, titles, desired size of figures, font size and color, figure orientation and also performed data slicing to call a range of data of the desired features in order to manage the volume of their observations to be displayed at once. \n",
    "\n",
    "Other visualizations of interest would be the contour maps of the well location provided the well elevation data were to be available. Also, a time-lapse chart of wellhead pressure fluctuation since data collection began would be another interesting visualization.\n",
    "\n",
    "\n",
    "\n",
    "\n",
    "\n",
    "##### c. Finally, list the things you learned by analyzing this dataset. Use a bulleted list.\n",
    "#1) I learned about the wells that have highest head pressure and the largest volume of fluid among the sliced data displayed (35) and I learned about how the displayed wells ranked in terms of the these features\n",
    "#2) I learned about the company that injects the most fluid into their wells and which company operates the wells with the highest head pressure and I learned about how some of the companies also ranked in terms of the these features.\n"
   ]
  },
  {
   "cell_type": "markdown",
   "metadata": {},
   "source": []
  },
  {
   "cell_type": "markdown",
   "metadata": {},
   "source": []
  },
  {
   "cell_type": "markdown",
   "metadata": {},
   "source": [
    "# Reflection"
   ]
  },
  {
   "cell_type": "markdown",
   "metadata": {},
   "source": [
    "### 1 A reflection of your experience performing the project. "
   ]
  },
  {
   "cell_type": "markdown",
   "metadata": {},
   "source": [
    "Utilizing the same dataset (InjectionsWells) as Discovery project 1 and leveraging all the knowledge and skillsets acquired from Module 1 to Module 5 lectures I reworked this data using Python programming language to perform data categorization of the dataset read from a csv data file. The categorization through the type identification and column selection operations gives some preliminary information about the dataset, and also informed which type of analysis each data type/category could support. \n",
    "\n",
    "All the suites of data categories were present and this was followed by data cleaning operation combining methods and functions in Numpy and Pandas Libraries. While there were no missing values, observations were dropped based on incorrect/inaccurate/inconsistent and outlier values. After the cleaning operations the shape of the dataframe reduced from (11126, 17) to (10986, 17) resulting from 140 observations been dropped.\n",
    "This paved the way for some descriptive statistics generation to know more about the dataset in terms of the measures of spread, distribution and central tendency of the numeric features. This also informs the preliminary visualization that can be generated from the data. \n",
    "\n",
    "In terms of visualization, Matplotlib already imported at the beginning of the project came in handy. Scatterplots were generated to evaluate at a glance if there are relationships between the specified variables, box plots were also generated for visual appraisal of the minimum and maximum values of observations which could inform about the range of data, median, and interquartile range and outliers. The bar graphs provided more detailed information and useful insights about the data and more questions can be asked of the data to serve business and public policy goals. For example, knowing the volume of injection fluids by those operators can beg the question of what effect that might have on the earth stability of area s around the wells, and if such activity (fluid injection to stimulate oil recovery) could induce micro-seismicity calling into more question safety of people, animals and other creatures in neighboring habitats\n"
   ]
  },
  {
   "cell_type": "code",
   "execution_count": null,
   "metadata": {},
   "outputs": [],
   "source": []
  }
 ],
 "metadata": {
  "kernelspec": {
   "display_name": "Python 3 (ipykernel)",
   "language": "python",
   "name": "python3"
  },
  "language_info": {
   "codemirror_mode": {
    "name": "ipython",
    "version": 3
   },
   "file_extension": ".py",
   "mimetype": "text/x-python",
   "name": "python",
   "nbconvert_exporter": "python",
   "pygments_lexer": "ipython3",
   "version": "3.9.16"
  }
 },
 "nbformat": 4,
 "nbformat_minor": 4
}
