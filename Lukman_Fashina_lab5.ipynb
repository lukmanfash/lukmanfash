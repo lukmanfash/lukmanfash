{
  "cells": [
    {
      "cell_type": "markdown",
      "metadata": {
        "id": "view-in-github",
        "colab_type": "text"
      },
      "source": [
        "<a href=\"https://colab.research.google.com/github/lukmanfash/lukmanfash/blob/main/Lukman_Fashina_lab5.ipynb\" target=\"_parent\"><img src=\"https://colab.research.google.com/assets/colab-badge.svg\" alt=\"Open In Colab\"/></a>"
      ]
    },
    {
      "cell_type": "markdown",
      "id": "4e70be69",
      "metadata": {
        "id": "4e70be69"
      },
      "source": [
        "# Lab 5\n",
        "\n",
        "[![image](https://colab.research.google.com/assets/colab-badge.svg)](https://colab.research.google.com/github/giswqs/geosdemo/blob/master/docs/labs/lab5.ipynb)\n",
        "\n",
        "## Submission instructions\n",
        "\n",
        "1. Download the notebook from https://geosdemo.gishub.org/labs/lab5\n",
        "2. Complete the lab questions\n",
        "3. Restart Kernel and Run All Cells\n",
        "4. Upload the notebook to your GitHub repository\n",
        "5. Make sure the notebook has an `Open In Colab` badge. Click on the badge to make sure your notebook can be opened in Colab.\n",
        "6. Submit the link to the notebook on your GitHub repository to Canvas"
      ]
    },
    {
      "cell_type": "code",
      "execution_count": 1,
      "id": "8de60915",
      "metadata": {
        "colab": {
          "base_uri": "https://localhost:8080/"
        },
        "id": "8de60915",
        "outputId": "9ae00bc7-dc48-4d1d-f43c-ed0180fb2ff0"
      },
      "outputs": [
        {
          "output_type": "stream",
          "name": "stdout",
          "text": [
            "Submitted time: 2023-03-23 03:19:28.706313\n"
          ]
        }
      ],
      "source": [
        "from datetime import datetime\n",
        "\n",
        "now = datetime.now()\n",
        "print(f\"Submitted time: {now}\")"
      ]
    },
    {
      "cell_type": "code",
      "source": [
        "!pip install leafmap\n",
        "!pip install geemap"
      ],
      "metadata": {
        "colab": {
          "base_uri": "https://localhost:8080/"
        },
        "id": "j9sYEGU0V0vA",
        "outputId": "2ad4e7c9-399b-47ec-9068-a47a5e1f900b"
      },
      "id": "j9sYEGU0V0vA",
      "execution_count": 2,
      "outputs": [
        {
          "output_type": "stream",
          "name": "stdout",
          "text": [
            "Looking in indexes: https://pypi.org/simple, https://us-python.pkg.dev/colab-wheels/public/simple/\n",
            "Requirement already satisfied: leafmap in /usr/local/lib/python3.9/dist-packages (0.18.6)\n",
            "Requirement already satisfied: ipywidgets<8.0.0 in /usr/local/lib/python3.9/dist-packages (from leafmap) (7.7.1)\n",
            "Requirement already satisfied: ipyleaflet>=0.17.0 in /usr/local/lib/python3.9/dist-packages (from leafmap) (0.17.2)\n",
            "Requirement already satisfied: xyzservices in /usr/local/lib/python3.9/dist-packages (from leafmap) (2023.2.0)\n",
            "Requirement already satisfied: gdown in /usr/local/lib/python3.9/dist-packages (from leafmap) (4.6.4)\n",
            "Requirement already satisfied: pyshp>=2.1.3 in /usr/local/lib/python3.9/dist-packages (from leafmap) (2.3.1)\n",
            "Requirement already satisfied: colour in /usr/local/lib/python3.9/dist-packages (from leafmap) (0.1.5)\n",
            "Requirement already satisfied: numpy in /usr/local/lib/python3.9/dist-packages (from leafmap) (1.22.4)\n",
            "Requirement already satisfied: matplotlib in /usr/local/lib/python3.9/dist-packages (from leafmap) (3.7.1)\n",
            "Requirement already satisfied: pandas in /usr/local/lib/python3.9/dist-packages (from leafmap) (1.4.4)\n",
            "Requirement already satisfied: ipykernel in /usr/local/lib/python3.9/dist-packages (from leafmap) (5.3.4)\n",
            "Requirement already satisfied: folium<=0.13.0,>=0.11.0 in /usr/local/lib/python3.9/dist-packages (from leafmap) (0.13.0)\n",
            "Requirement already satisfied: ipyfilechooser>=0.6.0 in /usr/local/lib/python3.9/dist-packages (from leafmap) (0.6.0)\n",
            "Requirement already satisfied: ipyevents in /usr/local/lib/python3.9/dist-packages (from leafmap) (2.0.1)\n",
            "Requirement already satisfied: scooby in /usr/local/lib/python3.9/dist-packages (from leafmap) (0.7.1)\n",
            "Requirement already satisfied: geojson in /usr/local/lib/python3.9/dist-packages (from leafmap) (3.0.1)\n",
            "Requirement already satisfied: pystac-client in /usr/local/lib/python3.9/dist-packages (from leafmap) (0.6.1)\n",
            "Requirement already satisfied: bqplot in /usr/local/lib/python3.9/dist-packages (from leafmap) (0.12.36)\n",
            "Requirement already satisfied: python-box in /usr/local/lib/python3.9/dist-packages (from leafmap) (7.0.1)\n",
            "Requirement already satisfied: whiteboxgui>=0.6.0 in /usr/local/lib/python3.9/dist-packages (from leafmap) (2.2.0)\n",
            "Requirement already satisfied: jinja2>=2.9 in /usr/local/lib/python3.9/dist-packages (from folium<=0.13.0,>=0.11.0->leafmap) (3.1.2)\n",
            "Requirement already satisfied: requests in /usr/local/lib/python3.9/dist-packages (from folium<=0.13.0,>=0.11.0->leafmap) (2.27.1)\n",
            "Requirement already satisfied: branca>=0.3.0 in /usr/local/lib/python3.9/dist-packages (from folium<=0.13.0,>=0.11.0->leafmap) (0.6.0)\n",
            "Requirement already satisfied: traittypes<3,>=0.2.1 in /usr/local/lib/python3.9/dist-packages (from ipyleaflet>=0.17.0->leafmap) (0.2.1)\n",
            "Requirement already satisfied: traitlets>=4.3.1 in /usr/local/lib/python3.9/dist-packages (from ipywidgets<8.0.0->leafmap) (5.7.1)\n",
            "Requirement already satisfied: ipython>=4.0.0 in /usr/local/lib/python3.9/dist-packages (from ipywidgets<8.0.0->leafmap) (7.9.0)\n",
            "Requirement already satisfied: jupyterlab-widgets>=1.0.0 in /usr/local/lib/python3.9/dist-packages (from ipywidgets<8.0.0->leafmap) (3.0.5)\n",
            "Requirement already satisfied: widgetsnbextension~=3.6.0 in /usr/local/lib/python3.9/dist-packages (from ipywidgets<8.0.0->leafmap) (3.6.2)\n",
            "Requirement already satisfied: ipython-genutils~=0.2.0 in /usr/local/lib/python3.9/dist-packages (from ipywidgets<8.0.0->leafmap) (0.2.0)\n",
            "Requirement already satisfied: jupyter-client in /usr/local/lib/python3.9/dist-packages (from ipykernel->leafmap) (6.1.12)\n",
            "Requirement already satisfied: tornado>=4.2 in /usr/local/lib/python3.9/dist-packages (from ipykernel->leafmap) (6.2)\n",
            "Requirement already satisfied: ipytree in /usr/local/lib/python3.9/dist-packages (from whiteboxgui>=0.6.0->leafmap) (0.2.2)\n",
            "Requirement already satisfied: whitebox in /usr/local/lib/python3.9/dist-packages (from whiteboxgui>=0.6.0->leafmap) (2.2.0)\n",
            "Requirement already satisfied: python-dateutil>=2.8.1 in /usr/local/lib/python3.9/dist-packages (from pandas->leafmap) (2.8.2)\n",
            "Requirement already satisfied: pytz>=2020.1 in /usr/local/lib/python3.9/dist-packages (from pandas->leafmap) (2022.7.1)\n",
            "Requirement already satisfied: tqdm in /usr/local/lib/python3.9/dist-packages (from gdown->leafmap) (4.65.0)\n",
            "Requirement already satisfied: filelock in /usr/local/lib/python3.9/dist-packages (from gdown->leafmap) (3.10.0)\n",
            "Requirement already satisfied: beautifulsoup4 in /usr/local/lib/python3.9/dist-packages (from gdown->leafmap) (4.11.2)\n",
            "Requirement already satisfied: six in /usr/local/lib/python3.9/dist-packages (from gdown->leafmap) (1.16.0)\n",
            "Requirement already satisfied: importlib-resources>=3.2.0 in /usr/local/lib/python3.9/dist-packages (from matplotlib->leafmap) (5.12.0)\n",
            "Requirement already satisfied: pillow>=6.2.0 in /usr/local/lib/python3.9/dist-packages (from matplotlib->leafmap) (8.4.0)\n",
            "Requirement already satisfied: packaging>=20.0 in /usr/local/lib/python3.9/dist-packages (from matplotlib->leafmap) (23.0)\n",
            "Requirement already satisfied: contourpy>=1.0.1 in /usr/local/lib/python3.9/dist-packages (from matplotlib->leafmap) (1.0.7)\n",
            "Requirement already satisfied: fonttools>=4.22.0 in /usr/local/lib/python3.9/dist-packages (from matplotlib->leafmap) (4.39.2)\n",
            "Requirement already satisfied: kiwisolver>=1.0.1 in /usr/local/lib/python3.9/dist-packages (from matplotlib->leafmap) (1.4.4)\n",
            "Requirement already satisfied: pyparsing>=2.3.1 in /usr/local/lib/python3.9/dist-packages (from matplotlib->leafmap) (3.0.9)\n",
            "Requirement already satisfied: cycler>=0.10 in /usr/local/lib/python3.9/dist-packages (from matplotlib->leafmap) (0.11.0)\n",
            "Requirement already satisfied: pystac>=1.7.0 in /usr/local/lib/python3.9/dist-packages (from pystac-client->leafmap) (1.7.1)\n",
            "Requirement already satisfied: zipp>=3.1.0 in /usr/local/lib/python3.9/dist-packages (from importlib-resources>=3.2.0->matplotlib->leafmap) (3.15.0)\n",
            "Requirement already satisfied: setuptools>=18.5 in /usr/local/lib/python3.9/dist-packages (from ipython>=4.0.0->ipywidgets<8.0.0->leafmap) (67.6.0)\n",
            "Requirement already satisfied: pickleshare in /usr/local/lib/python3.9/dist-packages (from ipython>=4.0.0->ipywidgets<8.0.0->leafmap) (0.7.5)\n",
            "Requirement already satisfied: prompt-toolkit<2.1.0,>=2.0.0 in /usr/local/lib/python3.9/dist-packages (from ipython>=4.0.0->ipywidgets<8.0.0->leafmap) (2.0.10)\n",
            "Requirement already satisfied: decorator in /usr/local/lib/python3.9/dist-packages (from ipython>=4.0.0->ipywidgets<8.0.0->leafmap) (4.4.2)\n",
            "Requirement already satisfied: jedi>=0.10 in /usr/local/lib/python3.9/dist-packages (from ipython>=4.0.0->ipywidgets<8.0.0->leafmap) (0.18.2)\n",
            "Requirement already satisfied: pygments in /usr/local/lib/python3.9/dist-packages (from ipython>=4.0.0->ipywidgets<8.0.0->leafmap) (2.6.1)\n",
            "Requirement already satisfied: backcall in /usr/local/lib/python3.9/dist-packages (from ipython>=4.0.0->ipywidgets<8.0.0->leafmap) (0.2.0)\n",
            "Requirement already satisfied: pexpect in /usr/local/lib/python3.9/dist-packages (from ipython>=4.0.0->ipywidgets<8.0.0->leafmap) (4.8.0)\n",
            "Requirement already satisfied: MarkupSafe>=2.0 in /usr/local/lib/python3.9/dist-packages (from jinja2>=2.9->folium<=0.13.0,>=0.11.0->leafmap) (2.1.2)\n",
            "Requirement already satisfied: idna<4,>=2.5 in /usr/local/lib/python3.9/dist-packages (from requests->folium<=0.13.0,>=0.11.0->leafmap) (3.4)\n",
            "Requirement already satisfied: certifi>=2017.4.17 in /usr/local/lib/python3.9/dist-packages (from requests->folium<=0.13.0,>=0.11.0->leafmap) (2022.12.7)\n",
            "Requirement already satisfied: charset-normalizer~=2.0.0 in /usr/local/lib/python3.9/dist-packages (from requests->folium<=0.13.0,>=0.11.0->leafmap) (2.0.12)\n",
            "Requirement already satisfied: urllib3<1.27,>=1.21.1 in /usr/local/lib/python3.9/dist-packages (from requests->folium<=0.13.0,>=0.11.0->leafmap) (1.26.15)\n",
            "Requirement already satisfied: notebook>=4.4.1 in /usr/local/lib/python3.9/dist-packages (from widgetsnbextension~=3.6.0->ipywidgets<8.0.0->leafmap) (6.3.0)\n",
            "Requirement already satisfied: soupsieve>1.2 in /usr/local/lib/python3.9/dist-packages (from beautifulsoup4->gdown->leafmap) (2.4)\n",
            "Requirement already satisfied: pyzmq>=13 in /usr/local/lib/python3.9/dist-packages (from jupyter-client->ipykernel->leafmap) (23.2.1)\n",
            "Requirement already satisfied: jupyter-core>=4.6.0 in /usr/local/lib/python3.9/dist-packages (from jupyter-client->ipykernel->leafmap) (5.3.0)\n",
            "Requirement already satisfied: PySocks!=1.5.7,>=1.5.6 in /usr/local/lib/python3.9/dist-packages (from requests->folium<=0.13.0,>=0.11.0->leafmap) (1.7.1)\n",
            "Requirement already satisfied: Click>=6.0 in /usr/local/lib/python3.9/dist-packages (from whitebox->whiteboxgui>=0.6.0->leafmap) (8.1.3)\n",
            "Requirement already satisfied: parso<0.9.0,>=0.8.0 in /usr/local/lib/python3.9/dist-packages (from jedi>=0.10->ipython>=4.0.0->ipywidgets<8.0.0->leafmap) (0.8.3)\n",
            "Requirement already satisfied: platformdirs>=2.5 in /usr/local/lib/python3.9/dist-packages (from jupyter-core>=4.6.0->jupyter-client->ipykernel->leafmap) (3.1.1)\n",
            "Requirement already satisfied: argon2-cffi in /usr/local/lib/python3.9/dist-packages (from notebook>=4.4.1->widgetsnbextension~=3.6.0->ipywidgets<8.0.0->leafmap) (21.3.0)\n",
            "Requirement already satisfied: nbformat in /usr/local/lib/python3.9/dist-packages (from notebook>=4.4.1->widgetsnbextension~=3.6.0->ipywidgets<8.0.0->leafmap) (5.8.0)\n",
            "Requirement already satisfied: Send2Trash>=1.5.0 in /usr/local/lib/python3.9/dist-packages (from notebook>=4.4.1->widgetsnbextension~=3.6.0->ipywidgets<8.0.0->leafmap) (1.8.0)\n",
            "Requirement already satisfied: nbconvert in /usr/local/lib/python3.9/dist-packages (from notebook>=4.4.1->widgetsnbextension~=3.6.0->ipywidgets<8.0.0->leafmap) (6.5.4)\n",
            "Requirement already satisfied: terminado>=0.8.3 in /usr/local/lib/python3.9/dist-packages (from notebook>=4.4.1->widgetsnbextension~=3.6.0->ipywidgets<8.0.0->leafmap) (0.17.1)\n",
            "Requirement already satisfied: prometheus-client in /usr/local/lib/python3.9/dist-packages (from notebook>=4.4.1->widgetsnbextension~=3.6.0->ipywidgets<8.0.0->leafmap) (0.16.0)\n",
            "Requirement already satisfied: wcwidth in /usr/local/lib/python3.9/dist-packages (from prompt-toolkit<2.1.0,>=2.0.0->ipython>=4.0.0->ipywidgets<8.0.0->leafmap) (0.2.6)\n",
            "Requirement already satisfied: ptyprocess>=0.5 in /usr/local/lib/python3.9/dist-packages (from pexpect->ipython>=4.0.0->ipywidgets<8.0.0->leafmap) (0.7.0)\n",
            "Requirement already satisfied: argon2-cffi-bindings in /usr/local/lib/python3.9/dist-packages (from argon2-cffi->notebook>=4.4.1->widgetsnbextension~=3.6.0->ipywidgets<8.0.0->leafmap) (21.2.0)\n",
            "Requirement already satisfied: pandocfilters>=1.4.1 in /usr/local/lib/python3.9/dist-packages (from nbconvert->notebook>=4.4.1->widgetsnbextension~=3.6.0->ipywidgets<8.0.0->leafmap) (1.5.0)\n",
            "Requirement already satisfied: mistune<2,>=0.8.1 in /usr/local/lib/python3.9/dist-packages (from nbconvert->notebook>=4.4.1->widgetsnbextension~=3.6.0->ipywidgets<8.0.0->leafmap) (0.8.4)\n",
            "Requirement already satisfied: lxml in /usr/local/lib/python3.9/dist-packages (from nbconvert->notebook>=4.4.1->widgetsnbextension~=3.6.0->ipywidgets<8.0.0->leafmap) (4.9.2)\n",
            "Requirement already satisfied: tinycss2 in /usr/local/lib/python3.9/dist-packages (from nbconvert->notebook>=4.4.1->widgetsnbextension~=3.6.0->ipywidgets<8.0.0->leafmap) (1.2.1)\n",
            "Requirement already satisfied: nbclient>=0.5.0 in /usr/local/lib/python3.9/dist-packages (from nbconvert->notebook>=4.4.1->widgetsnbextension~=3.6.0->ipywidgets<8.0.0->leafmap) (0.7.2)\n",
            "Requirement already satisfied: bleach in /usr/local/lib/python3.9/dist-packages (from nbconvert->notebook>=4.4.1->widgetsnbextension~=3.6.0->ipywidgets<8.0.0->leafmap) (6.0.0)\n",
            "Requirement already satisfied: jupyterlab-pygments in /usr/local/lib/python3.9/dist-packages (from nbconvert->notebook>=4.4.1->widgetsnbextension~=3.6.0->ipywidgets<8.0.0->leafmap) (0.2.2)\n",
            "Requirement already satisfied: defusedxml in /usr/local/lib/python3.9/dist-packages (from nbconvert->notebook>=4.4.1->widgetsnbextension~=3.6.0->ipywidgets<8.0.0->leafmap) (0.7.1)\n",
            "Requirement already satisfied: entrypoints>=0.2.2 in /usr/local/lib/python3.9/dist-packages (from nbconvert->notebook>=4.4.1->widgetsnbextension~=3.6.0->ipywidgets<8.0.0->leafmap) (0.4)\n",
            "Requirement already satisfied: jsonschema>=2.6 in /usr/local/lib/python3.9/dist-packages (from nbformat->notebook>=4.4.1->widgetsnbextension~=3.6.0->ipywidgets<8.0.0->leafmap) (4.3.3)\n",
            "Requirement already satisfied: fastjsonschema in /usr/local/lib/python3.9/dist-packages (from nbformat->notebook>=4.4.1->widgetsnbextension~=3.6.0->ipywidgets<8.0.0->leafmap) (2.16.3)\n",
            "Requirement already satisfied: pyrsistent!=0.17.0,!=0.17.1,!=0.17.2,>=0.14.0 in /usr/local/lib/python3.9/dist-packages (from jsonschema>=2.6->nbformat->notebook>=4.4.1->widgetsnbextension~=3.6.0->ipywidgets<8.0.0->leafmap) (0.19.3)\n",
            "Requirement already satisfied: attrs>=17.4.0 in /usr/local/lib/python3.9/dist-packages (from jsonschema>=2.6->nbformat->notebook>=4.4.1->widgetsnbextension~=3.6.0->ipywidgets<8.0.0->leafmap) (22.2.0)\n",
            "Requirement already satisfied: cffi>=1.0.1 in /usr/local/lib/python3.9/dist-packages (from argon2-cffi-bindings->argon2-cffi->notebook>=4.4.1->widgetsnbextension~=3.6.0->ipywidgets<8.0.0->leafmap) (1.15.1)\n",
            "Requirement already satisfied: webencodings in /usr/local/lib/python3.9/dist-packages (from bleach->nbconvert->notebook>=4.4.1->widgetsnbextension~=3.6.0->ipywidgets<8.0.0->leafmap) (0.5.1)\n",
            "Requirement already satisfied: pycparser in /usr/local/lib/python3.9/dist-packages (from cffi>=1.0.1->argon2-cffi-bindings->argon2-cffi->notebook>=4.4.1->widgetsnbextension~=3.6.0->ipywidgets<8.0.0->leafmap) (2.21)\n",
            "Looking in indexes: https://pypi.org/simple, https://us-python.pkg.dev/colab-wheels/public/simple/\n",
            "Requirement already satisfied: geemap in /usr/local/lib/python3.9/dist-packages (0.20.3)\n",
            "Requirement already satisfied: ipykernel in /usr/local/lib/python3.9/dist-packages (from geemap) (5.3.4)\n",
            "Requirement already satisfied: ipyleaflet>=0.17.0 in /usr/local/lib/python3.9/dist-packages (from geemap) (0.17.2)\n",
            "Requirement already satisfied: whiteboxgui>=0.6.0 in /usr/local/lib/python3.9/dist-packages (from geemap) (2.2.0)\n",
            "Requirement already satisfied: sankee>=0.1.0 in /usr/local/lib/python3.9/dist-packages (from geemap) (0.2.3)\n",
            "Requirement already satisfied: ee-extra>=0.0.10 in /usr/local/lib/python3.9/dist-packages (from geemap) (0.0.15)\n",
            "Requirement already satisfied: colour in /usr/local/lib/python3.9/dist-packages (from geemap) (0.1.5)\n",
            "Requirement already satisfied: python-box in /usr/local/lib/python3.9/dist-packages (from geemap) (7.0.1)\n",
            "Requirement already satisfied: geojson in /usr/local/lib/python3.9/dist-packages (from geemap) (3.0.1)\n",
            "Requirement already satisfied: gdown in /usr/local/lib/python3.9/dist-packages (from geemap) (4.6.4)\n",
            "Requirement already satisfied: ipywidgets<8.0.0 in /usr/local/lib/python3.9/dist-packages (from geemap) (7.7.1)\n",
            "Requirement already satisfied: eerepr>=0.0.4 in /usr/local/lib/python3.9/dist-packages (from geemap) (0.0.4)\n",
            "Requirement already satisfied: pyperclip in /usr/local/lib/python3.9/dist-packages (from geemap) (1.8.2)\n",
            "Requirement already satisfied: matplotlib in /usr/local/lib/python3.9/dist-packages (from geemap) (3.7.1)\n",
            "Requirement already satisfied: folium>=0.11.0 in /usr/local/lib/python3.9/dist-packages (from geemap) (0.13.0)\n",
            "Requirement already satisfied: ipytree in /usr/local/lib/python3.9/dist-packages (from geemap) (0.2.2)\n",
            "Requirement already satisfied: pandas in /usr/local/lib/python3.9/dist-packages (from geemap) (1.4.4)\n",
            "Requirement already satisfied: scooby in /usr/local/lib/python3.9/dist-packages (from geemap) (0.7.1)\n",
            "Requirement already satisfied: geocoder in /usr/local/lib/python3.9/dist-packages (from geemap) (1.38.1)\n",
            "Requirement already satisfied: pycrs in /usr/local/lib/python3.9/dist-packages (from geemap) (1.0.2)\n",
            "Requirement already satisfied: pyshp>=2.1.3 in /usr/local/lib/python3.9/dist-packages (from geemap) (2.3.1)\n",
            "Requirement already satisfied: ipyevents in /usr/local/lib/python3.9/dist-packages (from geemap) (2.0.1)\n",
            "Requirement already satisfied: geeadd>=0.5.1 in /usr/local/lib/python3.9/dist-packages (from geemap) (0.5.6)\n",
            "Requirement already satisfied: pillow in /usr/local/lib/python3.9/dist-packages (from geemap) (8.4.0)\n",
            "Requirement already satisfied: numpy in /usr/local/lib/python3.9/dist-packages (from geemap) (1.22.4)\n",
            "Requirement already satisfied: xyzservices in /usr/local/lib/python3.9/dist-packages (from geemap) (2023.2.0)\n",
            "Requirement already satisfied: bqplot in /usr/local/lib/python3.9/dist-packages (from geemap) (0.12.36)\n",
            "Requirement already satisfied: ffmpeg-python in /usr/local/lib/python3.9/dist-packages (from geemap) (0.2.0)\n",
            "Requirement already satisfied: earthengine-api>=0.1.304 in /usr/local/lib/python3.9/dist-packages (from geemap) (0.1.345)\n",
            "Requirement already satisfied: ipyfilechooser>=0.6.0 in /usr/local/lib/python3.9/dist-packages (from geemap) (0.6.0)\n",
            "Requirement already satisfied: requests in /usr/local/lib/python3.9/dist-packages (from earthengine-api>=0.1.304->geemap) (2.27.1)\n",
            "Requirement already satisfied: httplib2<1dev,>=0.9.2 in /usr/local/lib/python3.9/dist-packages (from earthengine-api>=0.1.304->geemap) (0.21.0)\n",
            "Requirement already satisfied: google-auth>=1.4.1 in /usr/local/lib/python3.9/dist-packages (from earthengine-api>=0.1.304->geemap) (2.16.2)\n",
            "Requirement already satisfied: google-auth-httplib2>=0.0.3 in /usr/local/lib/python3.9/dist-packages (from earthengine-api>=0.1.304->geemap) (0.1.0)\n",
            "Requirement already satisfied: google-cloud-storage in /usr/local/lib/python3.9/dist-packages (from earthengine-api>=0.1.304->geemap) (2.7.0)\n",
            "Requirement already satisfied: google-api-python-client>=1.12.1 in /usr/local/lib/python3.9/dist-packages (from earthengine-api>=0.1.304->geemap) (2.70.0)\n",
            "Requirement already satisfied: jinja2>=2.9 in /usr/local/lib/python3.9/dist-packages (from folium>=0.11.0->geemap) (3.1.2)\n",
            "Requirement already satisfied: branca>=0.3.0 in /usr/local/lib/python3.9/dist-packages (from folium>=0.11.0->geemap) (0.6.0)\n",
            "Requirement already satisfied: logzero>=1.5.0 in /usr/local/lib/python3.9/dist-packages (from geeadd>=0.5.1->geemap) (1.7.0)\n",
            "Requirement already satisfied: beautifulsoup4>=4.9.0 in /usr/local/lib/python3.9/dist-packages (from geeadd>=0.5.1->geemap) (4.11.2)\n",
            "Requirement already satisfied: traittypes<3,>=0.2.1 in /usr/local/lib/python3.9/dist-packages (from ipyleaflet>=0.17.0->geemap) (0.2.1)\n",
            "Requirement already satisfied: widgetsnbextension~=3.6.0 in /usr/local/lib/python3.9/dist-packages (from ipywidgets<8.0.0->geemap) (3.6.2)\n",
            "Requirement already satisfied: traitlets>=4.3.1 in /usr/local/lib/python3.9/dist-packages (from ipywidgets<8.0.0->geemap) (5.7.1)\n",
            "Requirement already satisfied: jupyterlab-widgets>=1.0.0 in /usr/local/lib/python3.9/dist-packages (from ipywidgets<8.0.0->geemap) (3.0.5)\n",
            "Requirement already satisfied: ipython>=4.0.0 in /usr/local/lib/python3.9/dist-packages (from ipywidgets<8.0.0->geemap) (7.9.0)\n",
            "Requirement already satisfied: ipython-genutils~=0.2.0 in /usr/local/lib/python3.9/dist-packages (from ipywidgets<8.0.0->geemap) (0.2.0)\n",
            "Requirement already satisfied: jupyter-client in /usr/local/lib/python3.9/dist-packages (from ipykernel->geemap) (6.1.12)\n",
            "Requirement already satisfied: tornado>=4.2 in /usr/local/lib/python3.9/dist-packages (from ipykernel->geemap) (6.2)\n",
            "Requirement already satisfied: plotly>=5.2.2 in /usr/local/lib/python3.9/dist-packages (from sankee>=0.1.0->geemap) (5.13.1)\n",
            "Requirement already satisfied: whitebox in /usr/local/lib/python3.9/dist-packages (from whiteboxgui>=0.6.0->geemap) (2.2.0)\n",
            "Requirement already satisfied: python-dateutil>=2.8.1 in /usr/local/lib/python3.9/dist-packages (from pandas->geemap) (2.8.2)\n",
            "Requirement already satisfied: pytz>=2020.1 in /usr/local/lib/python3.9/dist-packages (from pandas->geemap) (2022.7.1)\n",
            "Requirement already satisfied: future in /usr/local/lib/python3.9/dist-packages (from ffmpeg-python->geemap) (0.18.3)\n",
            "Requirement already satisfied: tqdm in /usr/local/lib/python3.9/dist-packages (from gdown->geemap) (4.65.0)\n",
            "Requirement already satisfied: filelock in /usr/local/lib/python3.9/dist-packages (from gdown->geemap) (3.10.0)\n",
            "Requirement already satisfied: six in /usr/local/lib/python3.9/dist-packages (from gdown->geemap) (1.16.0)\n",
            "Requirement already satisfied: click in /usr/local/lib/python3.9/dist-packages (from geocoder->geemap) (8.1.3)\n",
            "Requirement already satisfied: ratelim in /usr/local/lib/python3.9/dist-packages (from geocoder->geemap) (0.1.6)\n",
            "Requirement already satisfied: cycler>=0.10 in /usr/local/lib/python3.9/dist-packages (from matplotlib->geemap) (0.11.0)\n",
            "Requirement already satisfied: fonttools>=4.22.0 in /usr/local/lib/python3.9/dist-packages (from matplotlib->geemap) (4.39.2)\n",
            "Requirement already satisfied: importlib-resources>=3.2.0 in /usr/local/lib/python3.9/dist-packages (from matplotlib->geemap) (5.12.0)\n",
            "Requirement already satisfied: contourpy>=1.0.1 in /usr/local/lib/python3.9/dist-packages (from matplotlib->geemap) (1.0.7)\n",
            "Requirement already satisfied: packaging>=20.0 in /usr/local/lib/python3.9/dist-packages (from matplotlib->geemap) (23.0)\n",
            "Requirement already satisfied: pyparsing>=2.3.1 in /usr/local/lib/python3.9/dist-packages (from matplotlib->geemap) (3.0.9)\n",
            "Requirement already satisfied: kiwisolver>=1.0.1 in /usr/local/lib/python3.9/dist-packages (from matplotlib->geemap) (1.4.4)\n",
            "Requirement already satisfied: soupsieve>1.2 in /usr/local/lib/python3.9/dist-packages (from beautifulsoup4>=4.9.0->geeadd>=0.5.1->geemap) (2.4)\n",
            "Requirement already satisfied: uritemplate<5,>=3.0.1 in /usr/local/lib/python3.9/dist-packages (from google-api-python-client>=1.12.1->earthengine-api>=0.1.304->geemap) (4.1.1)\n",
            "Requirement already satisfied: google-api-core!=2.0.*,!=2.1.*,!=2.2.*,!=2.3.0,<3.0.0dev,>=1.31.5 in /usr/local/lib/python3.9/dist-packages (from google-api-python-client>=1.12.1->earthengine-api>=0.1.304->geemap) (2.11.0)\n",
            "Requirement already satisfied: pyasn1-modules>=0.2.1 in /usr/local/lib/python3.9/dist-packages (from google-auth>=1.4.1->earthengine-api>=0.1.304->geemap) (0.2.8)\n",
            "Requirement already satisfied: rsa<5,>=3.1.4 in /usr/local/lib/python3.9/dist-packages (from google-auth>=1.4.1->earthengine-api>=0.1.304->geemap) (4.9)\n",
            "Requirement already satisfied: cachetools<6.0,>=2.0.0 in /usr/local/lib/python3.9/dist-packages (from google-auth>=1.4.1->earthengine-api>=0.1.304->geemap) (5.3.0)\n",
            "Requirement already satisfied: zipp>=3.1.0 in /usr/local/lib/python3.9/dist-packages (from importlib-resources>=3.2.0->matplotlib->geemap) (3.15.0)\n",
            "Requirement already satisfied: prompt-toolkit<2.1.0,>=2.0.0 in /usr/local/lib/python3.9/dist-packages (from ipython>=4.0.0->ipywidgets<8.0.0->geemap) (2.0.10)\n",
            "Requirement already satisfied: pygments in /usr/local/lib/python3.9/dist-packages (from ipython>=4.0.0->ipywidgets<8.0.0->geemap) (2.6.1)\n",
            "Requirement already satisfied: decorator in /usr/local/lib/python3.9/dist-packages (from ipython>=4.0.0->ipywidgets<8.0.0->geemap) (4.4.2)\n",
            "Requirement already satisfied: setuptools>=18.5 in /usr/local/lib/python3.9/dist-packages (from ipython>=4.0.0->ipywidgets<8.0.0->geemap) (67.6.0)\n",
            "Requirement already satisfied: jedi>=0.10 in /usr/local/lib/python3.9/dist-packages (from ipython>=4.0.0->ipywidgets<8.0.0->geemap) (0.18.2)\n",
            "Requirement already satisfied: backcall in /usr/local/lib/python3.9/dist-packages (from ipython>=4.0.0->ipywidgets<8.0.0->geemap) (0.2.0)\n",
            "Requirement already satisfied: pickleshare in /usr/local/lib/python3.9/dist-packages (from ipython>=4.0.0->ipywidgets<8.0.0->geemap) (0.7.5)\n",
            "Requirement already satisfied: pexpect in /usr/local/lib/python3.9/dist-packages (from ipython>=4.0.0->ipywidgets<8.0.0->geemap) (4.8.0)\n",
            "Requirement already satisfied: MarkupSafe>=2.0 in /usr/local/lib/python3.9/dist-packages (from jinja2>=2.9->folium>=0.11.0->geemap) (2.1.2)\n",
            "Requirement already satisfied: tenacity>=6.2.0 in /usr/local/lib/python3.9/dist-packages (from plotly>=5.2.2->sankee>=0.1.0->geemap) (8.2.2)\n",
            "Requirement already satisfied: urllib3<1.27,>=1.21.1 in /usr/local/lib/python3.9/dist-packages (from requests->earthengine-api>=0.1.304->geemap) (1.26.15)\n",
            "Requirement already satisfied: idna<4,>=2.5 in /usr/local/lib/python3.9/dist-packages (from requests->earthengine-api>=0.1.304->geemap) (3.4)\n",
            "Requirement already satisfied: charset-normalizer~=2.0.0 in /usr/local/lib/python3.9/dist-packages (from requests->earthengine-api>=0.1.304->geemap) (2.0.12)\n",
            "Requirement already satisfied: certifi>=2017.4.17 in /usr/local/lib/python3.9/dist-packages (from requests->earthengine-api>=0.1.304->geemap) (2022.12.7)\n",
            "Requirement already satisfied: notebook>=4.4.1 in /usr/local/lib/python3.9/dist-packages (from widgetsnbextension~=3.6.0->ipywidgets<8.0.0->geemap) (6.3.0)\n",
            "Requirement already satisfied: google-cloud-core<3.0dev,>=2.3.0 in /usr/local/lib/python3.9/dist-packages (from google-cloud-storage->earthengine-api>=0.1.304->geemap) (2.3.2)\n",
            "Requirement already satisfied: google-resumable-media>=2.3.2 in /usr/local/lib/python3.9/dist-packages (from google-cloud-storage->earthengine-api>=0.1.304->geemap) (2.4.1)\n",
            "Requirement already satisfied: jupyter-core>=4.6.0 in /usr/local/lib/python3.9/dist-packages (from jupyter-client->ipykernel->geemap) (5.3.0)\n",
            "Requirement already satisfied: pyzmq>=13 in /usr/local/lib/python3.9/dist-packages (from jupyter-client->ipykernel->geemap) (23.2.1)\n",
            "Requirement already satisfied: PySocks!=1.5.7,>=1.5.6 in /usr/local/lib/python3.9/dist-packages (from requests->earthengine-api>=0.1.304->geemap) (1.7.1)\n",
            "Requirement already satisfied: googleapis-common-protos<2.0dev,>=1.56.2 in /usr/local/lib/python3.9/dist-packages (from google-api-core!=2.0.*,!=2.1.*,!=2.2.*,!=2.3.0,<3.0.0dev,>=1.31.5->google-api-python-client>=1.12.1->earthengine-api>=0.1.304->geemap) (1.58.0)\n",
            "Requirement already satisfied: protobuf!=3.20.0,!=3.20.1,!=4.21.0,!=4.21.1,!=4.21.2,!=4.21.3,!=4.21.4,!=4.21.5,<5.0.0dev,>=3.19.5 in /usr/local/lib/python3.9/dist-packages (from google-api-core!=2.0.*,!=2.1.*,!=2.2.*,!=2.3.0,<3.0.0dev,>=1.31.5->google-api-python-client>=1.12.1->earthengine-api>=0.1.304->geemap) (3.19.6)\n",
            "Requirement already satisfied: google-crc32c<2.0dev,>=1.0 in /usr/local/lib/python3.9/dist-packages (from google-resumable-media>=2.3.2->google-cloud-storage->earthengine-api>=0.1.304->geemap) (1.5.0)\n",
            "Requirement already satisfied: parso<0.9.0,>=0.8.0 in /usr/local/lib/python3.9/dist-packages (from jedi>=0.10->ipython>=4.0.0->ipywidgets<8.0.0->geemap) (0.8.3)\n",
            "Requirement already satisfied: platformdirs>=2.5 in /usr/local/lib/python3.9/dist-packages (from jupyter-core>=4.6.0->jupyter-client->ipykernel->geemap) (3.1.1)\n",
            "Requirement already satisfied: nbconvert in /usr/local/lib/python3.9/dist-packages (from notebook>=4.4.1->widgetsnbextension~=3.6.0->ipywidgets<8.0.0->geemap) (6.5.4)\n",
            "Requirement already satisfied: nbformat in /usr/local/lib/python3.9/dist-packages (from notebook>=4.4.1->widgetsnbextension~=3.6.0->ipywidgets<8.0.0->geemap) (5.8.0)\n",
            "Requirement already satisfied: prometheus-client in /usr/local/lib/python3.9/dist-packages (from notebook>=4.4.1->widgetsnbextension~=3.6.0->ipywidgets<8.0.0->geemap) (0.16.0)\n",
            "Requirement already satisfied: terminado>=0.8.3 in /usr/local/lib/python3.9/dist-packages (from notebook>=4.4.1->widgetsnbextension~=3.6.0->ipywidgets<8.0.0->geemap) (0.17.1)\n",
            "Requirement already satisfied: argon2-cffi in /usr/local/lib/python3.9/dist-packages (from notebook>=4.4.1->widgetsnbextension~=3.6.0->ipywidgets<8.0.0->geemap) (21.3.0)\n",
            "Requirement already satisfied: Send2Trash>=1.5.0 in /usr/local/lib/python3.9/dist-packages (from notebook>=4.4.1->widgetsnbextension~=3.6.0->ipywidgets<8.0.0->geemap) (1.8.0)\n",
            "Requirement already satisfied: wcwidth in /usr/local/lib/python3.9/dist-packages (from prompt-toolkit<2.1.0,>=2.0.0->ipython>=4.0.0->ipywidgets<8.0.0->geemap) (0.2.6)\n",
            "Requirement already satisfied: pyasn1<0.5.0,>=0.4.6 in /usr/local/lib/python3.9/dist-packages (from pyasn1-modules>=0.2.1->google-auth>=1.4.1->earthengine-api>=0.1.304->geemap) (0.4.8)\n",
            "Requirement already satisfied: ptyprocess>=0.5 in /usr/local/lib/python3.9/dist-packages (from pexpect->ipython>=4.0.0->ipywidgets<8.0.0->geemap) (0.7.0)\n",
            "Requirement already satisfied: argon2-cffi-bindings in /usr/local/lib/python3.9/dist-packages (from argon2-cffi->notebook>=4.4.1->widgetsnbextension~=3.6.0->ipywidgets<8.0.0->geemap) (21.2.0)\n",
            "Requirement already satisfied: jupyterlab-pygments in /usr/local/lib/python3.9/dist-packages (from nbconvert->notebook>=4.4.1->widgetsnbextension~=3.6.0->ipywidgets<8.0.0->geemap) (0.2.2)\n",
            "Requirement already satisfied: nbclient>=0.5.0 in /usr/local/lib/python3.9/dist-packages (from nbconvert->notebook>=4.4.1->widgetsnbextension~=3.6.0->ipywidgets<8.0.0->geemap) (0.7.2)\n",
            "Requirement already satisfied: entrypoints>=0.2.2 in /usr/local/lib/python3.9/dist-packages (from nbconvert->notebook>=4.4.1->widgetsnbextension~=3.6.0->ipywidgets<8.0.0->geemap) (0.4)\n",
            "Requirement already satisfied: pandocfilters>=1.4.1 in /usr/local/lib/python3.9/dist-packages (from nbconvert->notebook>=4.4.1->widgetsnbextension~=3.6.0->ipywidgets<8.0.0->geemap) (1.5.0)\n",
            "Requirement already satisfied: bleach in /usr/local/lib/python3.9/dist-packages (from nbconvert->notebook>=4.4.1->widgetsnbextension~=3.6.0->ipywidgets<8.0.0->geemap) (6.0.0)\n",
            "Requirement already satisfied: tinycss2 in /usr/local/lib/python3.9/dist-packages (from nbconvert->notebook>=4.4.1->widgetsnbextension~=3.6.0->ipywidgets<8.0.0->geemap) (1.2.1)\n",
            "Requirement already satisfied: mistune<2,>=0.8.1 in /usr/local/lib/python3.9/dist-packages (from nbconvert->notebook>=4.4.1->widgetsnbextension~=3.6.0->ipywidgets<8.0.0->geemap) (0.8.4)\n",
            "Requirement already satisfied: defusedxml in /usr/local/lib/python3.9/dist-packages (from nbconvert->notebook>=4.4.1->widgetsnbextension~=3.6.0->ipywidgets<8.0.0->geemap) (0.7.1)\n",
            "Requirement already satisfied: lxml in /usr/local/lib/python3.9/dist-packages (from nbconvert->notebook>=4.4.1->widgetsnbextension~=3.6.0->ipywidgets<8.0.0->geemap) (4.9.2)\n",
            "Requirement already satisfied: fastjsonschema in /usr/local/lib/python3.9/dist-packages (from nbformat->notebook>=4.4.1->widgetsnbextension~=3.6.0->ipywidgets<8.0.0->geemap) (2.16.3)\n",
            "Requirement already satisfied: jsonschema>=2.6 in /usr/local/lib/python3.9/dist-packages (from nbformat->notebook>=4.4.1->widgetsnbextension~=3.6.0->ipywidgets<8.0.0->geemap) (4.3.3)\n",
            "Requirement already satisfied: pyrsistent!=0.17.0,!=0.17.1,!=0.17.2,>=0.14.0 in /usr/local/lib/python3.9/dist-packages (from jsonschema>=2.6->nbformat->notebook>=4.4.1->widgetsnbextension~=3.6.0->ipywidgets<8.0.0->geemap) (0.19.3)\n",
            "Requirement already satisfied: attrs>=17.4.0 in /usr/local/lib/python3.9/dist-packages (from jsonschema>=2.6->nbformat->notebook>=4.4.1->widgetsnbextension~=3.6.0->ipywidgets<8.0.0->geemap) (22.2.0)\n",
            "Requirement already satisfied: cffi>=1.0.1 in /usr/local/lib/python3.9/dist-packages (from argon2-cffi-bindings->argon2-cffi->notebook>=4.4.1->widgetsnbextension~=3.6.0->ipywidgets<8.0.0->geemap) (1.15.1)\n",
            "Requirement already satisfied: webencodings in /usr/local/lib/python3.9/dist-packages (from bleach->nbconvert->notebook>=4.4.1->widgetsnbextension~=3.6.0->ipywidgets<8.0.0->geemap) (0.5.1)\n",
            "Requirement already satisfied: pycparser in /usr/local/lib/python3.9/dist-packages (from cffi>=1.0.1->argon2-cffi-bindings->argon2-cffi->notebook>=4.4.1->widgetsnbextension~=3.6.0->ipywidgets<8.0.0->geemap) (2.21)\n"
          ]
        }
      ]
    },
    {
      "cell_type": "code",
      "source": [
        "import leafmap\n",
        "import geemap"
      ],
      "metadata": {
        "id": "AqEVKDbzWR2X"
      },
      "id": "AqEVKDbzWR2X",
      "execution_count": 3,
      "outputs": []
    },
    {
      "cell_type": "markdown",
      "id": "a526d1ff",
      "metadata": {
        "id": "a526d1ff"
      },
      "source": [
        "## Question 1\n",
        "\n",
        "**Person:** Use a dictionary to store information about a person you know. Store their first name, last name, age, and the city in which they live. You should have keys such as first_name, last_name, age, and city. Print each piece of information stored in your dictionary."
      ]
    },
    {
      "cell_type": "code",
      "execution_count": 4,
      "id": "060bd962",
      "metadata": {
        "colab": {
          "base_uri": "https://localhost:8080/"
        },
        "id": "060bd962",
        "outputId": "7e661ac3-838c-4834-ef2c-c76b5345c1e9"
      },
      "outputs": [
        {
          "output_type": "stream",
          "name": "stdout",
          "text": [
            " f_name = Joe\n",
            " l_name = Biden\n",
            " age = 80\n",
            " marital status = married\n",
            " city_of_residence = DC\n",
            " job = politician (POTUS)\n"
          ]
        }
      ],
      "source": [
        " famous_person= {\n",
        "    'f_name': 'Joe',\n",
        "    'l_name': 'Biden',\n",
        "    'age': 80,\n",
        "     'marital status': 'married',\n",
        "    'city_of_residence': 'DC',\n",
        "    'job': 'politician (POTUS)'\n",
        "    }\n",
        "for key,value in famous_person.items():\n",
        "    print(f' {key} = {value}')"
      ]
    },
    {
      "cell_type": "markdown",
      "id": "32bb120e",
      "metadata": {
        "id": "32bb120e"
      },
      "source": [
        "## Question 2\n",
        "\n",
        "**Favorite Numbers:** Use a dictionary to store people’s favorite numbers. Think of five names, and use them as keys in your dictionary. Think of a favorite number for each person, and store each as a value in your dictionary. Print each person’s name and their favorite number. For even more fun, poll a few friends and get some actual data for your program."
      ]
    },
    {
      "cell_type": "code",
      "execution_count": 5,
      "id": "37115a33",
      "metadata": {
        "colab": {
          "base_uri": "https://localhost:8080/"
        },
        "id": "37115a33",
        "outputId": "397040a4-5364-42d0-b069-02add8cac6fa"
      },
      "outputs": [
        {
          "name": "stdout",
          "output_type": "stream",
          "text": [
            "kelvin's favorite number is: 988.\n",
            "\n",
            "Kegan's favorite number is: 678.\n",
            "\n",
            "Adam's favorite number is: 200.\n",
            "\n",
            "Michael's favorite number is: 500.\n",
            "\n",
            "Lee Kuan Yew's favorite number is: 123.\n",
            "\n",
            "Joe's favorite number is: \n",
            "80\n",
            "Kamala's favorite number is: \n",
            "58\n",
            "Anthony's favorite number is: \n",
            "60\n"
          ]
        }
      ],
      "source": [
        "Favorite_numbers = {\n",
        "    'kelvin': 988,\n",
        "    'Kegan': 678,\n",
        "    'Adam': 200,\n",
        "    'Michael': 500,\n",
        "    'Lee Kuan Yew': 123,\n",
        "    }\n",
        "\n",
        "for key,value in Favorite_numbers.items():\n",
        "    print(f\"{key}'s favorite number is: {value}.\\n\")\n",
        "\n",
        "user_friends = [\"Joe\", \"Kamala\", \"Anthony\"]\n",
        "for name in user_friends:\n",
        "    print(f'{name}\\'s favorite number is: ')\n",
        "    fav_num = input('')"
      ]
    },
    {
      "cell_type": "markdown",
      "id": "eb31ca53",
      "metadata": {
        "id": "eb31ca53"
      },
      "source": [
        "## Question 3\n",
        "\n",
        "**Glossary:** A Python dictionary can be used to model an actual dictionary. However, to avoid confusion, let’s call it a glossary.\n",
        "\n",
        "- Think of five programming words you’ve learned about in the previous chapters. Use these words as the keys in your glossary, and store their meanings as values.\n",
        "- Print each word and its meaning as neatly formatted output. You might print the word followed by a colon and then its meaning, or print the word on one line and then print its meaning indented on a second line. Use the newline character (\\n) to insert a blank line between each word-meaning pair in your output."
      ]
    },
    {
      "cell_type": "code",
      "execution_count": 6,
      "id": "7bdd7f86",
      "metadata": {
        "colab": {
          "base_uri": "https://localhost:8080/"
        },
        "id": "7bdd7f86",
        "outputId": "2604ac0e-e256-4b86-b59c-dd2e10e4f56d"
      },
      "outputs": [
        {
          "output_type": "stream",
          "name": "stdout",
          "text": [
            "List is defined as:\n",
            "\ta python data type storing items that are ordered, changeable, and allows duplicate values.\n",
            "\n",
            "String is defined as:\n",
            "\tarrays of bytes representing unicode characters.\n",
            "\n",
            "Dictionary is defined as:\n",
            "\ta collection which is ordered, changeable and no duplicates, and store data values in key:value pairs.\n",
            "\n",
            "Variables is defined as:\n",
            "\tcontainers for storing data values.\n",
            "\n",
            "Intergers is defined as:\n",
            "\ta whole number, positive or negative, without decimals, of unlimited length.\n",
            "\n"
          ]
        }
      ],
      "source": [
        "glossary = {\n",
        "    'List': 'a python data type storing items that are ordered, changeable, and allows duplicate values.',\n",
        "    'String': 'arrays of bytes representing unicode characters.',\n",
        "    'Dictionary': 'a collection which is ordered, changeable and no duplicates, and store data values in key:value pairs.',\n",
        "    'Variables': 'containers for storing data values.',\n",
        "    'Intergers': 'a whole number, positive or negative, without decimals, of unlimited length.',    \n",
        "    }\n",
        "\n",
        "for key, value in glossary.items():\n",
        "    print(f'{key} is defined as:')\n",
        "    print(f'\\t{value}\\n')"
      ]
    },
    {
      "cell_type": "markdown",
      "id": "9bdb2d85",
      "metadata": {
        "id": "9bdb2d85"
      },
      "source": [
        "## Question 4\n",
        "\n",
        "**Glossary 2:** Now that you know how to loop through a dictionary, clean up the code from Question 3 by replacing your series of print() calls with a loop that runs through the dictionary’s keys and values. When you’re sure that your loop works, add five more Python terms to your glossary. When you run your program again, these new words and meanings should automatically be included in the output."
      ]
    },
    {
      "cell_type": "code",
      "execution_count": 7,
      "id": "018d37ff",
      "metadata": {
        "colab": {
          "base_uri": "https://localhost:8080/"
        },
        "id": "018d37ff",
        "outputId": "4216bfd1-b6e4-4379-8bff-cfe7d87b0bdc"
      },
      "outputs": [
        {
          "output_type": "stream",
          "name": "stdout",
          "text": [
            "List: a python data type storing items that are ordered, changeable, and allows duplicate values. \n",
            "\n",
            "Strings: arrays of bytes representing unicode characters. \n",
            "\n",
            "Dictionary: a collection which is ordered, changeable and no duplicates, and store data values in key:value pairs. \n",
            "\n",
            "Variables: are containers for storing data values. \n",
            "\n",
            "Intergers: a whole number, positive or negative, without decimals, of unlimited length. \n",
            "\n",
            "Boolean: represent one of two values: True or False. \n",
            "\n",
            "If statements: are control flow statements running a particular code only when a certain condition is satisfied \n",
            "\n",
            "And: returns True if both statements are true. \n",
            "\n",
            "Package:  contains all the files you need for a module. \n",
            "\n",
            "Comments: are used to explain Python code and make the code more readable \n",
            "\n"
          ]
        }
      ],
      "source": [
        "glossary = {\n",
        "    'List': 'a python data type storing items that are ordered, changeable, and allows duplicate values.',\n",
        "    'Strings': 'arrays of bytes representing unicode characters.',\n",
        "    'Dictionary': 'a collection which is ordered, changeable and no duplicates, and store data values in key:value pairs.',\n",
        "    'Variables': 'are containers for storing data values.',\n",
        "    'Intergers': 'a whole number, positive or negative, without decimals, of unlimited length.',    \n",
        "    }\n",
        "\n",
        "glossary2 = glossary\n",
        "glossary2['Boolean'] = 'represent one of two values: True or False.'\n",
        "glossary2['If statements'] = 'are control flow statements running a particular code only when a certain condition is satisfied'\n",
        "glossary2['And'] = 'returns True if both statements are true.'\n",
        "glossary2['Package'] = ' contains all the files you need for a module.'\n",
        "glossary2['Comments'] = 'are used to explain Python code and make the code more readable'\n",
        "for key, value in glossary2.items():\n",
        "    print(f'{key}: {value} \\n')"
      ]
    },
    {
      "cell_type": "markdown",
      "id": "375356d5",
      "metadata": {
        "id": "375356d5"
      },
      "source": [
        "## Question 5\n",
        "\n",
        "**Rivers:** Make a dictionary containing three major rivers and the country each river runs through. One key-value pair might be 'nile': 'egypt'.\n",
        "\n",
        "- Use a loop to print a sentence about each river, such as _The Nile runs through Egypt._\n",
        "- Use a loop to print the name of each river included in the dictionary.\n",
        "- Use a loop to print the name of each country included in the dictionary."
      ]
    },
    {
      "cell_type": "code",
      "execution_count": 8,
      "id": "2fd7b758",
      "metadata": {
        "colab": {
          "base_uri": "https://localhost:8080/"
        },
        "id": "2fd7b758",
        "outputId": "361ae081-6667-486a-df00-f21e2200c365"
      },
      "outputs": [
        {
          "output_type": "stream",
          "name": "stdout",
          "text": [
            "There are several HP dams along the course of Zambezi River in Zambia.\n",
            "\n",
            "There are several HP dams along the course of Yangtze River in China.\n",
            "\n",
            "There are several HP dams along the course of Mississippi River in USA.\n",
            "\n",
            "\tZambezi\n",
            "\n",
            "\tYangtze\n",
            "\n",
            "\tMississippi\n",
            "\n",
            "Zambia\n",
            "\n",
            "China\n",
            "\n",
            "USA\n",
            "\n"
          ]
        }
      ],
      "source": [
        "Rivers = {\n",
        "    'Zambezi': 'Zambia',\n",
        "    'Yangtze': 'China',\n",
        "    'Mississippi': 'USA',\n",
        "    }\n",
        "\n",
        "# Use a loop to print a sentence about each river:\n",
        "for river, country in Rivers.items():\n",
        "    print(f'There are several HP dams along the course of {river} River in {country}.\\n')\n",
        "\n",
        "# Use a loop to print the name of each river included in the dictionary.\n",
        "for river in Rivers.keys():\n",
        "    print(f'\\t{river}\\n')\n",
        "    \n",
        "# Use a loop to print the name of each country included in the dictionary.\n",
        "for country in Rivers.values():\n",
        "    print(f'{country}\\n')"
      ]
    },
    {
      "cell_type": "markdown",
      "id": "8b0b500d",
      "metadata": {
        "id": "8b0b500d"
      },
      "source": [
        "## Question 6\n",
        "\n",
        "**Cities:** Make a dictionary called `cities`. Use the names of three cities as keys in your dictionary. Create a dictionary of information about each city and include the country that the city is in, its approximate population, and one fact about that city. The keys for each city’s dictionary should be something like `country`, `population`, and `fact`. Print the name of each city and all of the information you have stored about it."
      ]
    },
    {
      "cell_type": "code",
      "execution_count": 9,
      "id": "28a77010",
      "metadata": {
        "colab": {
          "base_uri": "https://localhost:8080/"
        },
        "id": "28a77010",
        "outputId": "70cd988e-5755-4200-f84d-469ad5e4e5ca"
      },
      "outputs": [
        {
          "output_type": "stream",
          "name": "stdout",
          "text": [
            "City: Canberra\n",
            "Country: Australia\n",
            "Population: 434613\n",
            "Fact: Capital of Australia and the only city in the world where one can skydive over the country's parliament house.\n",
            "\n",
            "City: Singapore\n",
            "Country: Singapore\n",
            "Population: 5975689\n",
            "Fact: a city-state and one of only three surviving city-states in the world.\n",
            "\n",
            "City: Lagos\n",
            "Country: Nigeria\n",
            "Population: 21000000\n",
            "Fact: former capital of Nigeria, has the highest population density (as the smallest and most populous city) in Nigeria.\n",
            "\n"
          ]
        }
      ],
      "source": [
        "cities = {\n",
        "    'Canberra': {\n",
        "        'country': 'Australia',\n",
        "        'population': 434_613,\n",
        "        'fact': 'Capital of Australia and the only city in the world where one can skydive over the country\\'s parliament house.'\n",
        "        },\n",
        "    'Singapore': {\n",
        "        'country': 'Singapore',\n",
        "        'population':5_975_689,\n",
        "        'fact': 'a city-state and one of only three surviving city-states in the world.',\n",
        "        },\n",
        "    'Lagos': {\n",
        "        'country': 'Nigeria',\n",
        "        'population': 21_000_000,\n",
        "        'fact': 'former capital of Nigeria, has the highest population density (as the smallest and most populous city) in Nigeria.',\n",
        "        },\n",
        "    }\n",
        "for cityname, cityinfo in cities.items():\n",
        "    print(f'City: {cityname}')\n",
        "    country = cityinfo['country']\n",
        "    population = cityinfo['population']\n",
        "    fact = cityinfo['fact']\n",
        "    \n",
        "    print(f'Country: {country}')\n",
        "    print(f'Population: {population}')\n",
        "    print(f'Fact: {fact}\\n')"
      ]
    },
    {
      "cell_type": "markdown",
      "id": "874541d3",
      "metadata": {
        "id": "874541d3"
      },
      "source": [
        "## Question 7\n",
        "\n",
        "**Rental Car:** Write a program that asks the user what kind of rental car they would like. Print a message about that car, such as “Let me see if I can find you a Subaru.”"
      ]
    },
    {
      "cell_type": "code",
      "execution_count": 10,
      "id": "5283628b",
      "metadata": {
        "colab": {
          "base_uri": "https://localhost:8080/"
        },
        "id": "5283628b",
        "outputId": "a4d488a3-3502-476f-9769-c5bda96e89bd"
      },
      "outputs": [
        {
          "output_type": "stream",
          "name": "stdout",
          "text": [
            "What car would you prefer?: Peugeot\n",
            "\n",
            " I am truly sorry, \"Peugeot\" is currently under repair and hence, unavailable!\n"
          ]
        }
      ],
      "source": [
        "Rental_car = input(\"What car would you prefer?: \")\n",
        "print (f'\\n I am truly sorry, \"{Rental_car}\" is currently under repair and hence, unavailable!')"
      ]
    },
    {
      "cell_type": "markdown",
      "id": "e03a200a",
      "metadata": {
        "id": "e03a200a"
      },
      "source": [
        "## Question 8\n",
        "\n",
        "**Restaurant Seating:** Write a program that asks the user how many people are in their dinner group. If the answer is more than eight, print a message saying they’ll have to wait for a table. Otherwise, report that their table is ready."
      ]
    },
    {
      "cell_type": "code",
      "execution_count": 11,
      "id": "96167a0f",
      "metadata": {
        "colab": {
          "base_uri": "https://localhost:8080/"
        },
        "id": "96167a0f",
        "outputId": "e58ab150-e8b1-4f4b-907b-e41f694d3095"
      },
      "outputs": [
        {
          "output_type": "stream",
          "name": "stdout",
          "text": [
            "what is the size of your dinner group?: 8\n",
            "Your group's table is ready\n"
          ]
        }
      ],
      "source": [
        "Restaurant_Seating = input('what is the size of your dinner group?: ')\n",
        "Restaurant_Seating = int(Restaurant_Seating)\n",
        "if Restaurant_Seating > 8:\n",
        "    print(f'I am afraid your group will have to wait a little bit for a table')\n",
        "else: \n",
        "    print(f'Your group\\'s table is ready')"
      ]
    },
    {
      "cell_type": "markdown",
      "id": "a523d8a7",
      "metadata": {
        "id": "a523d8a7"
      },
      "source": [
        "## Question 9\n",
        "\n",
        "**Multiples of Ten:** Ask the user for a number, and then report whether the number is a multiple of 10 or not."
      ]
    },
    {
      "cell_type": "code",
      "execution_count": 12,
      "id": "77c9702e",
      "metadata": {
        "colab": {
          "base_uri": "https://localhost:8080/"
        },
        "id": "77c9702e",
        "outputId": "3c4ea5ae-78c0-431c-d441-ebee6a2093fd"
      },
      "outputs": [
        {
          "output_type": "stream",
          "name": "stdout",
          "text": [
            "Enter a number to check if it is a multiple of 1010000\n",
            "\n",
            "The number 10000 is a multiple of 10\n"
          ]
        }
      ],
      "source": [
        "Numbx10 = input('Enter a number to check if it is a multiple of 10')\n",
        "Numbx10 = int(Numbx10)\n",
        "if Numbx10 % 10 == 0:\n",
        "    print(f'\\nThe number {Numbx10} is a multiple of 10')\n",
        "else:\n",
        "    print(f'\\n The number {Numbx10} is not a multiple of 10')"
      ]
    },
    {
      "cell_type": "markdown",
      "id": "de550983",
      "metadata": {
        "id": "de550983"
      },
      "source": [
        "## Question 10\n",
        "\n",
        "**Pizza Toppings:** Write a loop that prompts the user to enter a series of pizza toppings until they enter a 'quit' value. As they enter each topping, print a message saying you’ll add that topping to their pizza."
      ]
    },
    {
      "cell_type": "code",
      "execution_count": 13,
      "id": "ad2e849d-bfc3-4719-9576-e220b82b7bdc",
      "metadata": {
        "tags": [],
        "colab": {
          "base_uri": "https://localhost:8080/"
        },
        "id": "ad2e849d-bfc3-4719-9576-e220b82b7bdc",
        "outputId": "111ff8ed-bc75-435e-d697-6c5afa7a214f"
      },
      "outputs": [
        {
          "output_type": "stream",
          "name": "stdout",
          "text": [
            "What is your favorite pizza toppings?\n",
            "(Enter 'q' when finished.)Green pepper\n",
            "\n",
            "Adding Green pepper to your pizza!\n",
            "What is your favorite pizza toppings?\n",
            "(Enter 'q' when finished.)Pepperoni\n",
            "\n",
            "Adding Pepperoni to your pizza!\n",
            "What is your favorite pizza toppings?\n",
            "(Enter 'q' when finished.)Mushroom\n",
            "\n",
            "Adding Mushroom to your pizza!\n",
            "What is your favorite pizza toppings?\n",
            "(Enter 'q' when finished.)Sausage\n",
            "\n",
            "Adding Sausage to your pizza!\n",
            "What is your favorite pizza toppings?\n",
            "(Enter 'q' when finished.)Fresh basil\n",
            "\n",
            "Adding Fresh basil to your pizza!\n",
            "What is your favorite pizza toppings?\n",
            "(Enter 'q' when finished.)q\n",
            "\n",
            "Your pizza will be ready in a moment!\n"
          ]
        }
      ],
      "source": [
        "prompt= 'What is your favorite pizza toppings?'\n",
        "prompt += \"\\n(Enter 'q' when finished.)\"\n",
        "\n",
        "while True:\n",
        "    Pizza_Toppings = input(prompt)\n",
        "    if Pizza_Toppings == 'q':\n",
        "        print(\"\\nYour pizza will be ready in a moment!\")\n",
        "        break\n",
        "    else:\n",
        "        print(f\"\\nAdding {Pizza_Toppings} to your pizza!\")"
      ]
    },
    {
      "cell_type": "markdown",
      "id": "ccfe4831",
      "metadata": {
        "id": "ccfe4831"
      },
      "source": [
        "## Question 11\n",
        "\n",
        "**Message:** Write a function called `display_message()` that prints one sentence telling everyone what you are learning about in this chapter. Call the function, and make sure the message displays correctly."
      ]
    },
    {
      "cell_type": "code",
      "execution_count": 14,
      "id": "7080b52a",
      "metadata": {
        "colab": {
          "base_uri": "https://localhost:8080/"
        },
        "id": "7080b52a",
        "outputId": "291053e3-50c7-4deb-f729-06f87e69bf7e"
      },
      "outputs": [
        {
          "output_type": "stream",
          "name": "stdout",
          "text": [
            "I am learning how to write Python functions or blocks of code designed to do one single related task.\n"
          ]
        }
      ],
      "source": [
        "def display_message():\n",
        "    print('I am learning how to write Python functions or blocks of code designed to do one single related task.')\n",
        "display_message()"
      ]
    },
    {
      "cell_type": "markdown",
      "id": "2b5e23db",
      "metadata": {
        "id": "2b5e23db"
      },
      "source": [
        "## Question 12\n",
        "\n",
        "**Favorite Book:** Write a function called `favorite_book()` that accepts one parameter, title. The function should print a message, such as `One of my favorite books is Alice in Wonderland`. Call the function, making sure to include a book title as an argument in the function call."
      ]
    },
    {
      "cell_type": "code",
      "execution_count": 15,
      "id": "b33bd108",
      "metadata": {
        "colab": {
          "base_uri": "https://localhost:8080/"
        },
        "id": "b33bd108",
        "outputId": "0febd3d6-f0b9-45be-c2ce-505e26312cef"
      },
      "outputs": [
        {
          "output_type": "stream",
          "name": "stdout",
          "text": [
            "\"The Central Liberal Truth: How Politics Can Change a Culture and Save It from Itself\" written by Lawrence E. Harrison was really a page-turner for me.\n"
          ]
        }
      ],
      "source": [
        "def favorite_book(title):\n",
        "    print(f'\"{title}\" written by Lawrence E. Harrison was really a page-turner for me.')\n",
        "favorite_book('The Central Liberal Truth: How Politics Can Change a Culture and Save It from Itself')"
      ]
    },
    {
      "cell_type": "markdown",
      "id": "4904419f",
      "metadata": {
        "id": "4904419f"
      },
      "source": [
        "## Question 13\n",
        "\n",
        "**T-Shirt:** Write a function called `make_shirt()` that accepts a size and the text of a message that should be printed on the shirt. The function should print a sentence summarizing the size of the shirt and the message printed on it.\n",
        "\n",
        "Call the function once using positional arguments to make a shirt. Call the function a second time using keyword arguments."
      ]
    },
    {
      "cell_type": "code",
      "execution_count": 16,
      "id": "53d690ca",
      "metadata": {
        "colab": {
          "base_uri": "https://localhost:8080/"
        },
        "id": "53d690ca",
        "outputId": "2910126d-a4e1-46aa-963f-40cedb2e47fb"
      },
      "outputs": [
        {
          "output_type": "stream",
          "name": "stdout",
          "text": [
            "This shirt's size is \"medium\", and I admire the branding on it - \"Winners don't quit and quitters don't win!\".\n"
          ]
        }
      ],
      "source": [
        "def make_shirt(size, branding):\n",
        "    print(f'This shirt\\'s size is \"{size}\", and I admire the branding on it - \"{branding}\".')\n",
        "make_shirt('medium', \"Winners don't quit and quitters don't win!\")"
      ]
    },
    {
      "cell_type": "markdown",
      "id": "c6a6dc4b",
      "metadata": {
        "id": "c6a6dc4b"
      },
      "source": [
        "## Question 14\n",
        "\n",
        "**Large Shirts:** Modify the `make_shirt()` function so that shirts are large by default with a message that reads _I love Python_. Make a large shirt and a medium shirt with the default message, and a shirt of any size with a different message."
      ]
    },
    {
      "cell_type": "code",
      "execution_count": 17,
      "id": "658f7e3f",
      "metadata": {
        "colab": {
          "base_uri": "https://localhost:8080/"
        },
        "id": "658f7e3f",
        "outputId": "9bbc5339-d48a-4c75-f8c3-3330c8271ff2"
      },
      "outputs": [
        {
          "output_type": "stream",
          "name": "stdout",
          "text": [
            "This shirt's size is \"large\", and I admire the branding on it - \"I love Python\".\n",
            "\n",
            "This shirt's size is \"large\", and I admire the branding on it - \"Winners don't quit and quitters don't win!\".\n",
            "\n",
            "This shirt's size is \"medium\", and I admire the branding on it - \"Winners don't quit and quitters don't win!\".\n",
            "\n",
            "This shirt's size is \"Xtra large\", and I admire the branding on it - \"Go Vols\".\n",
            "\n"
          ]
        }
      ],
      "source": [
        "def make_shirt(size = 'large', branding = 'I love Python'):\n",
        "    \"\"\"shirts are large by default with a message that reads I love Python.\"\"\"\n",
        "    print(f'This shirt\\'s size is \"{size}\", and I admire the branding on it - \"{branding}\".\\n')\n",
        "make_shirt()\n",
        "\n",
        "\n",
        "def make_shirt(size, branding = \"Winners don't quit and quitters don't win!\"):\n",
        "    \"\"\"a large shirt and a medium shirt with the default message\"\"\"\n",
        "    print(f'This shirt\\'s size is \"{size}\", and I admire the branding on it - \"{branding}\".\\n') \n",
        "make_shirt(size = 'large')   \n",
        "make_shirt(size = 'medium')\n",
        "\n",
        "def make_shirt(size, branding):\n",
        "    \"\"\"a shirt of any size with a different message.\"\"\"\n",
        "    print(f'This shirt\\'s size is \"{size}\", and I admire the branding on it - \"{branding}\".\\n') \n",
        "make_shirt('Xtra large', 'Go Vols')"
      ]
    },
    {
      "cell_type": "markdown",
      "id": "64fd6e85",
      "metadata": {
        "id": "64fd6e85"
      },
      "source": [
        "## Question 15\n",
        "\n",
        "**Cities:** Write a function called `describe_city()` that accepts the name of a city and its country. The function should print a simple sentence, such as `Reykjavik is in Iceland`. Give the parameter for the country a default value. Call your function for three different cities, at least one of which is not in the default country."
      ]
    },
    {
      "cell_type": "code",
      "execution_count": 18,
      "id": "bc493373",
      "metadata": {
        "colab": {
          "base_uri": "https://localhost:8080/"
        },
        "id": "bc493373",
        "outputId": "25aec9a8-5376-4da6-9381-11fe2b0cfdd5"
      },
      "outputs": [
        {
          "output_type": "stream",
          "name": "stdout",
          "text": [
            "Tokyo is in Japan.\n",
            "\n",
            "Knoxville is in USA\n",
            "San Francisco is in USA\n",
            "Berlin is in Germany\n"
          ]
        }
      ],
      "source": [
        "def describe_city(city_name, country):\n",
        "    print(f'{city_name} is in {country}.\\n')\n",
        "describe_city('Tokyo', 'Japan')\n",
        "\n",
        "def describe_city(city_name, country = 'USA'):\n",
        "    print(f'{city_name} is in {country}')\n",
        "describe_city('Knoxville')\n",
        "describe_city('San Francisco')\n",
        "describe_city('Berlin', 'Germany')"
      ]
    },
    {
      "cell_type": "markdown",
      "id": "259cdcdc",
      "metadata": {
        "tags": [],
        "id": "259cdcdc"
      },
      "source": [
        "## Question 16\n",
        "\n",
        "**City Names:** Write a function called `city_country()` that takes in the name of a city and its country. The function should return a string formatted like this:\n",
        "\n",
        "```text\n",
        "Santiago, Chile\n",
        "```\n",
        "\n",
        "Call your function with at least three city-country pairs, and print the values that are returned."
      ]
    },
    {
      "cell_type": "code",
      "execution_count": 19,
      "id": "4f01477e-11a2-4660-80ed-34fbaf425ccb",
      "metadata": {
        "tags": [],
        "colab": {
          "base_uri": "https://localhost:8080/"
        },
        "id": "4f01477e-11a2-4660-80ed-34fbaf425ccb",
        "outputId": "9317effc-2992-4cfe-a063-99d57381eb69"
      },
      "outputs": [
        {
          "output_type": "stream",
          "name": "stdout",
          "text": [
            "Brasilia, Brazil\n",
            "New Delhi, India\n",
            "Cape Town & Pretoria, South Africa\n"
          ]
        }
      ],
      "source": [
        "def city_country(city_name, country):\n",
        "    location = f\"{city_name.title()}, {country.title()}\"\n",
        "    return location\n",
        "\n",
        "place_on_Earth = city_country('brasilia', 'brazil')\n",
        "print(place_on_Earth)\n",
        "\n",
        "place_on_Earth = city_country('new delhi', 'india')\n",
        "print(place_on_Earth)\n",
        "\n",
        "place_on_Earth = city_country('cape town & pretoria', 'south africa')\n",
        "print(place_on_Earth)"
      ]
    },
    {
      "cell_type": "markdown",
      "id": "491f64a4",
      "metadata": {
        "id": "491f64a4"
      },
      "source": [
        "## Question 17\n",
        "\n",
        "**Album:** Write a function called `make_album()` that builds a dictionary describing a music album. The function should take in an artist name and an album title, and it should return a dictionary containing these two pieces of information. Use the function to make three dictionaries representing different albums. Print each return value to show that the dictionaries are storing the album information correctly.\n",
        "\n",
        "Use None to add an optional parameter to make_album() that allows you to store the number of songs on an album. If the calling line includes a value for the number of songs, add that value to the album’s dictionary. Make at least one new function call that includes the number of songs on an album."
      ]
    },
    {
      "cell_type": "code",
      "execution_count": 20,
      "id": "d745473d-c781-4692-a367-c999e2cd5b14",
      "metadata": {
        "tags": [],
        "colab": {
          "base_uri": "https://localhost:8080/"
        },
        "id": "d745473d-c781-4692-a367-c999e2cd5b14",
        "outputId": "56ba86a2-2ecd-4822-8f22-9ba51206974f"
      },
      "outputs": [
        {
          "output_type": "stream",
          "name": "stdout",
          "text": [
            "{'name': 'Bob Marley', 'album': 'Get Up Stand Up'}\n",
            "{'name': 'Bob Marley', 'album': 'Exodus'}\n",
            "{'name': 'Bob Marley', 'album': 'Uprising'}\n",
            "{'name': 'Bob Marley', 'album': 'Soul Revolution'}\n",
            "{'name': 'Bob Marley', 'album': 'Get Up Stand Up', 'number_of_album': 3}\n"
          ]
        }
      ],
      "source": [
        "def make_album(artist_name, album_title):\n",
        "    artist = {'name': artist_name, 'album': album_title}\n",
        "    return artist\n",
        "Album = make_album('Bob Marley', 'Get Up Stand Up')\n",
        "print(Album)\n",
        "\n",
        "Album = make_album('Bob Marley', 'Exodus')\n",
        "print(Album)\n",
        "\n",
        "Album = make_album('Bob Marley', 'Uprising')\n",
        "print(Album)\n",
        "\n",
        "Album = make_album('Bob Marley', 'Soul Revolution')\n",
        "print(Album)\n",
        "\n",
        "def make_album(artist_name, album_title, number_of_album = None):\n",
        "    artist = {'name': artist_name, 'album': album_title}\n",
        "    if number_of_album:\n",
        "        artist['number_of_album'] = number_of_album\n",
        "    return artist\n",
        "Album = make_album('Bob Marley', 'Get Up Stand Up', number_of_album = 3)\n",
        "print(Album)"
      ]
    },
    {
      "cell_type": "markdown",
      "id": "42f6a72f",
      "metadata": {
        "tags": [],
        "id": "42f6a72f"
      },
      "source": [
        "## Question 18\n",
        "\n",
        "**User Albums:** Start with your program from Question 17. Write a `while` loop that allows users to enter an album’s artist and title. Once you have that information, call `make_album()` with the user’s input and print the dictionary that’s created. Be sure to include a quit value in the `while` loop."
      ]
    },
    {
      "cell_type": "code",
      "execution_count": 21,
      "id": "a6c9657c-a25e-41d2-b610-9ca6f3a4974a",
      "metadata": {
        "tags": [],
        "colab": {
          "base_uri": "https://localhost:8080/"
        },
        "id": "a6c9657c-a25e-41d2-b610-9ca6f3a4974a",
        "outputId": "c87ab5ab-4e20-4143-de13-0f01ad2a777b"
      },
      "outputs": [
        {
          "name": "stdout",
          "output_type": "stream",
          "text": [
            "\n",
            "what is the album's artist and title?: \n",
            "(enter \"q\" to quit)\n",
            "Artist: Bob Marley\n",
            "Album: Get Up Stand Up\n",
            "You have entered the album and artist {'name': 'Bob Marley', 'album': 'Get Up Stand Up'}.\n",
            "\n",
            "what is the album's artist and title?: \n",
            "(enter \"q\" to quit)\n",
            "Artist: Bob Marley\n",
            "Album: Uprising\n",
            "You have entered the album and artist {'name': 'Bob Marley', 'album': 'Uprising'}.\n",
            "\n",
            "what is the album's artist and title?: \n",
            "(enter \"q\" to quit)\n",
            "Artist: Bob Marley\n",
            "Album: Soul Revolution\n",
            "You have entered the album and artist {'name': 'Bob Marley', 'album': 'Soul Revolution'}.\n",
            "\n",
            "what is the album's artist and title?: \n",
            "(enter \"q\" to quit)\n",
            "Artist: q\n"
          ]
        }
      ],
      "source": [
        "def make_album(artist_name, album_title):\n",
        "    artist = {'name': artist_name, 'album': album_title}\n",
        "    return artist\n",
        "\n",
        "while True:\n",
        "    print('\\nwhat is the album\\'s artist and title?: ')\n",
        "    print('(enter \"q\" to quit)')\n",
        "    \n",
        "    alb_artist = input(\"Artist: \")\n",
        "    if alb_artist == 'q':\n",
        "        break\n",
        "        \n",
        "    alb_title = input(\"Album: \")\n",
        "    if alb_title == 'q':\n",
        "        break\n",
        "        \n",
        "    artist = make_album(alb_artist, alb_title)\n",
        "    print(f\"You have entered the album and artist {artist}.\")"
      ]
    },
    {
      "cell_type": "markdown",
      "id": "97bab8c2",
      "metadata": {
        "id": "97bab8c2"
      },
      "source": [
        "## Question 19\n",
        "\n",
        "**Messages:** Make a list containing a series of short text messages. Pass the list to a function called `show_messages()`, which prints each text message."
      ]
    },
    {
      "cell_type": "code",
      "execution_count": 22,
      "id": "f8f3ee4e",
      "metadata": {
        "colab": {
          "base_uri": "https://localhost:8080/"
        },
        "id": "f8f3ee4e",
        "outputId": "71dc7933-014c-4e8f-c20f-706d56516ae0"
      },
      "outputs": [
        {
          "output_type": "stream",
          "name": "stdout",
          "text": [
            "Tiger lives in the wild.\n",
            "\n",
            "Lion lives in the wild.\n",
            "\n",
            "Cheetah lives in the wild.\n",
            "\n",
            "Leopard lives in the wild.\n",
            "\n"
          ]
        }
      ],
      "source": [
        "def show_messages(wild_animals):\n",
        "    for animal in wild_animals:\n",
        "        txtmessage = f'{animal} lives in the wild.\\n'\n",
        "        print(txtmessage)\n",
        "w_animals = ['Tiger', 'Lion', 'Cheetah', 'Leopard']\n",
        "show_messages(w_animals)"
      ]
    },
    {
      "cell_type": "markdown",
      "id": "a8bcea3c",
      "metadata": {
        "id": "a8bcea3c"
      },
      "source": [
        "## Question 20\n",
        "\n",
        "**Sending Messages:** Start with a copy of your program from Question 19. Write a function called `send_messages()` that prints each text message and moves each message to a new list called `sent_messages` as it’s printed. After calling the function, print both of your lists to make sure the messages were moved correctly."
      ]
    },
    {
      "cell_type": "code",
      "execution_count": 23,
      "id": "c5340719",
      "metadata": {
        "colab": {
          "base_uri": "https://localhost:8080/"
        },
        "id": "c5340719",
        "outputId": "7bd48ec5-7b7d-4f40-ee48-44eade2f0a50"
      },
      "outputs": [
        {
          "output_type": "stream",
          "name": "stdout",
          "text": [
            "Tiger lives in the wild.\n",
            "\n",
            "Lion lives in the wild.\n",
            "\n",
            "Cheetah lives in the wild.\n",
            "\n",
            "Leopard lives in the wild.\n",
            "\n",
            "Sending message: Leopard\n",
            "Sending message: Cheetah\n",
            "Sending message: Lion\n",
            "Sending message: Tiger\n",
            "\n",
            "The following messages have been sent:\n",
            "Leopard\n",
            "Cheetah\n",
            "Lion\n",
            "Tiger\n"
          ]
        }
      ],
      "source": [
        "def show_messages(wild_animals):\n",
        "    for animal in wild_animals:\n",
        "        txtmessage = f'{animal} lives in the wild.\\n'\n",
        "        print(txtmessage)\n",
        "w_animals = ['Tiger', 'Lion', 'Cheetah', 'Leopard']\n",
        "show_messages(w_animals)\n",
        "\n",
        "def send_messages(unsent_messages, sent_messages):\n",
        "    while unsent_messages:\n",
        "        current_message = unsent_messages.pop()\n",
        "        print(f\"Sending message: {current_message}\")\n",
        "        sent_messages.append(current_message)\n",
        "        \n",
        "def show_sent_messages(sent_messages):\n",
        "    print(\"\\nThe following messages have been sent:\")\n",
        "    for sent_msg in sent_messages:\n",
        "        print(sent_msg)\n",
        "        \n",
        "unsent_messages = w_animals\n",
        "sent_messages = []\n",
        "\n",
        "send_messages(unsent_messages, sent_messages)\n",
        "show_sent_messages(sent_messages)"
      ]
    },
    {
      "cell_type": "code",
      "execution_count": 23,
      "id": "013b5e6d-289c-4184-94ef-2c790dea9880",
      "metadata": {
        "id": "013b5e6d-289c-4184-94ef-2c790dea9880"
      },
      "outputs": [],
      "source": []
    },
    {
      "cell_type": "markdown",
      "id": "c98f1dd0",
      "metadata": {
        "id": "c98f1dd0"
      },
      "source": [
        "## Question 21\n",
        "\n",
        "**Learning Python:** Open a blank file in your text editor and write a few lines summarizing what you’ve learned about Python so far. Start each line with the phrase _In Python you can. . .._ Save the file as _learning_python.txt_ in the same directory as your exercises from this chapter. Write a program that reads the file and prints what you wrote three times. Print the contents once by reading in the entire file, once by looping over the file object, and once by storing the lines in a list and then working with them outside the _with_ block."
      ]
    },
    {
      "cell_type": "code",
      "execution_count": 24,
      "id": "cb5da040",
      "metadata": {
        "colab": {
          "base_uri": "https://localhost:8080/"
        },
        "id": "cb5da040",
        "outputId": "b71d317e-57d0-4456-8b63-d8597d264d96"
      },
      "outputs": [
        {
          "output_type": "stream",
          "name": "stdout",
          "text": [
            "learning_python2.txt already exists. Skip downloading. Set overwrite=True to overwrite.\n",
            "In python there are different rules you can follow to name a variable and also different kinds or types of data you can work with.\n",
            "In python there are different rules you can follow to name a variable and also different kinds or types of data you can work with.\n",
            "In python there are different rules you can follow to name a variable and also different kinds or types of data you can work with.\n",
            "\n",
            "\n",
            "In python you can, for example, make a simple list, work with the individual elements in a list using list's methods and python's functions\n",
            "In python you can, for example, make a simple list, work with the individual elements in a list using list's methods and python's functions\n",
            "In python you can, for example, make a simple list, work with the individual elements in a list using list's methods and python's functions\n",
            "\n",
            "\n",
            "In python you can examine the current state of a program and respond appropriately to that state using the if statement, i.e carrying out one or more tests in a specified order.\n",
            "In python you can examine the current state of a program and respond appropriately to that state using the if statement, i.e carrying out one or more tests in a specified order.\n",
            "In python you can examine the current state of a program and respond appropriately to that state using the if statement, i.e carrying out one or more tests in a specified order.\n",
            "\n",
            "\n",
            "In python you can solve an end user's problem by obtaining some information from the user using the input function.\n",
            "In python you can solve an end user's problem by obtaining some information from the user using the input function.\n",
            "In python you can solve an end user's problem by obtaining some information from the user using the input function.\n",
            "\n",
            "\n",
            "In python you can iterate tasks for an indefinite or definite number of times until the task is finished using the loop function.\n",
            "In python you can iterate tasks for an indefinite or definite number of times until the task is finished using the loop function.\n",
            "In python you can iterate tasks for an indefinite or definite number of times until the task is finished using the loop function.\n",
            "\n",
            "\n",
            "In python you can create a function to perform a particular task and then call the function.\n",
            "In python you can create a function to perform a particular task and then call the function.\n",
            "In python you can create a function to perform a particular task and then call the function.\n",
            "\n",
            "\n",
            "In python you read or open files, and save data that will make your programs easier for people to use.\n",
            "In python you read or open files, and save data that will make your programs easier for people to use.\n",
            "In python you read or open files, and save data that will make your programs easier for people to use.\n",
            "\n",
            "\n",
            "In python there are different rules you can follow to name a variable and also different kinds or types of data you can work with.\n",
            "In python you can, for example, make a simple list, work with the individual elements in a list using list's methods and python's functions\n",
            "In python you can examine the current state of a program and respond appropriately to that state using the if statement, i.e carrying out one or more tests in a specified order.\n",
            "In python you can solve an end user's problem by obtaining some information from the user using the input function.\n",
            "In python you can iterate tasks for an indefinite or definite number of times until the task is finished using the loop function.\n",
            "In python you can create a function to perform a particular task and then call the function.\n",
            "In python you read or open files, and save data that will make your programs easier for people to use.\n",
            "\n",
            "In python there are different rules you can follow to name a variable and also different kinds or types of data you can work with.\n",
            "\n",
            "In python you can, for example, make a simple list, work with the individual elements in a list using list's methods and python's functions\n",
            "\n",
            "In python you can examine the current state of a program and respond appropriately to that state using the if statement, i.e carrying out one or more tests in a specified order.\n",
            "\n",
            "In python you can solve an end user's problem by obtaining some information from the user using the input function.\n",
            "\n",
            "In python you can iterate tasks for an indefinite or definite number of times until the task is finished using the loop function.\n",
            "\n",
            "In python you can create a function to perform a particular task and then call the function.\n",
            "\n",
            "In python you read or open files, and save data that will make your programs easier for people to use.\n",
            "\n",
            "\tI learnt that: In python there are different rules you can follow to name a variable and also different kinds or types of data you can work with.In python you can, for example, make a simple list, work with the individual elements in a list using list's methods and python's functionsIn python you can examine the current state of a program and respond appropriately to that state using the if statement, i.e carrying out one or more tests in a specified order.In python you can solve an end user's problem by obtaining some information from the user using the input function.In python you can iterate tasks for an indefinite or definite number of times until the task is finished using the loop function.In python you can create a function to perform a particular task and then call the function.In python you read or open files, and save data that will make your programs easier for people to use.\n"
          ]
        }
      ],
      "source": [
        "# program that reads the file and prints what you wrote three times.\n",
        "leafmap.download_file('https://raw.githubusercontent.com/lukmanfash/lukmanfash/main/learning_python2.txt')\n",
        "with open('learning_python2.txt') as file_object:\n",
        "    for knowledge in file_object:\n",
        "        print(f'{knowledge*3}\\n')\n",
        "        \n",
        "# contents -reading in the entire file,- looping over the file object, -storing the lines in a list and then working with them outside the with block.      \n",
        "with open('learning_python2.txt') as file_object:\n",
        "    contents = file_object.read()\n",
        "print(contents.rstrip())\n",
        "\n",
        "# storing the lines in a list\n",
        "with open('learning_python2.txt') as file_object:\n",
        "    lines = file_object.readlines()\n",
        "    \n",
        "#  working outside the with block by looping through the line list:\n",
        "for line in lines:\n",
        "        print(f'\\n{line.rstrip()}')\n",
        "\n",
        "Python_lesson = 'I learnt that: '\n",
        "for line in lines:\n",
        "    \n",
        "    Python_lesson += line.rstrip()\n",
        "print(f'\\n\\t{Python_lesson}')"
      ]
    },
    {
      "cell_type": "code",
      "execution_count": 24,
      "id": "fae656a4-49bc-481b-ad7b-069a586ef8bd",
      "metadata": {
        "id": "fae656a4-49bc-481b-ad7b-069a586ef8bd"
      },
      "outputs": [],
      "source": []
    },
    {
      "cell_type": "markdown",
      "id": "4a1a04ad",
      "metadata": {
        "id": "4a1a04ad"
      },
      "source": [
        "## Question 22\n",
        "\n",
        "**Learning C:** You can use the replace() method to replace any word in a string with a different word. Here’s a quick example showing how to replace 'dog' with 'cat' in a sentence:\n",
        "\n",
        "```text\n",
        "message = \"I really like dogs.\"\n",
        "message.replace('dog', 'cat')\n",
        "'I really like cats.'\n",
        "```\n",
        "\n",
        "Read in each line from the file you just created, _learning_python.txt_, and replace the word _Python_ with the name of another language, such as _C_. Print each modified line to the screen."
      ]
    },
    {
      "cell_type": "code",
      "execution_count": 37,
      "id": "b11b8018",
      "metadata": {
        "colab": {
          "base_uri": "https://localhost:8080/"
        },
        "id": "b11b8018",
        "outputId": "2d962350-ca2d-4020-d207-69b792780fe3"
      },
      "outputs": [
        {
          "output_type": "stream",
          "name": "stdout",
          "text": [
            "In C there are different rules you can follow to name a variable and also different kinds or types of data you can work with.\n",
            "In C you can, for example, make a simple list, work with the individual elements in a list using list's methods and C's functions\n",
            "In C you can examine the current state of a program and respond appropriately to that state using the if statement, i.e carrying out one or more tests in a specified order.\n",
            "In C you can solve an end user's problem by obtaining some information from the user using the input function.\n",
            "In C you can iterate tasks for an indefinite or definite number of times until the task is finished using the loop function.\n",
            "In C you can create a function to perform a particular task and then call the function.\n",
            "In C you read or open files, and save data that will make your programs easier for people to use.\n",
            "\n"
          ]
        }
      ],
      "source": [
        "pyth_file = 'learning_python2.txt'\n",
        "with open(pyth_file) as file_obj:\n",
        "    file_c = file_obj.read()\n",
        "print(file_c.replace('python', 'C'))"
      ]
    },
    {
      "cell_type": "markdown",
      "id": "0921244a",
      "metadata": {
        "id": "0921244a"
      },
      "source": [
        "## Question 23\n",
        "\n",
        "**Guest:** Write a program that prompts the user for their name. When they respond, write their name to a file called guest.txt."
      ]
    },
    {
      "cell_type": "code",
      "execution_count": 26,
      "id": "340d8f4b",
      "metadata": {
        "colab": {
          "base_uri": "https://localhost:8080/"
        },
        "id": "340d8f4b",
        "outputId": "3d5ed37e-ba90-4f4d-94d8-3d61d36b27a1"
      },
      "outputs": [
        {
          "name": "stdout",
          "output_type": "stream",
          "text": [
            "what is your name? Bill Gate\n"
          ]
        }
      ],
      "source": [
        "file_name = 'guest.txt'\n",
        "with open(file_name, 'w') as f:\n",
        "    f.write(input('what is your name? '))"
      ]
    },
    {
      "cell_type": "markdown",
      "id": "24b72b21",
      "metadata": {
        "id": "24b72b21"
      },
      "source": [
        "## Question 24\n",
        "\n",
        "**Guest Book:** Write a while loop that prompts users for their name. When they enter their name, print a greeting to the screen and add a line recording their visit in a file called guest_book.txt. Make sure each entry appears on a new line in the file."
      ]
    },
    {
      "cell_type": "code",
      "execution_count": 27,
      "id": "2326c653",
      "metadata": {
        "colab": {
          "base_uri": "https://localhost:8080/"
        },
        "id": "2326c653",
        "outputId": "b77a31bc-e5bf-46b1-80a8-e6c02e899898"
      },
      "outputs": [
        {
          "output_type": "stream",
          "name": "stdout",
          "text": [
            "please enter your name: Bill Clinton\n",
            "Hey Bill Clinton your are welcome!\n",
            "\n",
            "please enter your name: George Bush\n",
            "Hey George Bush your are welcome!\n",
            "\n",
            "please enter your name: George Washington\n",
            "Hey George Washington your are welcome!\n",
            "\n",
            "please enter your name: John Kennedy\n",
            "Hey John Kennedy your are welcome!\n",
            "\n",
            "please enter your name: done\n",
            "Goodbye!\n"
          ]
        }
      ],
      "source": [
        "name = ''\n",
        "while True:\n",
        "    name = input('please enter your name: ')\n",
        "    if name == \"done\" or name == \"Done\":\n",
        "        break\n",
        "    else:\n",
        "        print('Hey', name, 'your are welcome!\\n')\n",
        "        file_name = 'guest_books.txt'\n",
        "        with open(file_name, 'a') as file_objet:\n",
        "            file_objet.write(f'Hey, {name} your are welcome!\\n')\n",
        "print(\"Goodbye!\")"
      ]
    },
    {
      "cell_type": "markdown",
      "id": "f3075d32",
      "metadata": {
        "id": "f3075d32"
      },
      "source": [
        "## Question 25\n",
        "\n",
        "**Programming Poll:** Write a while loop that asks people why they like programming. Each time someone enters a reason, add their reason to a file that stores all the responses."
      ]
    },
    {
      "cell_type": "code",
      "execution_count": 28,
      "id": "042dfb04",
      "metadata": {
        "colab": {
          "base_uri": "https://localhost:8080/"
        },
        "id": "042dfb04",
        "outputId": "35b53f4c-1765-4f23-faff-0ad24ff41cf2"
      },
      "outputs": [
        {
          "output_type": "stream",
          "name": "stdout",
          "text": [
            "why do you like programming? it is fun to learn and also a valuable skillset to have.\n",
            "I like programming because it is fun to learn and also a valuable skillset to have. \n",
            "\n",
            "why do you like programming? it is a powerful tool for geospatial data science. \n",
            "I like programming because it is a powerful tool for geospatial data science.  \n",
            "\n",
            "why do you like programming? it is useful for web and game development, etc. \n",
            "I like programming because it is useful for web and game development, etc.  \n",
            "\n",
            "why do you like programming? q\n",
            "There are no other reasons\n"
          ]
        }
      ],
      "source": [
        "reason = ''\n",
        "while reason != 'q':\n",
        "    prompt = input('why do you like programming? ')\n",
        "    reason = prompt\n",
        "    if reason == 'q':\n",
        "        break\n",
        "    print('I like programming because', reason, '\\n')\n",
        "    file_nome = 'programming_pollz.txt'\n",
        "    with open(file_nome, 'a') as file_objt:\n",
        "        file_objt.write(f'why do you like programming? {reason} \\n')\n",
        "print('There are no other reasons')"
      ]
    },
    {
      "cell_type": "markdown",
      "id": "ed07a1ca",
      "metadata": {
        "id": "ed07a1ca"
      },
      "source": [
        "## Question 26\n",
        "\n",
        "**Addition:** One common problem when prompting for numerical input occurs when people provide text instead of numbers. When you try to convert the input to an int, you’ll get a ValueError. Write a program that prompts for two numbers. Add them together and print the result. Catch the ValueError if either input value is not a number, and print a friendly error message. Test your program by entering two numbers and then by entering some text instead of a number."
      ]
    },
    {
      "cell_type": "code",
      "execution_count": 29,
      "id": "eaf686f8",
      "metadata": {
        "colab": {
          "base_uri": "https://localhost:8080/"
        },
        "id": "eaf686f8",
        "outputId": "2d5671de-dd97-4c64-da36-e4fafb7775cb"
      },
      "outputs": [
        {
          "output_type": "stream",
          "name": "stdout",
          "text": [
            "\n",
            "first number: 100\n",
            "\n",
            "second number: 1100\n",
            "1200\n",
            "\n",
            "first number: 100\n",
            "\n",
            "second number: ttt\n",
            "Work with numbers only\n"
          ]
        }
      ],
      "source": [
        "Numba1 = input('\\nfirst number: ')\n",
        "Numba2 = input('\\nsecond number: ')\n",
        "try:\n",
        "    Numba1 = int(Numba1)\n",
        "    Numba2 = int(Numba2)\n",
        "except ValueError:\n",
        "    print('Work with numbers only')\n",
        "else:\n",
        "    print(Numba1 + Numba2)\n",
        "    \n",
        "#catching error    \n",
        "Numba1 = input('\\nfirst number: ')\n",
        "Numba2 = input('\\nsecond number: ')\n",
        "try:\n",
        "    Numba1 = int(Numba1)\n",
        "    Numba2 = int(Numba2)\n",
        "except ValueError:\n",
        "    print('Work with numbers only')\n",
        "else:\n",
        "    print(Numba1 + Numba2)"
      ]
    },
    {
      "cell_type": "markdown",
      "id": "09db5341",
      "metadata": {
        "id": "09db5341"
      },
      "source": [
        "## Question 27\n",
        "\n",
        "**Addition Calculator:** Wrap your code from Question 26 in a while loop so the user can continue entering numbers even if they make a mistake and enter text instead of a number."
      ]
    },
    {
      "cell_type": "code",
      "execution_count": 30,
      "id": "916c769d",
      "metadata": {
        "colab": {
          "base_uri": "https://localhost:8080/"
        },
        "id": "916c769d",
        "outputId": "682d970d-cad1-44fc-f4a9-d60d2e08c987"
      },
      "outputs": [
        {
          "output_type": "stream",
          "name": "stdout",
          "text": [
            "Enter two numbers, and I will add them.\n",
            "Enter 'q' to quit.\n",
            "\n",
            "first number: 100\n",
            "\n",
            "second number: 100\n",
            "Sum is equals: 200\n",
            "\n",
            "first number: 300\n",
            "\n",
            "second number: 400\n",
            "Sum is equals: 700\n",
            "\n",
            "first number: 40\n",
            "\n",
            "second number: rt\n",
            "Sorry, this is an invalid number\n",
            "\n",
            "first number: q\n",
            "OK, goodbye!\n"
          ]
        }
      ],
      "source": [
        "print('Enter two numbers, and I will add them.')\n",
        "print(\"Enter 'q' to quit.\")\n",
        "while True:\n",
        "    numb1 = input('\\nfirst number: ')\n",
        "    if numb1 == 'q':\n",
        "        break\n",
        "    numb2 = input('\\nsecond number: ')\n",
        "    if numb2 == 'q':\n",
        "        break\n",
        "    try:\n",
        "        Total = int(numb1) + int(numb2)\n",
        "    except:\n",
        "        print('Sorry, this is an invalid number')\n",
        "        continue\n",
        "    print(\"Sum is equals:\", Total)\n",
        "print('OK, goodbye!')"
      ]
    },
    {
      "cell_type": "markdown",
      "id": "288099a9",
      "metadata": {
        "id": "288099a9"
      },
      "source": [
        "## Question 28\n",
        "\n",
        "**Cats and Dogs:** Make two files, _cats.txt_ and _dogs.txt_. Store at least three names of cats in the first file and three names of dogs in the second file. Write a program that tries to read these files and print the contents of the file to the screen. Wrap your code in a `try-except` block to catch the `FileNotFound` error, and print a friendly message if a file is missing. Move one of the files to a different location on your system, and make sure the code in the `except` block executes properly."
      ]
    },
    {
      "cell_type": "code",
      "execution_count": 31,
      "id": "387672f6",
      "metadata": {
        "colab": {
          "base_uri": "https://localhost:8080/"
        },
        "id": "387672f6",
        "outputId": "81b2fbf9-4047-48a1-f06c-09e6e80b4976"
      },
      "outputs": [
        {
          "output_type": "stream",
          "name": "stdout",
          "text": [
            "Names of Cats:  Willow, Bella, Loki\n",
            "Names of Dogs:  Charlie, Cooper, Milo\n"
          ]
        }
      ],
      "source": [
        "filename1 = 'cats.txt'\n",
        "with open(filename1, 'w') as file_object1:\n",
        "    file_object1.write('Willow, Bella, Loki')\n",
        "with open(filename1) as file_object1:\n",
        "    contents1 = file_object1.read()\n",
        "    print('Names of Cats: ', contents1)\n",
        "\n",
        "filename2 = 'dogs.txt'\n",
        "with open(filename2, 'w') as file_object2:\n",
        "    file_object2.write('Charlie, Cooper, Milo')\n",
        "with open(filename2) as file_object2:\n",
        "    contents2 = file_object2.read()\n",
        "    print('Names of Dogs: ', contents2)"
      ]
    },
    {
      "cell_type": "code",
      "execution_count": 32,
      "id": "886b1333-e583-457a-bad3-9f1c4fe237af",
      "metadata": {
        "tags": [],
        "colab": {
          "base_uri": "https://localhost:8080/"
        },
        "id": "886b1333-e583-457a-bad3-9f1c4fe237af",
        "outputId": "c6d8f50c-aa26-43e6-ecdc-6bd0ee4d24ed"
      },
      "outputs": [
        {
          "output_type": "stream",
          "name": "stdout",
          "text": [
            "Names of Dogs:  Charlie, Cooper, Milo\n"
          ]
        }
      ],
      "source": [
        "filename1 = 'cats.txt'\n",
        "try:\n",
        "    with open(filename1) as file_object1:\n",
        "        contents1 = file_object1.read()\n",
        "except FileNotFoundError:\n",
        "    print(f\"Sorry, the file {filename1} does not exist.\")\n",
        "\n",
        "filename2 = 'dogs.txt'  \n",
        "try:\n",
        "    with open(filename2) as file_object2:\n",
        "        contents2 = file_object2.read()\n",
        "except FileNotFoundError:\n",
        "    print(f\"Sorry, the file {filename2} does not exist.\")\n",
        "print('Names of Dogs: ', contents2)"
      ]
    },
    {
      "cell_type": "code",
      "execution_count": 32,
      "id": "63824168-023a-4f48-8746-4847ee78d840",
      "metadata": {
        "id": "63824168-023a-4f48-8746-4847ee78d840"
      },
      "outputs": [],
      "source": []
    },
    {
      "cell_type": "markdown",
      "id": "e9d28546",
      "metadata": {
        "id": "e9d28546"
      },
      "source": [
        "## Question 29\n",
        "\n",
        "**Silent Cats and Dogs:** Modify your except block in Question 28 to fail silently if either file is missing."
      ]
    },
    {
      "cell_type": "code",
      "execution_count": 33,
      "id": "2b972722",
      "metadata": {
        "id": "2b972722"
      },
      "outputs": [],
      "source": [
        "def count_words(filename):\n",
        "    filename1 = 'cats.txt'\n",
        "    try:\n",
        "        with open(filename1) as file_object1:\n",
        "            contents1 = file_object1.read()\n",
        "    except FileNotFoundError:\n",
        "        pass\n",
        "\n",
        "    filename2 = 'dogs.txt'  \n",
        "    try:\n",
        "        with open(filename2) as file_object2:\n",
        "            contents2 = file_object2.read()\n",
        "    except FileNotFoundError:\n",
        "        print(f\"Sorry, the file {filename2} does not exist.\")\n",
        "        print('Names of Dogs: ', contents2)\n",
        "\n",
        "filenames = ['cats.txt', 'dogs.txt']\n",
        "for filename in filenames:\n",
        "    count_words(filename)"
      ]
    },
    {
      "cell_type": "code",
      "source": [],
      "metadata": {
        "id": "4t0paCw4ba9G"
      },
      "id": "4t0paCw4ba9G",
      "execution_count": 33,
      "outputs": []
    },
    {
      "cell_type": "markdown",
      "id": "241ffab1",
      "metadata": {
        "id": "241ffab1"
      },
      "source": [
        "## Question 30\n",
        "\n",
        "**Common Words:** Visit Project Gutenberg (<https://gutenberg.org/>) and find a few texts you’d like to analyze. Download the text files for these works, or copy the raw text from your browser into a text file on your computer. You can use the `count()` method to find out how many times a word or phrase appears in a string. For example, the following code counts the number of times 'row' appears in a string:"
      ]
    },
    {
      "cell_type": "code",
      "execution_count": 34,
      "id": "feb1e8f2-3033-4444-8ad8-67b04424ef51",
      "metadata": {
        "colab": {
          "base_uri": "https://localhost:8080/"
        },
        "id": "feb1e8f2-3033-4444-8ad8-67b04424ef51",
        "outputId": "848b5388-cbcd-442f-c495-68ca5dbbca97"
      },
      "outputs": [
        {
          "output_type": "stream",
          "name": "stdout",
          "text": [
            "wordcount.txt already exists. Skip downloading. Set overwrite=True to overwrite.\n",
            "He got the jackhammer all the way down to the ship before a devastating\n",
            "thought struck him. He'd forgotten that the hammer had a cracked 5R\n",
            "bit; it would fly to pieces on the diamond hardness of the hull.\n",
            "He sat down, stunned at the fact that he'd run out of things to try.\n",
            "The ship lay before him like some impenetrable fortress. Several\n",
            "precious minutes dragged by before Ballard could again calm his\n",
            "spinning brain. He still had forty minutes. Had he overlooked any other\n",
            "possibility of getting into the ship?\n",
            "\n",
            "\n",
            "Source: https://gutenberg.org/files/70347/70347-0.txt \n"
          ]
        },
        {
          "output_type": "execute_result",
          "data": {
            "text/plain": [
              "13"
            ]
          },
          "metadata": {},
          "execution_count": 34
        }
      ],
      "source": [
        "leafmap.download_file('https://raw.githubusercontent.com/lukmanfash/lukmanfash/main/wordcount.txt')\n",
        "with open('wordcount.txt') as f_object:\n",
        "    contentz = f_object.read()\n",
        "    print(contentz)\n",
        "contentz.lower().count('he ')"
      ]
    },
    {
      "cell_type": "markdown",
      "id": "5652cc4d",
      "metadata": {
        "id": "5652cc4d"
      },
      "source": [
        "Notice that converting the string to lowercase using lower() catches all appearances of the word you’re looking for, regardless of how it’s formatted.\n",
        "\n",
        "Write a program that reads the files you found at Project Gutenberg and determines how many times the word `the` appears in each text. This will be an approximation because it will also count words such as `then` and `there`. Try counting `the`, with a space in the string, and see how much lower your count is."
      ]
    },
    {
      "cell_type": "code",
      "execution_count": 35,
      "id": "e199b2bd-5cc7-4821-b4bb-626e39c41e21",
      "metadata": {
        "colab": {
          "base_uri": "https://localhost:8080/",
          "height": 52
        },
        "id": "e199b2bd-5cc7-4821-b4bb-626e39c41e21",
        "outputId": "0e401f91-fbca-4dfc-c3d6-be26e918a415"
      },
      "outputs": [
        {
          "output_type": "stream",
          "name": "stdout",
          "text": [
            "momentum.txt already exists. Skip downloading. Set overwrite=True to overwrite.\n"
          ]
        },
        {
          "output_type": "execute_result",
          "data": {
            "text/plain": [
              "'/content/momentum.txt'"
            ],
            "application/vnd.google.colaboratory.intrinsic+json": {
              "type": "string"
            }
          },
          "metadata": {},
          "execution_count": 35
        }
      ],
      "source": [
        "url = 'https://gutenberg.org/files/70347/70347-0.txt'\n",
        "geemap.download_file(url, 'momentum.txt')"
      ]
    },
    {
      "cell_type": "code",
      "execution_count": 36,
      "id": "a3009050-b2c7-4502-a9fb-46ccc0f6eb26",
      "metadata": {
        "colab": {
          "base_uri": "https://localhost:8080/"
        },
        "id": "a3009050-b2c7-4502-a9fb-46ccc0f6eb26",
        "outputId": "2500d370-93c6-4a02-e1ef-706b676e85a0"
      },
      "outputs": [
        {
          "output_type": "stream",
          "name": "stdout",
          "text": [
            "'The' appears 703 times in this document.\n"
          ]
        }
      ],
      "source": [
        "file = 'momentum.txt'\n",
        "\n",
        "with open(file, encoding = 'utf-8') as f:\n",
        "    lines = f.readlines()\n",
        "    \n",
        "the = []\n",
        "    \n",
        "for line in lines:\n",
        "    line.lower().count(' the ')\n",
        "    the.append(1)\n",
        "    \n",
        "q = len(the)\n",
        "print(f\"'The' appears {q} times in this document.\")"
      ]
    }
  ],
  "metadata": {
    "kernelspec": {
      "display_name": "Python 3 (ipykernel)",
      "language": "python",
      "name": "python3"
    },
    "language_info": {
      "codemirror_mode": {
        "name": "ipython",
        "version": 3
      },
      "file_extension": ".py",
      "mimetype": "text/x-python",
      "name": "python",
      "nbconvert_exporter": "python",
      "pygments_lexer": "ipython3",
      "version": "3.9.16"
    },
    "colab": {
      "provenance": [],
      "include_colab_link": true
    }
  },
  "nbformat": 4,
  "nbformat_minor": 5
}