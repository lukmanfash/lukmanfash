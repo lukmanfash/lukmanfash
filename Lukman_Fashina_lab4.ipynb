{
 "cells": [
  {
   "cell_type": "markdown",
   "id": "beb550f5",
   "metadata": {},
   "source": [
    "# Lab 4\n",
    "\n",
    "[![image](https://colab.research.google.com/assets/colab-badge.svg)](https://colab.research.google.com/github/giswqs/geosdemo/blob/master/docs/labs/lab4.ipynb)\n",
    "\n",
    "## Submission instructions\n",
    "\n",
    "1. Download the notebook from https://geosdemo.gishub.org/labs/lab4\n",
    "2. Complete the lab questions\n",
    "3. Restart Kernel and Run All Cells\n",
    "4. Upload the notebook to your GitHub repository\n",
    "5. Make sure the notebook has an `Open In Colab` badge. Click on the badge to make sure your notebook can be opened in Colab.\n",
    "6. Submit the link to the notebook on your GitHub repository to Canvas"
   ]
  },
  {
   "cell_type": "code",
   "execution_count": 1,
   "id": "bfc1ddc5",
   "metadata": {
    "vscode": {
     "languageId": "python"
    }
   },
   "outputs": [
    {
     "name": "stdout",
     "output_type": "stream",
     "text": [
      "Submitted time: 2023-03-08 22:06:17.533717\n"
     ]
    }
   ],
   "source": [
    "from datetime import datetime\n",
    "\n",
    "now = datetime.now()\n",
    "print(f\"Submitted time: {now}\")"
   ]
  },
  {
   "cell_type": "markdown",
   "id": "7e96934a",
   "metadata": {},
   "source": [
    "## Question 1\n",
    "\n",
    "**Personal Message:** Use a variable to represent a person’s name, and print a message to that person. Your message should be simple, such as, “Hello Eric, would you like to learn some Python today?”"
   ]
  },
  {
   "cell_type": "code",
   "execution_count": 2,
   "id": "063a8cb4",
   "metadata": {
    "tags": [],
    "vscode": {
     "languageId": "python"
    }
   },
   "outputs": [
    {
     "name": "stdout",
     "output_type": "stream",
     "text": [
      "Hello Eleanor, why do you want to learn Python?\n"
     ]
    }
   ],
   "source": [
    "nom = 'Eleanor'\n",
    "\n",
    "message = f\"Hello {nom}, why do you want to learn Python?\"\n",
    "print(message)"
   ]
  },
  {
   "cell_type": "markdown",
   "id": "83c4c9e9",
   "metadata": {},
   "source": [
    "## Question 2\n",
    "\n",
    "**Name Cases:** Use a variable to represent a person’s name, and then print that person’s name in lowercase, uppercase, and title case."
   ]
  },
  {
   "cell_type": "code",
   "execution_count": 3,
   "id": "35cfbbec",
   "metadata": {
    "tags": [],
    "vscode": {
     "languageId": "python"
    }
   },
   "outputs": [
    {
     "name": "stdout",
     "output_type": "stream",
     "text": [
      "eleanor\n",
      "ELEANOR\n",
      "Eleanor\n"
     ]
    }
   ],
   "source": [
    "nom = 'eleanor'\n",
    "print(nom.lower())\n",
    "print(nom.upper())\n",
    "print(nom.title())"
   ]
  },
  {
   "cell_type": "markdown",
   "id": "8c8e92e4",
   "metadata": {},
   "source": [
    "## Question 3\n",
    "\n",
    "**Famous Quote:** Find a quote from a famous person you admire. Print the quote and the name of its author. Your output should look something like the following, including the quotation marks:\n",
    "\n",
    "```\n",
    "Albert Einstein once said, “A person who never made a mistake never tried anything new.”\n",
    "```"
   ]
  },
  {
   "cell_type": "code",
   "execution_count": 4,
   "id": "3bed6cb5",
   "metadata": {
    "tags": [],
    "vscode": {
     "languageId": "python"
    }
   },
   "outputs": [
    {
     "name": "stdout",
     "output_type": "stream",
     "text": [
      "Nelson Mandela said and I quote: 'After climbing a great hill, one only finds that there are many more hills to climb.'\n"
     ]
    }
   ],
   "source": [
    "favorite_quote = \"After climbing a great hill, one only finds that there are many more hills to climb.\"\n",
    "print(f\"Nelson Mandela said and I quote: '{favorite_quote}'\")"
   ]
  },
  {
   "cell_type": "markdown",
   "id": "4b46d366",
   "metadata": {},
   "source": [
    "## Question 4\n",
    "\n",
    "**Stripping Names:** Use a variable to represent a person’s name, and include some whitespace characters at the beginning and end of the name. Make sure you use each character combination, \"\\t\" and \"\\n\", at least once.\n",
    "Print the name once, so the whitespace around the name is displayed. Then print the name using each of the three stripping functions, lstrip(), rstrip(), and strip()."
   ]
  },
  {
   "cell_type": "code",
   "execution_count": 5,
   "id": "bb5dbb0f",
   "metadata": {
    "tags": [],
    "vscode": {
     "languageId": "python"
    }
   },
   "outputs": [
    {
     "name": "stdout",
     "output_type": "stream",
     "text": [
      " Joseph Biden \n",
      " \n",
      "\tJoseph Biden \n",
      "Joseph Biden \n",
      " Joseph Biden\n",
      "Joseph Biden\n"
     ]
    }
   ],
   "source": [
    "fullname = \" Joseph Biden \"\n",
    "print(fullname)\n",
    "print(\" \\n\\tJoseph Biden \")\n",
    "print(fullname.lstrip())\n",
    "print(fullname.rstrip())\n",
    "print(fullname.strip())"
   ]
  },
  {
   "cell_type": "markdown",
   "id": "32cce0d9",
   "metadata": {},
   "source": [
    "## Question 5\n",
    "\n",
    "**Names:** Store the names of a few of your friends in a list called names. Print\n",
    "each person’s name by accessing each element in the list, one at a time."
   ]
  },
  {
   "cell_type": "code",
   "execution_count": 6,
   "id": "13da6459",
   "metadata": {
    "tags": [],
    "vscode": {
     "languageId": "python"
    }
   },
   "outputs": [
    {
     "name": "stdout",
     "output_type": "stream",
     "text": [
      "Franklin\n",
      "Eleanor\n",
      "George\n",
      "Mitchelle\n",
      "Eisenhower\n",
      "Ayoola\n"
     ]
    }
   ],
   "source": [
    "names = ['Franklin', 'Eleanor', 'George', 'Mitchelle', 'Eisenhower', 'Ayoola', 'Adegoke']\n",
    "print (names[0])\n",
    "print(names[1])\n",
    "print(names[2])\n",
    "print(names[3])\n",
    "print(names[4])\n",
    "print(names[5])"
   ]
  },
  {
   "cell_type": "markdown",
   "id": "aaaa5c8f",
   "metadata": {},
   "source": [
    "## Question 6\n",
    "\n",
    "**Your Own List:** Think of your favorite mode of transportation, such as a motorcycle or a car, and make a list that stores several examples. Use your list to print a series of statements about these items, such as “I would like to own a Honda motorcycle.”"
   ]
  },
  {
   "cell_type": "code",
   "execution_count": 7,
   "id": "eba0829e",
   "metadata": {
    "tags": [],
    "vscode": {
     "languageId": "python"
    }
   },
   "outputs": [
    {
     "name": "stdout",
     "output_type": "stream",
     "text": [
      "Tesla is an exotic brand of car to have, isn't it?\n",
      "Audi is an exotic brand of car to have, isn't it?\n",
      "Ferrari is an exotic brand of car to have, isn't it?\n",
      "BMW is an exotic brand of car to have, isn't it?\n",
      "Peugeot is an exotic brand of car to have, isn't it?\n",
      "Acura is an exotic brand of car to have, isn't it?\n",
      "Honda is an exotic brand of car to have, isn't it?\n",
      "Hyundai is an exotic brand of car to have, isn't it?\n"
     ]
    }
   ],
   "source": [
    "fav_transportmode = ['Tesla', 'Audi', 'Ferrari', 'BMW', 'Peugeot', 'Acura', 'Honda',  'Hyundai', ]\n",
    "\n",
    "for car in fav_transportmode:\n",
    "    print(f\"{car} is an exotic brand of car to have, isn't it?\")"
   ]
  },
  {
   "cell_type": "markdown",
   "id": "e4b4452f",
   "metadata": {},
   "source": [
    "## Question 7\n",
    "\n",
    "**Pizzas:** Think of at least three kinds of your favorite pizza. Store these pizza names in a list, and then use a for loop to print the name of each pizza.\n",
    "\n",
    "Modify your for loop to print a sentence using the name of the pizza instead of printing just the name of the pizza. For each pizza you should have one line of output containing a simple statement like _I like pepperoni pizza._"
   ]
  },
  {
   "cell_type": "code",
   "execution_count": 8,
   "id": "37cdb68e",
   "metadata": {
    "tags": [],
    "vscode": {
     "languageId": "python"
    }
   },
   "outputs": [
    {
     "name": "stdout",
     "output_type": "stream",
     "text": [
      "Memphis BBQ Chicken\n",
      " The Memphis BBQ Chicken pizza is my favorite.\n",
      "\n",
      "Deluxe\n",
      " The Deluxe pizza is my favorite.\n",
      "\n",
      "MeatZZa\n",
      " The MeatZZa pizza is my favorite.\n",
      "\n",
      "Buffalo Chicken\n",
      " The Buffalo Chicken pizza is my favorite.\n",
      "\n",
      "Bruschetta\n",
      " The Bruschetta pizza is my favorite.\n",
      "\n",
      "Spicy Hawaiian\n",
      " The Spicy Hawaiian pizza is my favorite.\n",
      "\n"
     ]
    }
   ],
   "source": [
    "favorite_pizzas = ['Memphis BBQ Chicken', 'Deluxe', 'MeatZZa', 'Buffalo Chicken', 'Bruschetta', 'Spicy Hawaiian']\n",
    "\n",
    "for pizza in favorite_pizzas:\n",
    "    print(pizza)\n",
    "    print(f\" The {pizza} pizza is my favorite.\\n\")"
   ]
  },
  {
   "cell_type": "markdown",
   "id": "b3b70e8e",
   "metadata": {},
   "source": [
    "Add a line at the end of your program, outside the for loop, that states how much you like pizza. The output should consist of three or more lines about the kinds of pizza you like and then an additional sentence, such as _I really love pizza!_"
   ]
  },
  {
   "cell_type": "code",
   "execution_count": 9,
   "id": "11b4528c",
   "metadata": {
    "tags": [],
    "vscode": {
     "languageId": "python"
    }
   },
   "outputs": [
    {
     "name": "stdout",
     "output_type": "stream",
     "text": [
      "The Memphis BBQ Chicken pizza is so irresistible!\n",
      "\n",
      "The Deluxe pizza is so irresistible!\n",
      "\n",
      "The MeatZZa pizza is so irresistible!\n",
      "\n",
      "The Buffalo Chicken pizza is so irresistible!\n",
      "\n",
      "The Bruschetta pizza is so irresistible!\n",
      "\n",
      "The Spicy Hawaiian pizza is so irresistible!\n",
      "\n",
      "Pizza has become my staple food!\n"
     ]
    }
   ],
   "source": [
    "for pizza in favorite_pizzas:\n",
    "    print(f'The {pizza} pizza is so irresistible!\\n')\n",
    "message = 'Pizza has become my staple food!'\n",
    "print(message)"
   ]
  },
  {
   "cell_type": "markdown",
   "id": "6e42f992",
   "metadata": {},
   "source": [
    "## Question 8\n",
    "\n",
    "**Animals:** Think of at least three different animals that have a common characteristic. Store the names of these animals in a list, and then use a for loop to print out the name of each animal.\n",
    "\n",
    "Modify your program to print a statement about each animal, such as _A dog would make a great pet._"
   ]
  },
  {
   "cell_type": "code",
   "execution_count": 10,
   "id": "7489fb55",
   "metadata": {
    "tags": [],
    "vscode": {
     "languageId": "python"
    }
   },
   "outputs": [
    {
     "name": "stdout",
     "output_type": "stream",
     "text": [
      "List of big cats: ['Lion', 'Tiger', 'Leopard', 'snow Leopard', 'Jaguar'].\n",
      "\n",
      "Lion\n",
      "Lion is a wild animal.\n",
      "\n",
      "Tiger\n",
      "Tiger is a wild animal.\n",
      "\n",
      "Leopard\n",
      "Leopard is a wild animal.\n",
      "\n",
      "snow Leopard\n",
      "snow Leopard is a wild animal.\n",
      "\n",
      "Jaguar\n",
      "Jaguar is a wild animal.\n",
      "\n"
     ]
    }
   ],
   "source": [
    "Big_Cats = ['Lion', 'Tiger', 'Leopard', 'snow Leopard', 'Jaguar']\n",
    "\n",
    "print(f'List of big cats: {Big_Cats}.\\n')\n",
    "\n",
    "for cat in Big_Cats:\n",
    "    print(cat)\n",
    "    print(f'{cat} is a wild animal.\\n')"
   ]
  },
  {
   "cell_type": "markdown",
   "id": "b4484392",
   "metadata": {},
   "source": [
    "Add a line at the end of your program stating what these animals have in common. You could print a sentence such as _Any of these animals would make a great pet!_"
   ]
  },
  {
   "cell_type": "code",
   "execution_count": 11,
   "id": "eb9f8e19",
   "metadata": {
    "tags": [],
    "vscode": {
     "languageId": "python"
    }
   },
   "outputs": [
    {
     "name": "stdout",
     "output_type": "stream",
     "text": [
      "These animals i.e. ['Lion', 'Tiger', 'Leopard', 'snow Leopard', 'Jaguar'] are all wild canivorous animals belonging to the Panthera genus.\n"
     ]
    }
   ],
   "source": [
    "print(f'These animals i.e. {Big_Cats} are all wild canivorous animals belonging to the Panthera genus.')"
   ]
  },
  {
   "cell_type": "markdown",
   "id": "ba99ccb5",
   "metadata": {},
   "source": [
    "## Question 9\n",
    "\n",
    "**Summing a Hundred:** Make a list of the numbers from one to one hundred, and then use `min()` and `max()` to make sure your list actually starts at one and ends at one hundred. Also, use the sum() function to see how quickly Python can add a hundred numbers."
   ]
  },
  {
   "cell_type": "code",
   "execution_count": 12,
   "id": "6c6a27a9",
   "metadata": {
    "tags": [],
    "vscode": {
     "languageId": "python"
    }
   },
   "outputs": [
    {
     "name": "stdout",
     "output_type": "stream",
     "text": [
      "1\n",
      "2\n",
      "3\n",
      "4\n",
      "5\n",
      "6\n",
      "7\n",
      "8\n",
      "9\n",
      "10\n",
      "11\n",
      "12\n",
      "13\n",
      "14\n",
      "15\n",
      "16\n",
      "17\n",
      "18\n",
      "19\n",
      "20\n",
      "21\n",
      "22\n",
      "23\n",
      "24\n",
      "25\n",
      "26\n",
      "27\n",
      "28\n",
      "29\n",
      "30\n",
      "31\n",
      "32\n",
      "33\n",
      "34\n",
      "35\n",
      "36\n",
      "37\n",
      "38\n",
      "39\n",
      "40\n",
      "41\n",
      "42\n",
      "43\n",
      "44\n",
      "45\n",
      "46\n",
      "47\n",
      "48\n",
      "49\n",
      "50\n",
      "51\n",
      "52\n",
      "53\n",
      "54\n",
      "55\n",
      "56\n",
      "57\n",
      "58\n",
      "59\n",
      "60\n",
      "61\n",
      "62\n",
      "63\n",
      "64\n",
      "65\n",
      "66\n",
      "67\n",
      "68\n",
      "69\n",
      "70\n",
      "71\n",
      "72\n",
      "73\n",
      "74\n",
      "75\n",
      "76\n",
      "77\n",
      "78\n",
      "79\n",
      "80\n",
      "81\n",
      "82\n",
      "83\n",
      "84\n",
      "85\n",
      "86\n",
      "87\n",
      "88\n",
      "89\n",
      "90\n",
      "91\n",
      "92\n",
      "93\n",
      "94\n",
      "95\n",
      "96\n",
      "97\n",
      "98\n",
      "99\n",
      "100\n",
      " the minimum number in this list is: 1\n",
      "\n",
      " the maximum number in the list is: 100\n",
      "\n",
      " the sum of all the numbers in this list is: 5050\n",
      "\n"
     ]
    }
   ],
   "source": [
    "for numb in range(1,101):\n",
    "    print(numb)\n",
    "\n",
    "numbs = list (range(1, 101))\n",
    "print(f' the minimum number in this list is: {min(numbs)}\\n')\n",
    "print(f' the maximum number in the list is: {max(numbs)}\\n')\n",
    "print(f' the sum of all the numbers in this list is: {sum(numbs)}\\n')"
   ]
  },
  {
   "cell_type": "markdown",
   "id": "d165cd3c",
   "metadata": {},
   "source": [
    "## Question 10\n",
    "\n",
    "**Odd Numbers:** Use the third argument of the `range()` function to make a list of the odd numbers from 1 to 20. Use a `for` loop to print each number."
   ]
  },
  {
   "cell_type": "code",
   "execution_count": 13,
   "id": "d276920a",
   "metadata": {
    "tags": [],
    "vscode": {
     "languageId": "python"
    }
   },
   "outputs": [
    {
     "name": "stdout",
     "output_type": "stream",
     "text": [
      "1\n",
      "3\n",
      "5\n",
      "7\n",
      "9\n",
      "11\n",
      "13\n",
      "15\n",
      "17\n",
      "19\n"
     ]
    }
   ],
   "source": [
    "Odd_numbs = list(range(1,20,2))\n",
    "for odd in Odd_numbs:\n",
    "    print(odd)"
   ]
  },
  {
   "cell_type": "markdown",
   "id": "9e49d9eb",
   "metadata": {},
   "source": [
    "## Question 11\n",
    "\n",
    "**Threes:** Make a list of the multiples of 3 from 3 to 30. Use a `for` loop to print the numbers in your list."
   ]
  },
  {
   "cell_type": "code",
   "execution_count": 14,
   "id": "4ff24fc6",
   "metadata": {
    "tags": [],
    "vscode": {
     "languageId": "python"
    }
   },
   "outputs": [
    {
     "name": "stdout",
     "output_type": "stream",
     "text": [
      "3\n",
      "6\n",
      "9\n",
      "12\n",
      "15\n",
      "18\n",
      "21\n",
      "24\n",
      "27\n",
      "30\n"
     ]
    }
   ],
   "source": [
    "Threes_list = list(range(3,31,3))\n",
    "for multiple in Threes_list:\n",
    "    print(multiple)"
   ]
  },
  {
   "cell_type": "markdown",
   "id": "dbcce457",
   "metadata": {},
   "source": [
    "## Question 12\n",
    "\n",
    "**Cube Comprehension:** Use a list comprehension to generate a list of the first 10 cubes."
   ]
  },
  {
   "cell_type": "code",
   "execution_count": 15,
   "id": "df0901f8",
   "metadata": {
    "tags": [],
    "vscode": {
     "languageId": "python"
    }
   },
   "outputs": [
    {
     "name": "stdout",
     "output_type": "stream",
     "text": [
      "1\n",
      "8\n",
      "27\n",
      "64\n",
      "125\n",
      "216\n",
      "343\n",
      "512\n",
      "729\n",
      "1000\n"
     ]
    }
   ],
   "source": [
    "Cubes_list = [value**3 for value in range (1, 11)]\n",
    "for cube in Cubes_list:\n",
    "    print(cube)"
   ]
  },
  {
   "cell_type": "markdown",
   "id": "c6946e7b",
   "metadata": {},
   "source": [
    "## Question 13\n",
    "\n",
    "**Slices:** Using one of the programs you wrote in this lab, add several lines to the end of the program that do the following:\n",
    "\n",
    "Print the message _The first three items in the list are:_. Then use a slice to print the first three items from that program’s list."
   ]
  },
  {
   "cell_type": "code",
   "execution_count": 16,
   "id": "0e03e488",
   "metadata": {
    "tags": [],
    "vscode": {
     "languageId": "python"
    }
   },
   "outputs": [
    {
     "name": "stdout",
     "output_type": "stream",
     "text": [
      "List of big cats: ['Lion', 'Tiger', 'Leopard', 'snow Leopard', 'Jaguar'].\n",
      "\n",
      "Lion\n",
      "Lion is a wild animal.\n",
      "\n",
      "Tiger\n",
      "Tiger is a wild animal.\n",
      "\n",
      "Leopard\n",
      "Leopard is a wild animal.\n",
      "\n",
      "snow Leopard\n",
      "snow Leopard is a wild animal.\n",
      "\n",
      "Jaguar\n",
      "Jaguar is a wild animal.\n",
      "\n",
      "The first three items in the list are:. ['Lion', 'Tiger', 'Leopard']\n"
     ]
    }
   ],
   "source": [
    "# Program from Question 8: slicing the list for the forst 3 elements\n",
    "\n",
    "Big_Cats = ['Lion', 'Tiger', 'Leopard', 'snow Leopard', 'Jaguar']\n",
    "\n",
    "print(f'List of big cats: {Big_Cats}.\\n')\n",
    "\n",
    "for cat in Big_Cats:\n",
    "    print(cat)\n",
    "    print(f'{cat} is a wild animal.\\n')\n",
    "    \n",
    "print(f'The first three items in the list are:. {Big_Cats[:3]}')"
   ]
  },
  {
   "cell_type": "markdown",
   "id": "6f88722c",
   "metadata": {},
   "source": [
    "Print the message _Three items from the middle of the list are:_. Use a slice to print three items from the middle of the list."
   ]
  },
  {
   "cell_type": "code",
   "execution_count": 17,
   "id": "6859a061",
   "metadata": {
    "tags": [],
    "vscode": {
     "languageId": "python"
    }
   },
   "outputs": [
    {
     "name": "stdout",
     "output_type": "stream",
     "text": [
      "Three items from the middle of the list are:. ['Tiger', 'Leopard', 'snow Leopard']\n"
     ]
    }
   ],
   "source": [
    "print(f'Three items from the middle of the list are:. {Big_Cats[1:4]}')"
   ]
  },
  {
   "cell_type": "markdown",
   "id": "0abc8cec",
   "metadata": {},
   "source": [
    "Print the message _The last three items in the list are:_. Use a slice to print the last three items in the list."
   ]
  },
  {
   "cell_type": "code",
   "execution_count": 18,
   "id": "64988cac",
   "metadata": {
    "tags": [],
    "vscode": {
     "languageId": "python"
    }
   },
   "outputs": [
    {
     "name": "stdout",
     "output_type": "stream",
     "text": [
      "The last three items in the list are:. ['Leopard', 'snow Leopard', 'Jaguar']\n"
     ]
    }
   ],
   "source": [
    "print(f'The last three items in the list are:. {Big_Cats[2:]}')"
   ]
  },
  {
   "cell_type": "markdown",
   "id": "36876b9d",
   "metadata": {},
   "source": [
    "## Question 14\n",
    "\n",
    "**Buffet:** A buffet-style restaurant offers only five basic foods. Think of five simple foods, and store them in a tuple.\n",
    "\n",
    "Use a for loop to print each food the restaurant offers."
   ]
  },
  {
   "cell_type": "code",
   "execution_count": 19,
   "id": "6f186d8a",
   "metadata": {
    "tags": [],
    "vscode": {
     "languageId": "python"
    }
   },
   "outputs": [
    {
     "name": "stdout",
     "output_type": "stream",
     "text": [
      "Chicken Piccata\n",
      "Vegetable Tortilla\n",
      "Crushed Potato Salad\n",
      "Pasta Nicoise\n",
      "Sausage rolls\n"
     ]
    }
   ],
   "source": [
    "Buffet = ('Chicken Piccata', 'Vegetable Tortilla', 'Crushed Potato Salad', 'Pasta Nicoise', 'Sausage rolls')\n",
    "for buf in Buffet:\n",
    "    print(buf)"
   ]
  },
  {
   "cell_type": "markdown",
   "id": "0a6ba7f3",
   "metadata": {},
   "source": [
    "The restaurant changes its menu, replacing two of the items with different foods. Add a line that rewrites the tuple, and then use a for loop to print each of the items on the revised menu."
   ]
  },
  {
   "cell_type": "code",
   "execution_count": 20,
   "id": "79b11cbc",
   "metadata": {
    "tags": [],
    "vscode": {
     "languageId": "python"
    }
   },
   "outputs": [
    {
     "name": "stdout",
     "output_type": "stream",
     "text": [
      "Initial buffet menu:\n",
      "Chicken Piccata\n",
      "Vegetable Tortilla\n",
      "Crushed Potato Salad\n",
      "Pasta Nicoise\n",
      "Sausage rolls\n",
      "\n",
      "Revised buffet menu:\n",
      "Chicken Piccata\n",
      "Vegetable Tortilla\n",
      "Crushed Potato Salad\n",
      "Roasted Asparagu\n",
      "Shiitake Mushrooms\n"
     ]
    }
   ],
   "source": [
    "print('Initial buffet menu:')\n",
    "for buf in Buffet:\n",
    "    print(buf)\n",
    "    \n",
    "Buffet = ('Chicken Piccata', 'Vegetable Tortilla', 'Crushed Potato Salad','Roasted Asparagu', 'Shiitake Mushrooms')\n",
    "print('\\nRevised buffet menu:')\n",
    "for buf in Buffet:\n",
    "    print(buf)"
   ]
  },
  {
   "cell_type": "markdown",
   "id": "337ac27d",
   "metadata": {},
   "source": [
    "## Question 15\n",
    "\n",
    "**Alien Colors:** Imagine an alien was just shot down in a game. Create a variable called `alien_color` and assign it a value of `green, yellow,` or `red`.\n",
    "\n",
    "-   Write an if statement to test whether the alien’s color is green. If it is, print a message that the player just earned 5 points.\n",
    "-   Write one version of this program that passes the if test and another that fails. (The version that fails will have no output.)"
   ]
  },
  {
   "cell_type": "code",
   "execution_count": 21,
   "id": "11138d48-74e8-4400-b1df-92ef24a90ada",
   "metadata": {
    "tags": []
   },
   "outputs": [
    {
     "name": "stdout",
     "output_type": "stream",
     "text": [
      "You just earned 5 points.\n",
      "You did not earn any points.\n"
     ]
    }
   ],
   "source": [
    "alien_color = 'yellow'\n",
    "if alien_color == 'yellow':\n",
    "    print('You just earned 5 points.')\n",
    "    \n",
    "alien_color = 'green'\n",
    "if alien_color != 'red':\n",
    "    print('You did not earn any points.')"
   ]
  },
  {
   "cell_type": "markdown",
   "id": "57465bab",
   "metadata": {},
   "source": [
    "## Question 16\n",
    "\n",
    "**Stages of Life:** Write an `if-elif-else` chain that determines a person’s stage of life. Set a value for the variable `age`, and then:\n",
    "\n",
    "-   If the person is less than 2 years old, print a message that the person is a baby.\n",
    "-   If the person is at least 2 years old but less than 4, print a message that the person is a toddler.\n",
    "-   If the person is at least 4 years old but less than 13, print a message that the person is a kid.\n",
    "-   If the person is at least 13 years old but less than 20, print a message that the person is a teenager.\n",
    "-   If the person is at least 20 years old but less than 65, print a message that the person is an adult."
   ]
  },
  {
   "cell_type": "code",
   "execution_count": 22,
   "id": "b09c364a",
   "metadata": {
    "tags": [],
    "vscode": {
     "languageId": "python"
    }
   },
   "outputs": [
    {
     "name": "stdout",
     "output_type": "stream",
     "text": [
      "65.5 = senior citizen\n"
     ]
    }
   ],
   "source": [
    "age = 65.5\n",
    "if age < 2:\n",
    "    stage_of_life = \"baby\"\n",
    "elif age < 4:\n",
    "    stage_of_life = \"toddler\"\n",
    "elif age < 13:\n",
    "    stage_of_life = \"kid\"\n",
    "elif age < 20:\n",
    "    stage_of_life = \"teenager\"\n",
    "elif age < 65:\n",
    "    stage_of_life = \"adult\"\n",
    "else :\n",
    "    stage_of_life = \"senior citizen\"\n",
    "print(str(age) + \" = \" + stage_of_life)"
   ]
  },
  {
   "cell_type": "markdown",
   "id": "96b3da06",
   "metadata": {},
   "source": [
    "## Question 17\n",
    "\n",
    "**Favorite Fruit:** Make a list of your favorite fruits, and then write a series of independent `if` statements that check for certain fruits in your list.\n",
    "\n",
    "-   Make a list of your three favorite fruits and call it favorite_fruits.\n",
    "-   Write five if statements. Each should check whether a certain kind of fruit is in your list. If the fruit is in your list, the if block should print a statement, such as You really like bananas!"
   ]
  },
  {
   "cell_type": "code",
   "execution_count": 23,
   "id": "fc58635c",
   "metadata": {
    "tags": [],
    "vscode": {
     "languageId": "python"
    }
   },
   "outputs": [
    {
     "name": "stdout",
     "output_type": "stream",
     "text": [
      "Banana is one of my favorite fruits.\n",
      "Water Melon is one of my favorite fruits.\n",
      "Pawpaw is one of my favorite fruits.\n"
     ]
    }
   ],
   "source": [
    "fav_fruits = ['Banana', 'Water Melon', 'Pawpaw']\n",
    "for fruit in fav_fruits:\n",
    "    if 'Banana' in fruit:\n",
    "        print(f'{fruit} is one of my favorite fruits.')\n",
    "    if 'Water Melon' in fruit:\n",
    "        print(f'{fruit} is one of my favorite fruits.')\n",
    "    if 'Strawberries' in fruit:\n",
    "        print(f'{fruit} is one of my favorite fruits.')\n",
    "    if 'Pawpaw' in fruit:\n",
    "        print(f'{fruit} is one of my favorite fruits.')\n",
    "    if 'Oranges' in fruit:\n",
    "        print(f'{fruit} is one of my favorite fruits.')"
   ]
  },
  {
   "cell_type": "markdown",
   "id": "71e4c6f1",
   "metadata": {},
   "source": [
    "## Question 18\n",
    "\n",
    "**Hello Admin:** Make a list of five or more usernames, including the name `admin`. Imagine you are writing code that will print a greeting to each user after they log in to a website. Loop through the list, and print a greeting to each user:\n",
    "\n",
    "-   If the username is 'admin', print a special greeting, such as _Hello admin, would you like to see a status report?_\n",
    "-   Otherwise, print a generic greeting, such as _Hello Jaden, thank you for logging in again_."
   ]
  },
  {
   "cell_type": "code",
   "execution_count": 24,
   "id": "651e8bf2",
   "metadata": {
    "tags": [],
    "vscode": {
     "languageId": "python"
    }
   },
   "outputs": [
    {
     "name": "stdout",
     "output_type": "stream",
     "text": [
      "Hello admin, you are welcome, note that you will be automatically signed out after 10 minutes of inactivity\n",
      "\n",
      "Hello joebiden, welcome back!\n",
      "\n",
      "Hello utk_05, welcome back!\n",
      "\n",
      "Hello clinton_pkwy05, welcome back!\n",
      "\n",
      "Hello Ajohnson01, welcome back!\n",
      "\n"
     ]
    }
   ],
   "source": [
    "usernames = ['admin', 'joebiden', 'utk_05', 'clinton_pkwy05', 'Ajohnson01']\n",
    "for names in usernames:\n",
    "    if 'admin' in names:\n",
    "        print(f'Hello {names}, you are welcome, note that you will be automatically signed out after 10 minutes of inactivity\\n')\n",
    "    else: \n",
    "        print(f'Hello {names}, welcome back!\\n')"
   ]
  },
  {
   "cell_type": "markdown",
   "id": "fd53a583",
   "metadata": {},
   "source": [
    "## Question 19\n",
    "\n",
    "**Checking Usernames:** Do the following to create a program that simulates how websites ensure that everyone has a unique username.\n",
    "\n",
    "-   Make a list of five or more usernames called `current_users`.\n",
    "-   Make another list of five usernames called `new_users`. Make sure one or two of the new usernames are also in the `current_users` list.\n",
    "-   Loop through the `new_users` list to see if each new username has already been used. If it has, print a message that the person will need to enter a new username. If a username has not been used, print a message saying that the username is available.\n",
    "-   Make sure your comparison is case insensitive. If 'John' has been used, 'JOHN' should not be accepted. (To do this, you’ll need to make a copy of `current_users` containing the lowercase versions of all existing users.)"
   ]
  },
  {
   "cell_type": "code",
   "execution_count": 25,
   "id": "9f1a4a8d",
   "metadata": {
    "tags": [],
    "vscode": {
     "languageId": "python"
    }
   },
   "outputs": [
    {
     "name": "stdout",
     "output_type": "stream",
     "text": [
      "Hello 'evelyn_90' great to have you here!\n",
      "\n",
      "Hello 'NETID077' great to have you here!\n",
      "\n",
      "Hello 'utk_66' great to have you here!\n",
      "\n",
      "Sorry, '@POTUS_46' already in use, try a new username:\n",
      "\n",
      "Sorry, 'joe_biden46' already in use, try a new username:\n",
      "\n"
     ]
    }
   ],
   "source": [
    "current_users = ['Newton_88', 'marxkarl01', '@POTUS_46', 'joe_biden46', 'Galileo3']\n",
    "new_users = ['evelyn_90', 'NETID077', 'utk_66', '@POTUS_46', 'joe_biden46']\n",
    "for nuser in new_users:\n",
    "    if nuser in current_users:\n",
    "        print(f\"Sorry, '{nuser}' already in use, try a new username:\\n\")\n",
    "    else:\n",
    "        print(f\"Hello '{nuser}' great to have you here!\\n\")"
   ]
  },
  {
   "cell_type": "markdown",
   "id": "20f8412b",
   "metadata": {},
   "source": [
    "## Question 20\n",
    "\n",
    "**Ordinal Numbers:** Ordinal numbers indicate their position in a list, such as _1st_ or _2nd_. Most ordinal numbers end in _th_, except 1, 2, and 3.\n",
    "\n",
    "-   Store the numbers 1 through 9 in a list.\n",
    "-   Loop through the list.\n",
    "-   Use an `if-elif-else` chain inside the loop to print the proper ordinal ending for each number. Your output should read \"1st 2nd 3rd 4th 5th 6th 7th 8th 9th\", and each result should be on a separate line."
   ]
  },
  {
   "cell_type": "code",
   "execution_count": 26,
   "id": "6231e1e4",
   "metadata": {
    "tags": [],
    "vscode": {
     "languageId": "python"
    }
   },
   "outputs": [
    {
     "name": "stdout",
     "output_type": "stream",
     "text": [
      "1st\n",
      "2nd\n",
      "3rd\n",
      "4th\n",
      "5th\n",
      "6th\n",
      "7th\n",
      "8th\n",
      "9th\n"
     ]
    }
   ],
   "source": [
    "# Ordinal numbers of 1- 9:\n",
    "\n",
    "for num in range(1, 10):\n",
    "    if num == 1:\n",
    "        print(str(num) + 'st')\n",
    "    elif num ==2:\n",
    "        print(str(num) + 'nd')\n",
    "    elif num ==3:\n",
    "        print(str(num) + 'rd')\n",
    "    else:\n",
    "        print(str(num) + 'th')"
   ]
  },
  {
   "cell_type": "code",
   "execution_count": null,
   "id": "cfefa041-37d6-413c-8729-d29de9003d65",
   "metadata": {},
   "outputs": [],
   "source": []
  }
 ],
 "metadata": {
  "kernelspec": {
   "display_name": "Python 3 (ipykernel)",
   "language": "python",
   "name": "python3"
  },
  "language_info": {
   "codemirror_mode": {
    "name": "ipython",
    "version": 3
   },
   "file_extension": ".py",
   "mimetype": "text/x-python",
   "name": "python",
   "nbconvert_exporter": "python",
   "pygments_lexer": "ipython3",
   "version": "3.10.4"
  }
 },
 "nbformat": 4,
 "nbformat_minor": 5
}
