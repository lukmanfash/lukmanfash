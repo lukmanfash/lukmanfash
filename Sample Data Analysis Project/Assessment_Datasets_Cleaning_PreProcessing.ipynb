{
 "cells": [
  {
   "cell_type": "markdown",
   "id": "4f4fba8e-84d6-4471-9bf8-1146e2df481b",
   "metadata": {},
   "source": [
    "### Data Cleaning and Preprocessing in Python"
   ]
  },
  {
   "cell_type": "code",
   "execution_count": 1,
   "id": "f7c241c2-a175-493e-88f6-545a810d167f",
   "metadata": {},
   "outputs": [],
   "source": [
    "# import pandas library\n",
    "\n",
    "import pandas as pd"
   ]
  },
  {
   "cell_type": "code",
   "execution_count": 2,
   "id": "c0b20ae8-6682-4927-86bf-0858bfadcdb7",
   "metadata": {},
   "outputs": [
    {
     "name": "stdout",
     "output_type": "stream",
     "text": [
      "<class 'pandas.core.frame.DataFrame'>\n",
      "RangeIndex: 82 entries, 0 to 81\n",
      "Data columns (total 8 columns):\n",
      " #   Column     Non-Null Count  Dtype  \n",
      "---  ------     --------------  -----  \n",
      " 0   ID         82 non-null     int64  \n",
      " 1   Name       82 non-null     object \n",
      " 2   Age        73 non-null     float64\n",
      " 3   Gender     82 non-null     object \n",
      " 4   City       82 non-null     object \n",
      " 5   Income     76 non-null     object \n",
      " 6   Year       81 non-null     float64\n",
      " 7   EntryDate  81 non-null     object \n",
      "dtypes: float64(2), int64(1), object(5)\n",
      "memory usage: 5.3+ KB\n"
     ]
    }
   ],
   "source": [
    "# read datasets (from local storage) into pandas dataframe\n",
    "assessment_table_df = pd.read_csv(r'C:\\Users\\FashinLuk\\Downloads\\Assessment_file\\AssessmentData.csv')\n",
    "\n",
    "#  concise summary of assessment_table_df\n",
    "assessment_table_df.info()"
   ]
  },
  {
   "cell_type": "code",
   "execution_count": 3,
   "id": "8defde81-2068-4442-a6ad-e03c29d9da2d",
   "metadata": {},
   "outputs": [
    {
     "data": {
      "text/plain": [
       "(82, 8)"
      ]
     },
     "execution_count": 3,
     "metadata": {},
     "output_type": "execute_result"
    }
   ],
   "source": [
    "# check assessment_table_df dimension:\n",
    "\n",
    "assessment_table_df.shape"
   ]
  },
  {
   "cell_type": "code",
   "execution_count": null,
   "id": "3abeea52-12a4-4f3f-8ebe-832d36a738ef",
   "metadata": {},
   "outputs": [],
   "source": []
  },
  {
   "cell_type": "markdown",
   "id": "d55208f3-ce3f-4060-bd54-41ab25c228ca",
   "metadata": {},
   "source": [
    "### Processing/Dealing with (near) Duplicates"
   ]
  },
  {
   "cell_type": "code",
   "execution_count": 4,
   "id": "a7a4714e-37a7-44a7-b62b-c204ad9e4dee",
   "metadata": {},
   "outputs": [
    {
     "data": {
      "text/plain": [
       "Index(['ID', 'Name', 'Age', 'Gender', 'City', 'Income', 'Year', 'EntryDate'], dtype='object')"
      ]
     },
     "execution_count": 4,
     "metadata": {},
     "output_type": "execute_result"
    }
   ],
   "source": [
    "#List of columns in the datasets\n",
    "\n",
    "assessment_table_df.columns"
   ]
  },
  {
   "cell_type": "code",
   "execution_count": 5,
   "id": "03151a33-4e2c-47be-8e82-7f75fd4a58df",
   "metadata": {},
   "outputs": [],
   "source": [
    "# check for duplicate rows based on a subset of columns ['Name', 'Age', 'Gender', 'City', 'Income', 'Year']\n",
    "\n",
    "# define column subset\n",
    "columns_to_check = ['Name', 'Age', 'Gender', 'City', 'Income', 'Year']\n",
    "\n",
    "#check for duplicate rows based on the specified columns\n",
    "duplicates = assessment_table_df[assessment_table_df.duplicated(columns_to_check)]\n",
    "\n",
    "# print(duplicates)"
   ]
  },
  {
   "cell_type": "code",
   "execution_count": 6,
   "id": "a336ce8e-17cd-447b-bb33-885e669ae672",
   "metadata": {},
   "outputs": [
    {
     "data": {
      "text/plain": [
       "(21, 8)"
      ]
     },
     "execution_count": 6,
     "metadata": {},
     "output_type": "execute_result"
    }
   ],
   "source": [
    "# How many duplicate rows are there in the dataset (from dimension)\n",
    "duplicates.shape"
   ]
  },
  {
   "cell_type": "code",
   "execution_count": 7,
   "id": "7efb0681-9ec8-43fb-afe8-190060d1c185",
   "metadata": {},
   "outputs": [
    {
     "data": {
      "text/plain": [
       "(61, 8)"
      ]
     },
     "execution_count": 7,
     "metadata": {},
     "output_type": "execute_result"
    }
   ],
   "source": [
    "# drop duplicates y keeping just the first instance of all the near duplicates\n",
    "assessment_table_df = assessment_table_df.drop_duplicates(columns_to_check, keep='first')\n",
    "# print(assessment_table_df)\n",
    "\n",
    "\n",
    "# remaining records\n",
    "assessment_table_df.shape"
   ]
  },
  {
   "cell_type": "code",
   "execution_count": null,
   "id": "fc390d04-77c2-4c41-8639-3b5405d4acc1",
   "metadata": {},
   "outputs": [],
   "source": []
  },
  {
   "cell_type": "code",
   "execution_count": null,
   "id": "e262425f-9bee-48fd-9fd2-e052e89ed137",
   "metadata": {},
   "outputs": [],
   "source": []
  },
  {
   "cell_type": "markdown",
   "id": "700d99c5-c813-423c-929e-a88e9abcd973",
   "metadata": {},
   "source": [
    "### Processing/Dealing with Data Types"
   ]
  },
  {
   "cell_type": "code",
   "execution_count": 8,
   "id": "53d68f4e-cc45-47eb-802a-9a628487dd0f",
   "metadata": {},
   "outputs": [
    {
     "name": "stdout",
     "output_type": "stream",
     "text": [
      "float64\n"
     ]
    }
   ],
   "source": [
    "# convert Income data type (from object) to numeric, and coercing errors to NaN\n",
    "\n",
    "assessment_table_df['Income'] = pd.to_numeric(assessment_table_df['Income'], errors = 'coerce')\n",
    "print(assessment_table_df['Income'].dtype)"
   ]
  },
  {
   "cell_type": "code",
   "execution_count": 9,
   "id": "1e68bbcf-877a-4045-8e52-ea4e0d469a82",
   "metadata": {},
   "outputs": [
    {
     "data": {
      "text/html": [
       "<div>\n",
       "<style scoped>\n",
       "    .dataframe tbody tr th:only-of-type {\n",
       "        vertical-align: middle;\n",
       "    }\n",
       "\n",
       "    .dataframe tbody tr th {\n",
       "        vertical-align: top;\n",
       "    }\n",
       "\n",
       "    .dataframe thead th {\n",
       "        text-align: right;\n",
       "    }\n",
       "</style>\n",
       "<table border=\"1\" class=\"dataframe\">\n",
       "  <thead>\n",
       "    <tr style=\"text-align: right;\">\n",
       "      <th></th>\n",
       "      <th>ID</th>\n",
       "      <th>Name</th>\n",
       "      <th>Age</th>\n",
       "      <th>Gender</th>\n",
       "      <th>City</th>\n",
       "      <th>Income</th>\n",
       "      <th>Year</th>\n",
       "      <th>EntryDate</th>\n",
       "    </tr>\n",
       "  </thead>\n",
       "  <tbody>\n",
       "    <tr>\n",
       "      <th>4</th>\n",
       "      <td>5</td>\n",
       "      <td>Alice Brown</td>\n",
       "      <td>30.0</td>\n",
       "      <td>Female</td>\n",
       "      <td>Hamilton</td>\n",
       "      <td>NaN</td>\n",
       "      <td>2021.0</td>\n",
       "      <td>2024-06-12</td>\n",
       "    </tr>\n",
       "    <tr>\n",
       "      <th>6</th>\n",
       "      <td>7</td>\n",
       "      <td>Michael Scott</td>\n",
       "      <td>NaN</td>\n",
       "      <td>-</td>\n",
       "      <td>London</td>\n",
       "      <td>NaN</td>\n",
       "      <td>2020.0</td>\n",
       "      <td>2024-02-14</td>\n",
       "    </tr>\n",
       "    <tr>\n",
       "      <th>22</th>\n",
       "      <td>23</td>\n",
       "      <td>George Brown</td>\n",
       "      <td>40.0</td>\n",
       "      <td>Male</td>\n",
       "      <td>Waterloo</td>\n",
       "      <td>NaN</td>\n",
       "      <td>2021.0</td>\n",
       "      <td>2024-05-10</td>\n",
       "    </tr>\n",
       "    <tr>\n",
       "      <th>27</th>\n",
       "      <td>28</td>\n",
       "      <td>Michael Scott</td>\n",
       "      <td>NaN</td>\n",
       "      <td>-</td>\n",
       "      <td>London</td>\n",
       "      <td>NaN</td>\n",
       "      <td>2022.0</td>\n",
       "      <td>2024-03-28</td>\n",
       "    </tr>\n",
       "    <tr>\n",
       "      <th>32</th>\n",
       "      <td>33</td>\n",
       "      <td>Alice Brown</td>\n",
       "      <td>30.0</td>\n",
       "      <td>Female</td>\n",
       "      <td>Niagara Falls</td>\n",
       "      <td>NaN</td>\n",
       "      <td>2023.0</td>\n",
       "      <td>2024-05-25</td>\n",
       "    </tr>\n",
       "    <tr>\n",
       "      <th>42</th>\n",
       "      <td>43</td>\n",
       "      <td>George Brown</td>\n",
       "      <td>40.0</td>\n",
       "      <td>Male</td>\n",
       "      <td>Greater Sudbury</td>\n",
       "      <td>NaN</td>\n",
       "      <td>2020.0</td>\n",
       "      <td>2024-02-25</td>\n",
       "    </tr>\n",
       "    <tr>\n",
       "      <th>56</th>\n",
       "      <td>57</td>\n",
       "      <td>Michael Scott</td>\n",
       "      <td>NaN</td>\n",
       "      <td>-</td>\n",
       "      <td>London</td>\n",
       "      <td>NaN</td>\n",
       "      <td>2023.0</td>\n",
       "      <td>2024-05-07</td>\n",
       "    </tr>\n",
       "    <tr>\n",
       "      <th>72</th>\n",
       "      <td>73</td>\n",
       "      <td>George Brown</td>\n",
       "      <td>40.0</td>\n",
       "      <td>Male</td>\n",
       "      <td>Waterloo</td>\n",
       "      <td>NaN</td>\n",
       "      <td>2020.0</td>\n",
       "      <td>2024-03-15</td>\n",
       "    </tr>\n",
       "  </tbody>\n",
       "</table>\n",
       "</div>"
      ],
      "text/plain": [
       "    ID           Name   Age  Gender             City  Income    Year  \\\n",
       "4    5    Alice Brown  30.0  Female         Hamilton     NaN  2021.0   \n",
       "6    7  Michael Scott   NaN       -           London     NaN  2020.0   \n",
       "22  23   George Brown  40.0    Male         Waterloo     NaN  2021.0   \n",
       "27  28  Michael Scott   NaN       -           London     NaN  2022.0   \n",
       "32  33    Alice Brown  30.0  Female    Niagara Falls     NaN  2023.0   \n",
       "42  43   George Brown  40.0    Male  Greater Sudbury     NaN  2020.0   \n",
       "56  57  Michael Scott   NaN       -           London     NaN  2023.0   \n",
       "72  73   George Brown  40.0    Male         Waterloo     NaN  2020.0   \n",
       "\n",
       "     EntryDate  \n",
       "4   2024-06-12  \n",
       "6   2024-02-14  \n",
       "22  2024-05-10  \n",
       "27  2024-03-28  \n",
       "32  2024-05-25  \n",
       "42  2024-02-25  \n",
       "56  2024-05-07  \n",
       "72  2024-03-15  "
      ]
     },
     "execution_count": 9,
     "metadata": {},
     "output_type": "execute_result"
    }
   ],
   "source": [
    "# Check for NaN values in Income column:\n",
    "nan_values = assessment_table_df[assessment_table_df['Income'].isna()]\n",
    "nan_values"
   ]
  },
  {
   "cell_type": "code",
   "execution_count": 10,
   "id": "3c1e2ab7-90aa-4297-be6f-89f4096408ef",
   "metadata": {},
   "outputs": [
    {
     "data": {
      "text/plain": [
       "(61, 8)"
      ]
     },
     "execution_count": 10,
     "metadata": {},
     "output_type": "execute_result"
    }
   ],
   "source": [
    "# remaining dataframe records\n",
    "assessment_table_df.shape"
   ]
  },
  {
   "cell_type": "code",
   "execution_count": null,
   "id": "d0f3c0b4-2a75-413a-a8e8-1d9c3267669e",
   "metadata": {},
   "outputs": [],
   "source": []
  },
  {
   "cell_type": "markdown",
   "id": "b4de85ef-39e8-47f0-8fdc-8730490c2e53",
   "metadata": {},
   "source": [
    "### Processing/Dealing with Inconsistent value: '-' (in Gender)"
   ]
  },
  {
   "cell_type": "code",
   "execution_count": 11,
   "id": "86366c93-2ef5-4037-a488-22562ca62c1f",
   "metadata": {},
   "outputs": [
    {
     "data": {
      "text/html": [
       "<div>\n",
       "<style scoped>\n",
       "    .dataframe tbody tr th:only-of-type {\n",
       "        vertical-align: middle;\n",
       "    }\n",
       "\n",
       "    .dataframe tbody tr th {\n",
       "        vertical-align: top;\n",
       "    }\n",
       "\n",
       "    .dataframe thead th {\n",
       "        text-align: right;\n",
       "    }\n",
       "</style>\n",
       "<table border=\"1\" class=\"dataframe\">\n",
       "  <thead>\n",
       "    <tr style=\"text-align: right;\">\n",
       "      <th></th>\n",
       "      <th>ID</th>\n",
       "      <th>Name</th>\n",
       "      <th>Age</th>\n",
       "      <th>City</th>\n",
       "      <th>Income</th>\n",
       "      <th>Year</th>\n",
       "      <th>EntryDate</th>\n",
       "    </tr>\n",
       "    <tr>\n",
       "      <th>Gender</th>\n",
       "      <th></th>\n",
       "      <th></th>\n",
       "      <th></th>\n",
       "      <th></th>\n",
       "      <th></th>\n",
       "      <th></th>\n",
       "      <th></th>\n",
       "    </tr>\n",
       "  </thead>\n",
       "  <tbody>\n",
       "    <tr>\n",
       "      <th>-</th>\n",
       "      <td>3</td>\n",
       "      <td>3</td>\n",
       "      <td>0</td>\n",
       "      <td>3</td>\n",
       "      <td>0</td>\n",
       "      <td>3</td>\n",
       "      <td>3</td>\n",
       "    </tr>\n",
       "    <tr>\n",
       "      <th>Female</th>\n",
       "      <td>35</td>\n",
       "      <td>35</td>\n",
       "      <td>33</td>\n",
       "      <td>35</td>\n",
       "      <td>33</td>\n",
       "      <td>35</td>\n",
       "      <td>35</td>\n",
       "    </tr>\n",
       "    <tr>\n",
       "      <th>Male</th>\n",
       "      <td>23</td>\n",
       "      <td>23</td>\n",
       "      <td>23</td>\n",
       "      <td>23</td>\n",
       "      <td>20</td>\n",
       "      <td>22</td>\n",
       "      <td>22</td>\n",
       "    </tr>\n",
       "  </tbody>\n",
       "</table>\n",
       "</div>"
      ],
      "text/plain": [
       "        ID  Name  Age  City  Income  Year  EntryDate\n",
       "Gender                                              \n",
       "-        3     3    0     3       0     3          3\n",
       "Female  35    35   33    35      33    35         35\n",
       "Male    23    23   23    23      20    22         22"
      ]
     },
     "execution_count": 11,
     "metadata": {},
     "output_type": "execute_result"
    }
   ],
   "source": [
    "# Distinct values in Gender:\n",
    "\n",
    "genderFrequency = assessment_table_df.groupby('Gender').count()\n",
    "genderFrequency"
   ]
  },
  {
   "cell_type": "code",
   "execution_count": 12,
   "id": "e0c9783f-72b2-4566-958d-4daa04e8f176",
   "metadata": {},
   "outputs": [
    {
     "data": {
      "text/plain": [
       "array(['Male', 'Female'], dtype=object)"
      ]
     },
     "execution_count": 12,
     "metadata": {},
     "output_type": "execute_result"
    }
   ],
   "source": [
    "# Filtering rows where Gender is either 'male' or 'female'\n",
    "assessment_table_df = assessment_table_df[(assessment_table_df['Gender'].str.lower() == 'male') | (assessment_table_df['Gender'].str.lower() == 'female')]\n",
    "\n",
    "\n",
    "assessment_table_df['Gender'].unique()"
   ]
  },
  {
   "cell_type": "code",
   "execution_count": 13,
   "id": "474597d0-2a23-454e-9da0-b19dd3054ee3",
   "metadata": {},
   "outputs": [
    {
     "data": {
      "text/plain": [
       "(58, 8)"
      ]
     },
     "execution_count": 13,
     "metadata": {},
     "output_type": "execute_result"
    }
   ],
   "source": [
    "# remaining dataframe records\n",
    "assessment_table_df.shape"
   ]
  },
  {
   "cell_type": "code",
   "execution_count": null,
   "id": "0a84df84-d560-4892-8ecb-13b74bd16300",
   "metadata": {},
   "outputs": [],
   "source": []
  },
  {
   "cell_type": "markdown",
   "id": "aea53a93-8c3d-4380-841c-bb09336da332",
   "metadata": {},
   "source": [
    "### Processing/Dealing with Missing Values (Age, Income, Year, EntryDate)"
   ]
  },
  {
   "cell_type": "code",
   "execution_count": 14,
   "id": "76733f66-073b-454a-8a96-ffcd1c2f4318",
   "metadata": {},
   "outputs": [],
   "source": [
    "# dealing with missing value in Age column: filling with another value (e.g. mean)\n",
    "mean_Age = round(assessment_table_df['Age'].mean(), 0)\n",
    "\n",
    "assessment_table_df['Age'].fillna(mean_Age, inplace=True)"
   ]
  },
  {
   "cell_type": "code",
   "execution_count": 15,
   "id": "6ed3923e-59ef-42f6-a7b1-66fdd78a43e8",
   "metadata": {},
   "outputs": [],
   "source": [
    "#Check new Age column for NaN \n",
    "# nan_values_age = assessment_table_df[assessment_table_df['Age'].isna()]\n",
    "# nan_values"
   ]
  },
  {
   "cell_type": "code",
   "execution_count": null,
   "id": "f20ad424-3ad3-472d-934e-418bca556d1d",
   "metadata": {},
   "outputs": [],
   "source": []
  },
  {
   "cell_type": "code",
   "execution_count": 16,
   "id": "4971b23e-06fb-4f7c-878c-0a566628915e",
   "metadata": {},
   "outputs": [],
   "source": [
    "# dealing with missing value in Income column: filling with another value (e.g. median)\n",
    "median_Income = assessment_table_df['Income'].median()\n",
    "\n",
    "assessment_table_df['Income'].fillna(median_Income, inplace=True)"
   ]
  },
  {
   "cell_type": "code",
   "execution_count": null,
   "id": "87d1ff3d-6574-4a85-8240-a4544d79151e",
   "metadata": {},
   "outputs": [],
   "source": []
  },
  {
   "cell_type": "code",
   "execution_count": 17,
   "id": "d87ebb26-a73f-45eb-819c-351e94db1942",
   "metadata": {},
   "outputs": [],
   "source": [
    "#Check new Income column for NaN \n",
    "\n",
    "# nan_values_Income = assessment_table_df[assessment_table_df['Income'].isna()]\n",
    "# nan_values"
   ]
  },
  {
   "cell_type": "code",
   "execution_count": null,
   "id": "92631b2c-3242-43d6-a3a5-1af5a442a0d2",
   "metadata": {},
   "outputs": [],
   "source": []
  },
  {
   "cell_type": "markdown",
   "id": "9a2ae252-b26b-4e11-b100-eed2c4cd86df",
   "metadata": {},
   "source": [
    "##### Drop record(s) where year and entrydate is null"
   ]
  },
  {
   "cell_type": "code",
   "execution_count": 18,
   "id": "6906af80-565c-4e46-a8f2-474c0b838fec",
   "metadata": {},
   "outputs": [],
   "source": [
    "#drop record where year and entrydate is null\n",
    "\n",
    "assessment_table_df.dropna(subset=['Year', 'EntryDate'], how ='all', inplace=True)"
   ]
  },
  {
   "cell_type": "code",
   "execution_count": 19,
   "id": "8b3a639d-38a4-41bc-bee0-35ef0d5da13b",
   "metadata": {},
   "outputs": [
    {
     "data": {
      "text/plain": [
       "ID           0\n",
       "Name         0\n",
       "Age          0\n",
       "Gender       0\n",
       "City         0\n",
       "Income       0\n",
       "Year         0\n",
       "EntryDate    0\n",
       "dtype: int64"
      ]
     },
     "execution_count": 19,
     "metadata": {},
     "output_type": "execute_result"
    }
   ],
   "source": [
    "# Check for Null post-processing \n",
    "\n",
    "assessment_table_df.isnull().sum() # assessment_table_df.isna().sum()"
   ]
  },
  {
   "cell_type": "code",
   "execution_count": 20,
   "id": "ffd79dad-1cea-491c-b073-689bbe7a804f",
   "metadata": {},
   "outputs": [
    {
     "data": {
      "text/plain": [
       "(57, 8)"
      ]
     },
     "execution_count": 20,
     "metadata": {},
     "output_type": "execute_result"
    }
   ],
   "source": [
    "# remaining dataframe records\n",
    "\n",
    "assessment_table_df.shape"
   ]
  },
  {
   "cell_type": "code",
   "execution_count": null,
   "id": "bcb88987-0114-4dfb-b917-6bfb795fbfd3",
   "metadata": {},
   "outputs": [],
   "source": []
  },
  {
   "cell_type": "markdown",
   "id": "37a33c59-eb0f-4209-9b63-5c48feaf4e09",
   "metadata": {},
   "source": [
    "#### Split the 'Name' column into 'Last Name' and 'First Name'"
   ]
  },
  {
   "cell_type": "code",
   "execution_count": 21,
   "id": "4951f1aa-8de5-4387-b016-617c04d8cf25",
   "metadata": {},
   "outputs": [
    {
     "data": {
      "text/html": [
       "<div>\n",
       "<style scoped>\n",
       "    .dataframe tbody tr th:only-of-type {\n",
       "        vertical-align: middle;\n",
       "    }\n",
       "\n",
       "    .dataframe tbody tr th {\n",
       "        vertical-align: top;\n",
       "    }\n",
       "\n",
       "    .dataframe thead th {\n",
       "        text-align: right;\n",
       "    }\n",
       "</style>\n",
       "<table border=\"1\" class=\"dataframe\">\n",
       "  <thead>\n",
       "    <tr style=\"text-align: right;\">\n",
       "      <th></th>\n",
       "      <th>ID</th>\n",
       "      <th>Last Name</th>\n",
       "      <th>First Name</th>\n",
       "      <th>Age</th>\n",
       "      <th>Gender</th>\n",
       "      <th>City</th>\n",
       "      <th>Income</th>\n",
       "      <th>Year</th>\n",
       "      <th>EntryDate</th>\n",
       "    </tr>\n",
       "  </thead>\n",
       "  <tbody>\n",
       "    <tr>\n",
       "      <th>0</th>\n",
       "      <td>1</td>\n",
       "      <td>John</td>\n",
       "      <td>Doe</td>\n",
       "      <td>28.0</td>\n",
       "      <td>Male</td>\n",
       "      <td>Toronto</td>\n",
       "      <td>5500.0</td>\n",
       "      <td>2021.0</td>\n",
       "      <td>2024-01-15</td>\n",
       "    </tr>\n",
       "    <tr>\n",
       "      <th>1</th>\n",
       "      <td>2</td>\n",
       "      <td>Jane</td>\n",
       "      <td>Smith</td>\n",
       "      <td>35.0</td>\n",
       "      <td>Female</td>\n",
       "      <td>Ottawa</td>\n",
       "      <td>6200.0</td>\n",
       "      <td>2020.0</td>\n",
       "      <td>2024-02-20</td>\n",
       "    </tr>\n",
       "    <tr>\n",
       "      <th>3</th>\n",
       "      <td>4</td>\n",
       "      <td>Bob</td>\n",
       "      <td>Johnson</td>\n",
       "      <td>35.0</td>\n",
       "      <td>Male</td>\n",
       "      <td>Mississauga</td>\n",
       "      <td>7000.0</td>\n",
       "      <td>2022.0</td>\n",
       "      <td>2024-01-25</td>\n",
       "    </tr>\n",
       "    <tr>\n",
       "      <th>4</th>\n",
       "      <td>5</td>\n",
       "      <td>Alice</td>\n",
       "      <td>Brown</td>\n",
       "      <td>30.0</td>\n",
       "      <td>Female</td>\n",
       "      <td>Hamilton</td>\n",
       "      <td>7000.0</td>\n",
       "      <td>2021.0</td>\n",
       "      <td>2024-06-12</td>\n",
       "    </tr>\n",
       "    <tr>\n",
       "      <th>5</th>\n",
       "      <td>6</td>\n",
       "      <td>Emily</td>\n",
       "      <td>Davis</td>\n",
       "      <td>45.0</td>\n",
       "      <td>Female</td>\n",
       "      <td>Brampton</td>\n",
       "      <td>8000.0</td>\n",
       "      <td>2023.0</td>\n",
       "      <td>2024-04-05</td>\n",
       "    </tr>\n",
       "  </tbody>\n",
       "</table>\n",
       "</div>"
      ],
      "text/plain": [
       "   ID Last Name First Name   Age  Gender         City  Income    Year  \\\n",
       "0   1      John        Doe  28.0    Male      Toronto  5500.0  2021.0   \n",
       "1   2      Jane      Smith  35.0  Female       Ottawa  6200.0  2020.0   \n",
       "3   4       Bob    Johnson  35.0    Male  Mississauga  7000.0  2022.0   \n",
       "4   5     Alice      Brown  30.0  Female     Hamilton  7000.0  2021.0   \n",
       "5   6     Emily      Davis  45.0  Female     Brampton  8000.0  2023.0   \n",
       "\n",
       "    EntryDate  \n",
       "0  2024-01-15  \n",
       "1  2024-02-20  \n",
       "3  2024-01-25  \n",
       "4  2024-06-12  \n",
       "5  2024-04-05  "
      ]
     },
     "execution_count": 21,
     "metadata": {},
     "output_type": "execute_result"
    }
   ],
   "source": [
    "# Split the 'Name' column into 'Last Name' and 'First Name'\n",
    "assessment_table_df[['Last Name', 'First Name']] = assessment_table_df['Name'].str.split(' ', n=1, expand=True)\n",
    "\n",
    "# Drop the original 'Name' column\n",
    "assessment_table_df = assessment_table_df.drop(columns=['Name'])\n",
    "\n",
    "# Reorder columns to place 'Last Name' and 'First Name' after 'ID'\n",
    "cols = ['ID', 'Last Name', 'First Name'] + [col for col in assessment_table_df.columns if col not in ['ID', 'Last Name', 'First Name']]\n",
    "assessment_table_df = assessment_table_df[cols]\n",
    "\n",
    "assessment_table_df.head()"
   ]
  },
  {
   "cell_type": "code",
   "execution_count": null,
   "id": "346d7b5e-bb2c-43e8-aaa7-6327de0b8be8",
   "metadata": {},
   "outputs": [],
   "source": []
  },
  {
   "cell_type": "code",
   "execution_count": 22,
   "id": "b0f33151-2977-4a95-8f3c-c8a933f1c45a",
   "metadata": {},
   "outputs": [
    {
     "name": "stdout",
     "output_type": "stream",
     "text": [
      "Dataframe has been written to output.xlsx\n"
     ]
    }
   ],
   "source": [
    "# Write the dataframe to an Excel file as cleaned assessment dataset\n",
    "assessment_table_df.to_excel('cleaned_assessmentdatasets.xlsx', index=False)\n",
    "\n",
    "print(\"Dataframe has been written to output.xlsx\")"
   ]
  },
  {
   "cell_type": "code",
   "execution_count": null,
   "id": "646a3e93-91d9-47a2-9b7a-d161c2e5f97e",
   "metadata": {},
   "outputs": [],
   "source": []
  }
 ],
 "metadata": {
  "kernelspec": {
   "display_name": "Python 3 (ipykernel)",
   "language": "python",
   "name": "python3"
  },
  "language_info": {
   "codemirror_mode": {
    "name": "ipython",
    "version": 3
   },
   "file_extension": ".py",
   "mimetype": "text/x-python",
   "name": "python",
   "nbconvert_exporter": "python",
   "pygments_lexer": "ipython3",
   "version": "3.11.7"
  }
 },
 "nbformat": 4,
 "nbformat_minor": 5
}
